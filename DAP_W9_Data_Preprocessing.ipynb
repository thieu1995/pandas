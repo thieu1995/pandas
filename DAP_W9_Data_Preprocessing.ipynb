{
  "nbformat": 4,
  "nbformat_minor": 0,
  "metadata": {
    "colab": {
      "provenance": [],
      "toc_visible": true,
      "include_colab_link": true
    },
    "kernelspec": {
      "name": "python3",
      "display_name": "Python 3"
    },
    "language_info": {
      "name": "python"
    }
  },
  "cells": [
    {
      "cell_type": "markdown",
      "metadata": {
        "id": "view-in-github",
        "colab_type": "text"
      },
      "source": [
        "<a href=\"https://colab.research.google.com/github/NguyenNgocCongAnh/pandas/blob/canh/DAP_W9_Data_Preprocessing.ipynb\" target=\"_parent\"><img src=\"https://colab.research.google.com/assets/colab-badge.svg\" alt=\"Open In Colab\"/></a>"
      ]
    },
    {
      "cell_type": "markdown",
      "source": [
        "# A.Preprocessing data with pandas\n",
        "\n",
        "* 1. Missing values\n",
        "* 2. Data formatting\n",
        "* 3. Dropping duplicates\n",
        "* 4. Data normalization\n",
        "* 5. Data standardization\n",
        "* 6. Data binning\n",
        "\n"
      ],
      "metadata": {
        "id": "35jw6FTBbb4Z"
      }
    },
    {
      "cell_type": "code",
      "execution_count": null,
      "metadata": {
        "colab": {
          "base_uri": "https://localhost:8080/",
          "height": 427
        },
        "id": "LkryJmYrbVhM",
        "outputId": "08c38d51-841d-4979-bbd1-0dbbd0722668"
      },
      "outputs": [
        {
          "output_type": "execute_result",
          "data": {
            "text/plain": [
              "   age     sex steroid  antivirals fatigue malaise anorexia liver_big  \\\n",
              "0   30    male   False       False   False   False    False     False   \n",
              "1   50  female   False       False    True   False    False     False   \n",
              "2   78  female    True       False    True   False    False      True   \n",
              "3   31  female     NaN        True   False   False    False      True   \n",
              "4   34  female    True       False   False   False    False      True   \n",
              "5   34  female    True       False   False   False    False      True   \n",
              "6   51  female   False       False    True   False     True      True   \n",
              "7   23  female    True       False   False   False    False      True   \n",
              "8   39  female    True       False    True   False    False      True   \n",
              "9   30  female    True       False   False   False    False      True   \n",
              "\n",
              "  liver_firm spleen_palpable spiders ascites varices  bilirubin  \\\n",
              "0      False           False   False   False   False        1.0   \n",
              "1      False           False   False   False   False        0.9   \n",
              "2      False           False   False   False   False        0.7   \n",
              "3      False           False   False   False   False        0.7   \n",
              "4      False           False   False   False   False        1.0   \n",
              "5      False           False   False   False   False        0.9   \n",
              "6      False            True    True   False   False        NaN   \n",
              "7      False           False   False   False   False        1.0   \n",
              "8       True           False   False   False   False        0.7   \n",
              "9      False           False   False   False   False        1.0   \n",
              "\n",
              "   alk_phosphate   sgot  albumin  protime  histology class  \n",
              "0           85.0   18.0      4.0      NaN      False  live  \n",
              "1          135.0   42.0      3.5      NaN      False  live  \n",
              "2           96.0   32.0      4.0      NaN      False  live  \n",
              "3           46.0   52.0      4.0     80.0      False  live  \n",
              "4            NaN  200.0      4.0      NaN      False  live  \n",
              "5           95.0   28.0      4.0     75.0      False  live  \n",
              "6            NaN    NaN      NaN      NaN      False   die  \n",
              "7            NaN    NaN      NaN      NaN      False  live  \n",
              "8            NaN   48.0      4.4      NaN      False  live  \n",
              "9            NaN  120.0      3.9      NaN      False  live  "
            ],
            "text/html": [
              "\n",
              "  <div id=\"df-244f32f2-d0b4-4a96-8059-72bc8df39a4c\">\n",
              "    <div class=\"colab-df-container\">\n",
              "      <div>\n",
              "<style scoped>\n",
              "    .dataframe tbody tr th:only-of-type {\n",
              "        vertical-align: middle;\n",
              "    }\n",
              "\n",
              "    .dataframe tbody tr th {\n",
              "        vertical-align: top;\n",
              "    }\n",
              "\n",
              "    .dataframe thead th {\n",
              "        text-align: right;\n",
              "    }\n",
              "</style>\n",
              "<table border=\"1\" class=\"dataframe\">\n",
              "  <thead>\n",
              "    <tr style=\"text-align: right;\">\n",
              "      <th></th>\n",
              "      <th>age</th>\n",
              "      <th>sex</th>\n",
              "      <th>steroid</th>\n",
              "      <th>antivirals</th>\n",
              "      <th>fatigue</th>\n",
              "      <th>malaise</th>\n",
              "      <th>anorexia</th>\n",
              "      <th>liver_big</th>\n",
              "      <th>liver_firm</th>\n",
              "      <th>spleen_palpable</th>\n",
              "      <th>spiders</th>\n",
              "      <th>ascites</th>\n",
              "      <th>varices</th>\n",
              "      <th>bilirubin</th>\n",
              "      <th>alk_phosphate</th>\n",
              "      <th>sgot</th>\n",
              "      <th>albumin</th>\n",
              "      <th>protime</th>\n",
              "      <th>histology</th>\n",
              "      <th>class</th>\n",
              "    </tr>\n",
              "  </thead>\n",
              "  <tbody>\n",
              "    <tr>\n",
              "      <th>0</th>\n",
              "      <td>30</td>\n",
              "      <td>male</td>\n",
              "      <td>False</td>\n",
              "      <td>False</td>\n",
              "      <td>False</td>\n",
              "      <td>False</td>\n",
              "      <td>False</td>\n",
              "      <td>False</td>\n",
              "      <td>False</td>\n",
              "      <td>False</td>\n",
              "      <td>False</td>\n",
              "      <td>False</td>\n",
              "      <td>False</td>\n",
              "      <td>1.0</td>\n",
              "      <td>85.0</td>\n",
              "      <td>18.0</td>\n",
              "      <td>4.0</td>\n",
              "      <td>NaN</td>\n",
              "      <td>False</td>\n",
              "      <td>live</td>\n",
              "    </tr>\n",
              "    <tr>\n",
              "      <th>1</th>\n",
              "      <td>50</td>\n",
              "      <td>female</td>\n",
              "      <td>False</td>\n",
              "      <td>False</td>\n",
              "      <td>True</td>\n",
              "      <td>False</td>\n",
              "      <td>False</td>\n",
              "      <td>False</td>\n",
              "      <td>False</td>\n",
              "      <td>False</td>\n",
              "      <td>False</td>\n",
              "      <td>False</td>\n",
              "      <td>False</td>\n",
              "      <td>0.9</td>\n",
              "      <td>135.0</td>\n",
              "      <td>42.0</td>\n",
              "      <td>3.5</td>\n",
              "      <td>NaN</td>\n",
              "      <td>False</td>\n",
              "      <td>live</td>\n",
              "    </tr>\n",
              "    <tr>\n",
              "      <th>2</th>\n",
              "      <td>78</td>\n",
              "      <td>female</td>\n",
              "      <td>True</td>\n",
              "      <td>False</td>\n",
              "      <td>True</td>\n",
              "      <td>False</td>\n",
              "      <td>False</td>\n",
              "      <td>True</td>\n",
              "      <td>False</td>\n",
              "      <td>False</td>\n",
              "      <td>False</td>\n",
              "      <td>False</td>\n",
              "      <td>False</td>\n",
              "      <td>0.7</td>\n",
              "      <td>96.0</td>\n",
              "      <td>32.0</td>\n",
              "      <td>4.0</td>\n",
              "      <td>NaN</td>\n",
              "      <td>False</td>\n",
              "      <td>live</td>\n",
              "    </tr>\n",
              "    <tr>\n",
              "      <th>3</th>\n",
              "      <td>31</td>\n",
              "      <td>female</td>\n",
              "      <td>NaN</td>\n",
              "      <td>True</td>\n",
              "      <td>False</td>\n",
              "      <td>False</td>\n",
              "      <td>False</td>\n",
              "      <td>True</td>\n",
              "      <td>False</td>\n",
              "      <td>False</td>\n",
              "      <td>False</td>\n",
              "      <td>False</td>\n",
              "      <td>False</td>\n",
              "      <td>0.7</td>\n",
              "      <td>46.0</td>\n",
              "      <td>52.0</td>\n",
              "      <td>4.0</td>\n",
              "      <td>80.0</td>\n",
              "      <td>False</td>\n",
              "      <td>live</td>\n",
              "    </tr>\n",
              "    <tr>\n",
              "      <th>4</th>\n",
              "      <td>34</td>\n",
              "      <td>female</td>\n",
              "      <td>True</td>\n",
              "      <td>False</td>\n",
              "      <td>False</td>\n",
              "      <td>False</td>\n",
              "      <td>False</td>\n",
              "      <td>True</td>\n",
              "      <td>False</td>\n",
              "      <td>False</td>\n",
              "      <td>False</td>\n",
              "      <td>False</td>\n",
              "      <td>False</td>\n",
              "      <td>1.0</td>\n",
              "      <td>NaN</td>\n",
              "      <td>200.0</td>\n",
              "      <td>4.0</td>\n",
              "      <td>NaN</td>\n",
              "      <td>False</td>\n",
              "      <td>live</td>\n",
              "    </tr>\n",
              "    <tr>\n",
              "      <th>5</th>\n",
              "      <td>34</td>\n",
              "      <td>female</td>\n",
              "      <td>True</td>\n",
              "      <td>False</td>\n",
              "      <td>False</td>\n",
              "      <td>False</td>\n",
              "      <td>False</td>\n",
              "      <td>True</td>\n",
              "      <td>False</td>\n",
              "      <td>False</td>\n",
              "      <td>False</td>\n",
              "      <td>False</td>\n",
              "      <td>False</td>\n",
              "      <td>0.9</td>\n",
              "      <td>95.0</td>\n",
              "      <td>28.0</td>\n",
              "      <td>4.0</td>\n",
              "      <td>75.0</td>\n",
              "      <td>False</td>\n",
              "      <td>live</td>\n",
              "    </tr>\n",
              "    <tr>\n",
              "      <th>6</th>\n",
              "      <td>51</td>\n",
              "      <td>female</td>\n",
              "      <td>False</td>\n",
              "      <td>False</td>\n",
              "      <td>True</td>\n",
              "      <td>False</td>\n",
              "      <td>True</td>\n",
              "      <td>True</td>\n",
              "      <td>False</td>\n",
              "      <td>True</td>\n",
              "      <td>True</td>\n",
              "      <td>False</td>\n",
              "      <td>False</td>\n",
              "      <td>NaN</td>\n",
              "      <td>NaN</td>\n",
              "      <td>NaN</td>\n",
              "      <td>NaN</td>\n",
              "      <td>NaN</td>\n",
              "      <td>False</td>\n",
              "      <td>die</td>\n",
              "    </tr>\n",
              "    <tr>\n",
              "      <th>7</th>\n",
              "      <td>23</td>\n",
              "      <td>female</td>\n",
              "      <td>True</td>\n",
              "      <td>False</td>\n",
              "      <td>False</td>\n",
              "      <td>False</td>\n",
              "      <td>False</td>\n",
              "      <td>True</td>\n",
              "      <td>False</td>\n",
              "      <td>False</td>\n",
              "      <td>False</td>\n",
              "      <td>False</td>\n",
              "      <td>False</td>\n",
              "      <td>1.0</td>\n",
              "      <td>NaN</td>\n",
              "      <td>NaN</td>\n",
              "      <td>NaN</td>\n",
              "      <td>NaN</td>\n",
              "      <td>False</td>\n",
              "      <td>live</td>\n",
              "    </tr>\n",
              "    <tr>\n",
              "      <th>8</th>\n",
              "      <td>39</td>\n",
              "      <td>female</td>\n",
              "      <td>True</td>\n",
              "      <td>False</td>\n",
              "      <td>True</td>\n",
              "      <td>False</td>\n",
              "      <td>False</td>\n",
              "      <td>True</td>\n",
              "      <td>True</td>\n",
              "      <td>False</td>\n",
              "      <td>False</td>\n",
              "      <td>False</td>\n",
              "      <td>False</td>\n",
              "      <td>0.7</td>\n",
              "      <td>NaN</td>\n",
              "      <td>48.0</td>\n",
              "      <td>4.4</td>\n",
              "      <td>NaN</td>\n",
              "      <td>False</td>\n",
              "      <td>live</td>\n",
              "    </tr>\n",
              "    <tr>\n",
              "      <th>9</th>\n",
              "      <td>30</td>\n",
              "      <td>female</td>\n",
              "      <td>True</td>\n",
              "      <td>False</td>\n",
              "      <td>False</td>\n",
              "      <td>False</td>\n",
              "      <td>False</td>\n",
              "      <td>True</td>\n",
              "      <td>False</td>\n",
              "      <td>False</td>\n",
              "      <td>False</td>\n",
              "      <td>False</td>\n",
              "      <td>False</td>\n",
              "      <td>1.0</td>\n",
              "      <td>NaN</td>\n",
              "      <td>120.0</td>\n",
              "      <td>3.9</td>\n",
              "      <td>NaN</td>\n",
              "      <td>False</td>\n",
              "      <td>live</td>\n",
              "    </tr>\n",
              "  </tbody>\n",
              "</table>\n",
              "</div>\n",
              "      <button class=\"colab-df-convert\" onclick=\"convertToInteractive('df-244f32f2-d0b4-4a96-8059-72bc8df39a4c')\"\n",
              "              title=\"Convert this dataframe to an interactive table.\"\n",
              "              style=\"display:none;\">\n",
              "        \n",
              "  <svg xmlns=\"http://www.w3.org/2000/svg\" height=\"24px\"viewBox=\"0 0 24 24\"\n",
              "       width=\"24px\">\n",
              "    <path d=\"M0 0h24v24H0V0z\" fill=\"none\"/>\n",
              "    <path d=\"M18.56 5.44l.94 2.06.94-2.06 2.06-.94-2.06-.94-.94-2.06-.94 2.06-2.06.94zm-11 1L8.5 8.5l.94-2.06 2.06-.94-2.06-.94L8.5 2.5l-.94 2.06-2.06.94zm10 10l.94 2.06.94-2.06 2.06-.94-2.06-.94-.94-2.06-.94 2.06-2.06.94z\"/><path d=\"M17.41 7.96l-1.37-1.37c-.4-.4-.92-.59-1.43-.59-.52 0-1.04.2-1.43.59L10.3 9.45l-7.72 7.72c-.78.78-.78 2.05 0 2.83L4 21.41c.39.39.9.59 1.41.59.51 0 1.02-.2 1.41-.59l7.78-7.78 2.81-2.81c.8-.78.8-2.07 0-2.86zM5.41 20L4 18.59l7.72-7.72 1.47 1.35L5.41 20z\"/>\n",
              "  </svg>\n",
              "      </button>\n",
              "      \n",
              "  <style>\n",
              "    .colab-df-container {\n",
              "      display:flex;\n",
              "      flex-wrap:wrap;\n",
              "      gap: 12px;\n",
              "    }\n",
              "\n",
              "    .colab-df-convert {\n",
              "      background-color: #E8F0FE;\n",
              "      border: none;\n",
              "      border-radius: 50%;\n",
              "      cursor: pointer;\n",
              "      display: none;\n",
              "      fill: #1967D2;\n",
              "      height: 32px;\n",
              "      padding: 0 0 0 0;\n",
              "      width: 32px;\n",
              "    }\n",
              "\n",
              "    .colab-df-convert:hover {\n",
              "      background-color: #E2EBFA;\n",
              "      box-shadow: 0px 1px 2px rgba(60, 64, 67, 0.3), 0px 1px 3px 1px rgba(60, 64, 67, 0.15);\n",
              "      fill: #174EA6;\n",
              "    }\n",
              "\n",
              "    [theme=dark] .colab-df-convert {\n",
              "      background-color: #3B4455;\n",
              "      fill: #D2E3FC;\n",
              "    }\n",
              "\n",
              "    [theme=dark] .colab-df-convert:hover {\n",
              "      background-color: #434B5C;\n",
              "      box-shadow: 0px 1px 3px 1px rgba(0, 0, 0, 0.15);\n",
              "      filter: drop-shadow(0px 1px 2px rgba(0, 0, 0, 0.3));\n",
              "      fill: #FFFFFF;\n",
              "    }\n",
              "  </style>\n",
              "\n",
              "      <script>\n",
              "        const buttonEl =\n",
              "          document.querySelector('#df-244f32f2-d0b4-4a96-8059-72bc8df39a4c button.colab-df-convert');\n",
              "        buttonEl.style.display =\n",
              "          google.colab.kernel.accessAllowed ? 'block' : 'none';\n",
              "\n",
              "        async function convertToInteractive(key) {\n",
              "          const element = document.querySelector('#df-244f32f2-d0b4-4a96-8059-72bc8df39a4c');\n",
              "          const dataTable =\n",
              "            await google.colab.kernel.invokeFunction('convertToInteractive',\n",
              "                                                     [key], {});\n",
              "          if (!dataTable) return;\n",
              "\n",
              "          const docLinkHtml = 'Like what you see? Visit the ' +\n",
              "            '<a target=\"_blank\" href=https://colab.research.google.com/notebooks/data_table.ipynb>data table notebook</a>'\n",
              "            + ' to learn more about interactive tables.';\n",
              "          element.innerHTML = '';\n",
              "          dataTable['output_type'] = 'display_data';\n",
              "          await google.colab.output.renderOutput(dataTable, element);\n",
              "          const docLink = document.createElement('div');\n",
              "          docLink.innerHTML = docLinkHtml;\n",
              "          element.appendChild(docLink);\n",
              "        }\n",
              "      </script>\n",
              "    </div>\n",
              "  </div>\n",
              "  "
            ]
          },
          "metadata": {},
          "execution_count": 2
        }
      ],
      "source": [
        "import pandas as pd\n",
        "df = pd.read_csv('https://raw.githubusercontent.com/thieu1995/csv-files/main/data/pandas/hepatitis.csv')\n",
        "df.head(10)"
      ]
    },
    {
      "cell_type": "code",
      "source": [],
      "metadata": {
        "id": "PnOb0PDjosbP"
      },
      "execution_count": null,
      "outputs": []
    },
    {
      "cell_type": "code",
      "source": [
        "df.describe()"
      ],
      "metadata": {
        "colab": {
          "base_uri": "https://localhost:8080/",
          "height": 300
        },
        "id": "po30-TP8euxI",
        "outputId": "8438edc6-ee3c-49d0-899f-d9c494c1d5fd"
      },
      "execution_count": null,
      "outputs": [
        {
          "output_type": "execute_result",
          "data": {
            "text/plain": [
              "              age   bilirubin  alk_phosphate       sgot     albumin  \\\n",
              "count  155.000000  149.000000     126.000000  151.00000  139.000000   \n",
              "mean    41.200000    1.427517     105.325397   85.89404    3.817266   \n",
              "std     12.565878    1.212149      51.508109   89.65089    0.651523   \n",
              "min      7.000000    0.300000      26.000000   14.00000    2.100000   \n",
              "25%     32.000000    0.700000      74.250000   31.50000    3.400000   \n",
              "50%     39.000000    1.000000      85.000000   58.00000    4.000000   \n",
              "75%     50.000000    1.500000     132.250000  100.50000    4.200000   \n",
              "max     78.000000    8.000000     295.000000  648.00000    6.400000   \n",
              "\n",
              "          protime  \n",
              "count   88.000000  \n",
              "mean    61.852273  \n",
              "std     22.875244  \n",
              "min      0.000000  \n",
              "25%     46.000000  \n",
              "50%     61.000000  \n",
              "75%     76.250000  \n",
              "max    100.000000  "
            ],
            "text/html": [
              "\n",
              "  <div id=\"df-5b112ef7-0c54-4fda-94cd-a140f1fee5fb\">\n",
              "    <div class=\"colab-df-container\">\n",
              "      <div>\n",
              "<style scoped>\n",
              "    .dataframe tbody tr th:only-of-type {\n",
              "        vertical-align: middle;\n",
              "    }\n",
              "\n",
              "    .dataframe tbody tr th {\n",
              "        vertical-align: top;\n",
              "    }\n",
              "\n",
              "    .dataframe thead th {\n",
              "        text-align: right;\n",
              "    }\n",
              "</style>\n",
              "<table border=\"1\" class=\"dataframe\">\n",
              "  <thead>\n",
              "    <tr style=\"text-align: right;\">\n",
              "      <th></th>\n",
              "      <th>age</th>\n",
              "      <th>bilirubin</th>\n",
              "      <th>alk_phosphate</th>\n",
              "      <th>sgot</th>\n",
              "      <th>albumin</th>\n",
              "      <th>protime</th>\n",
              "    </tr>\n",
              "  </thead>\n",
              "  <tbody>\n",
              "    <tr>\n",
              "      <th>count</th>\n",
              "      <td>155.000000</td>\n",
              "      <td>149.000000</td>\n",
              "      <td>126.000000</td>\n",
              "      <td>151.00000</td>\n",
              "      <td>139.000000</td>\n",
              "      <td>88.000000</td>\n",
              "    </tr>\n",
              "    <tr>\n",
              "      <th>mean</th>\n",
              "      <td>41.200000</td>\n",
              "      <td>1.427517</td>\n",
              "      <td>105.325397</td>\n",
              "      <td>85.89404</td>\n",
              "      <td>3.817266</td>\n",
              "      <td>61.852273</td>\n",
              "    </tr>\n",
              "    <tr>\n",
              "      <th>std</th>\n",
              "      <td>12.565878</td>\n",
              "      <td>1.212149</td>\n",
              "      <td>51.508109</td>\n",
              "      <td>89.65089</td>\n",
              "      <td>0.651523</td>\n",
              "      <td>22.875244</td>\n",
              "    </tr>\n",
              "    <tr>\n",
              "      <th>min</th>\n",
              "      <td>7.000000</td>\n",
              "      <td>0.300000</td>\n",
              "      <td>26.000000</td>\n",
              "      <td>14.00000</td>\n",
              "      <td>2.100000</td>\n",
              "      <td>0.000000</td>\n",
              "    </tr>\n",
              "    <tr>\n",
              "      <th>25%</th>\n",
              "      <td>32.000000</td>\n",
              "      <td>0.700000</td>\n",
              "      <td>74.250000</td>\n",
              "      <td>31.50000</td>\n",
              "      <td>3.400000</td>\n",
              "      <td>46.000000</td>\n",
              "    </tr>\n",
              "    <tr>\n",
              "      <th>50%</th>\n",
              "      <td>39.000000</td>\n",
              "      <td>1.000000</td>\n",
              "      <td>85.000000</td>\n",
              "      <td>58.00000</td>\n",
              "      <td>4.000000</td>\n",
              "      <td>61.000000</td>\n",
              "    </tr>\n",
              "    <tr>\n",
              "      <th>75%</th>\n",
              "      <td>50.000000</td>\n",
              "      <td>1.500000</td>\n",
              "      <td>132.250000</td>\n",
              "      <td>100.50000</td>\n",
              "      <td>4.200000</td>\n",
              "      <td>76.250000</td>\n",
              "    </tr>\n",
              "    <tr>\n",
              "      <th>max</th>\n",
              "      <td>78.000000</td>\n",
              "      <td>8.000000</td>\n",
              "      <td>295.000000</td>\n",
              "      <td>648.00000</td>\n",
              "      <td>6.400000</td>\n",
              "      <td>100.000000</td>\n",
              "    </tr>\n",
              "  </tbody>\n",
              "</table>\n",
              "</div>\n",
              "      <button class=\"colab-df-convert\" onclick=\"convertToInteractive('df-5b112ef7-0c54-4fda-94cd-a140f1fee5fb')\"\n",
              "              title=\"Convert this dataframe to an interactive table.\"\n",
              "              style=\"display:none;\">\n",
              "        \n",
              "  <svg xmlns=\"http://www.w3.org/2000/svg\" height=\"24px\"viewBox=\"0 0 24 24\"\n",
              "       width=\"24px\">\n",
              "    <path d=\"M0 0h24v24H0V0z\" fill=\"none\"/>\n",
              "    <path d=\"M18.56 5.44l.94 2.06.94-2.06 2.06-.94-2.06-.94-.94-2.06-.94 2.06-2.06.94zm-11 1L8.5 8.5l.94-2.06 2.06-.94-2.06-.94L8.5 2.5l-.94 2.06-2.06.94zm10 10l.94 2.06.94-2.06 2.06-.94-2.06-.94-.94-2.06-.94 2.06-2.06.94z\"/><path d=\"M17.41 7.96l-1.37-1.37c-.4-.4-.92-.59-1.43-.59-.52 0-1.04.2-1.43.59L10.3 9.45l-7.72 7.72c-.78.78-.78 2.05 0 2.83L4 21.41c.39.39.9.59 1.41.59.51 0 1.02-.2 1.41-.59l7.78-7.78 2.81-2.81c.8-.78.8-2.07 0-2.86zM5.41 20L4 18.59l7.72-7.72 1.47 1.35L5.41 20z\"/>\n",
              "  </svg>\n",
              "      </button>\n",
              "      \n",
              "  <style>\n",
              "    .colab-df-container {\n",
              "      display:flex;\n",
              "      flex-wrap:wrap;\n",
              "      gap: 12px;\n",
              "    }\n",
              "\n",
              "    .colab-df-convert {\n",
              "      background-color: #E8F0FE;\n",
              "      border: none;\n",
              "      border-radius: 50%;\n",
              "      cursor: pointer;\n",
              "      display: none;\n",
              "      fill: #1967D2;\n",
              "      height: 32px;\n",
              "      padding: 0 0 0 0;\n",
              "      width: 32px;\n",
              "    }\n",
              "\n",
              "    .colab-df-convert:hover {\n",
              "      background-color: #E2EBFA;\n",
              "      box-shadow: 0px 1px 2px rgba(60, 64, 67, 0.3), 0px 1px 3px 1px rgba(60, 64, 67, 0.15);\n",
              "      fill: #174EA6;\n",
              "    }\n",
              "\n",
              "    [theme=dark] .colab-df-convert {\n",
              "      background-color: #3B4455;\n",
              "      fill: #D2E3FC;\n",
              "    }\n",
              "\n",
              "    [theme=dark] .colab-df-convert:hover {\n",
              "      background-color: #434B5C;\n",
              "      box-shadow: 0px 1px 3px 1px rgba(0, 0, 0, 0.15);\n",
              "      filter: drop-shadow(0px 1px 2px rgba(0, 0, 0, 0.3));\n",
              "      fill: #FFFFFF;\n",
              "    }\n",
              "  </style>\n",
              "\n",
              "      <script>\n",
              "        const buttonEl =\n",
              "          document.querySelector('#df-5b112ef7-0c54-4fda-94cd-a140f1fee5fb button.colab-df-convert');\n",
              "        buttonEl.style.display =\n",
              "          google.colab.kernel.accessAllowed ? 'block' : 'none';\n",
              "\n",
              "        async function convertToInteractive(key) {\n",
              "          const element = document.querySelector('#df-5b112ef7-0c54-4fda-94cd-a140f1fee5fb');\n",
              "          const dataTable =\n",
              "            await google.colab.kernel.invokeFunction('convertToInteractive',\n",
              "                                                     [key], {});\n",
              "          if (!dataTable) return;\n",
              "\n",
              "          const docLinkHtml = 'Like what you see? Visit the ' +\n",
              "            '<a target=\"_blank\" href=https://colab.research.google.com/notebooks/data_table.ipynb>data table notebook</a>'\n",
              "            + ' to learn more about interactive tables.';\n",
              "          element.innerHTML = '';\n",
              "          dataTable['output_type'] = 'display_data';\n",
              "          await google.colab.output.renderOutput(dataTable, element);\n",
              "          const docLink = document.createElement('div');\n",
              "          docLink.innerHTML = docLinkHtml;\n",
              "          element.appendChild(docLink);\n",
              "        }\n",
              "      </script>\n",
              "    </div>\n",
              "  </div>\n",
              "  "
            ]
          },
          "metadata": {},
          "execution_count": 4
        }
      ]
    },
    {
      "cell_type": "code",
      "source": [
        "df.info()"
      ],
      "metadata": {
        "colab": {
          "base_uri": "https://localhost:8080/"
        },
        "id": "li2Zr4gpeu9P",
        "outputId": "e71a59ba-aefb-4a96-ef3d-da464e0a9a20"
      },
      "execution_count": null,
      "outputs": [
        {
          "output_type": "stream",
          "name": "stdout",
          "text": [
            "<class 'pandas.core.frame.DataFrame'>\n",
            "RangeIndex: 155 entries, 0 to 154\n",
            "Data columns (total 20 columns):\n",
            " #   Column           Non-Null Count  Dtype  \n",
            "---  ------           --------------  -----  \n",
            " 0   age              155 non-null    int64  \n",
            " 1   sex              155 non-null    object \n",
            " 2   steroid          154 non-null    object \n",
            " 3   antivirals       155 non-null    bool   \n",
            " 4   fatigue          154 non-null    object \n",
            " 5   malaise          154 non-null    object \n",
            " 6   anorexia         154 non-null    object \n",
            " 7   liver_big        145 non-null    object \n",
            " 8   liver_firm       144 non-null    object \n",
            " 9   spleen_palpable  150 non-null    object \n",
            " 10  spiders          150 non-null    object \n",
            " 11  ascites          150 non-null    object \n",
            " 12  varices          150 non-null    object \n",
            " 13  bilirubin        149 non-null    float64\n",
            " 14  alk_phosphate    126 non-null    float64\n",
            " 15  sgot             151 non-null    float64\n",
            " 16  albumin          139 non-null    float64\n",
            " 17  protime          88 non-null     float64\n",
            " 18  histology        155 non-null    bool   \n",
            " 19  class            155 non-null    object \n",
            "dtypes: bool(2), float64(5), int64(1), object(12)\n",
            "memory usage: 22.2+ KB\n"
          ]
        }
      ]
    },
    {
      "cell_type": "markdown",
      "source": [
        "## 1.Identify missing values\n",
        "\n",
        "* the column email is not available for all the rows. In some cases it presents the NaN value, which means that the value is missing.\n",
        "\n",
        "* we can use the function isna() to returns if an cell of the dataset if NaN or not. Then we can count how many missing values there are for each column."
      ],
      "metadata": {
        "id": "k5MaPZaOcNxR"
      }
    },
    {
      "cell_type": "code",
      "source": [
        "df.isna().sum()"
      ],
      "metadata": {
        "colab": {
          "base_uri": "https://localhost:8080/"
        },
        "id": "PfJHOXpUcb-V",
        "outputId": "1f6f01c3-9447-4797-d142-7d30e406ad1e"
      },
      "execution_count": null,
      "outputs": [
        {
          "output_type": "execute_result",
          "data": {
            "text/plain": [
              "age                 0\n",
              "sex                 0\n",
              "steroid             1\n",
              "antivirals          0\n",
              "fatigue             1\n",
              "malaise             1\n",
              "anorexia            1\n",
              "liver_big          10\n",
              "liver_firm         11\n",
              "spleen_palpable     5\n",
              "spiders             5\n",
              "ascites             5\n",
              "varices             5\n",
              "bilirubin           6\n",
              "alk_phosphate      29\n",
              "sgot                4\n",
              "albumin            16\n",
              "protime            67\n",
              "histology           0\n",
              "class               0\n",
              "dtype: int64"
            ]
          },
          "metadata": {},
          "execution_count": 6
        }
      ]
    },
    {
      "cell_type": "markdown",
      "source": [
        "* we can count the percentage of missing values for each column, simply by dividing the previous result by the length of the dataset (len(df)) and multiplying per 100."
      ],
      "metadata": {
        "id": "i3iOkrG7ch5g"
      }
    },
    {
      "cell_type": "code",
      "source": [
        "df.isna().sum()/len(df)*100"
      ],
      "metadata": {
        "colab": {
          "base_uri": "https://localhost:8080/"
        },
        "id": "RXAd1zwAbZUq",
        "outputId": "c5eeb8f4-171a-4141-b8f5-acd25d577529"
      },
      "execution_count": null,
      "outputs": [
        {
          "output_type": "execute_result",
          "data": {
            "text/plain": [
              "age                 0.000000\n",
              "sex                 0.000000\n",
              "steroid             0.645161\n",
              "antivirals          0.000000\n",
              "fatigue             0.645161\n",
              "malaise             0.645161\n",
              "anorexia            0.645161\n",
              "liver_big           6.451613\n",
              "liver_firm          7.096774\n",
              "spleen_palpable     3.225806\n",
              "spiders             3.225806\n",
              "ascites             3.225806\n",
              "varices             3.225806\n",
              "bilirubin           3.870968\n",
              "alk_phosphate      18.709677\n",
              "sgot                2.580645\n",
              "albumin            10.322581\n",
              "protime            43.225806\n",
              "histology           0.000000\n",
              "class               0.000000\n",
              "dtype: float64"
            ]
          },
          "metadata": {},
          "execution_count": 7
        }
      ]
    },
    {
      "cell_type": "markdown",
      "source": [
        "## When dealing with missing values\n",
        "\n",
        "* check the source, for example by contacting the data source to correct the missing values\n",
        "* drop missing values\n",
        "* replace the missing value with a value\n",
        "* leave the missing value as it is."
      ],
      "metadata": {
        "id": "rFXlxglRcq9x"
      }
    },
    {
      "cell_type": "markdown",
      "source": [
        "### Drop missing values\n",
        "\n",
        "* remove rows having missing values\n",
        "* remove the whole column containing missing values \n",
        "* We can use the dropna() by specifying the axis to be considered. "
      ],
      "metadata": {
        "id": "TB976Cwrc3DK"
      }
    },
    {
      "cell_type": "markdown",
      "source": [
        "*  set axis = 1 we drop the whole column. Only the columns age, sex, antivirals, histology and class remain."
      ],
      "metadata": {
        "id": "P3bC3QoQdezh"
      }
    },
    {
      "cell_type": "code",
      "source": [
        "df2 = df.dropna(axis=1)\n",
        "df2.head()"
      ],
      "metadata": {
        "colab": {
          "base_uri": "https://localhost:8080/",
          "height": 206
        },
        "id": "tYeuG4WVc8UI",
        "outputId": "e81b7a2c-e130-4620-9fcc-cabc1cff3119"
      },
      "execution_count": null,
      "outputs": [
        {
          "output_type": "execute_result",
          "data": {
            "text/plain": [
              "   age     sex  antivirals  histology class\n",
              "0   30    male       False      False  live\n",
              "1   50  female       False      False  live\n",
              "2   78  female       False      False  live\n",
              "3   31  female        True      False  live\n",
              "4   34  female       False      False  live"
            ],
            "text/html": [
              "\n",
              "  <div id=\"df-facf4ebe-b3cd-4536-b8f0-713772957982\">\n",
              "    <div class=\"colab-df-container\">\n",
              "      <div>\n",
              "<style scoped>\n",
              "    .dataframe tbody tr th:only-of-type {\n",
              "        vertical-align: middle;\n",
              "    }\n",
              "\n",
              "    .dataframe tbody tr th {\n",
              "        vertical-align: top;\n",
              "    }\n",
              "\n",
              "    .dataframe thead th {\n",
              "        text-align: right;\n",
              "    }\n",
              "</style>\n",
              "<table border=\"1\" class=\"dataframe\">\n",
              "  <thead>\n",
              "    <tr style=\"text-align: right;\">\n",
              "      <th></th>\n",
              "      <th>age</th>\n",
              "      <th>sex</th>\n",
              "      <th>antivirals</th>\n",
              "      <th>histology</th>\n",
              "      <th>class</th>\n",
              "    </tr>\n",
              "  </thead>\n",
              "  <tbody>\n",
              "    <tr>\n",
              "      <th>0</th>\n",
              "      <td>30</td>\n",
              "      <td>male</td>\n",
              "      <td>False</td>\n",
              "      <td>False</td>\n",
              "      <td>live</td>\n",
              "    </tr>\n",
              "    <tr>\n",
              "      <th>1</th>\n",
              "      <td>50</td>\n",
              "      <td>female</td>\n",
              "      <td>False</td>\n",
              "      <td>False</td>\n",
              "      <td>live</td>\n",
              "    </tr>\n",
              "    <tr>\n",
              "      <th>2</th>\n",
              "      <td>78</td>\n",
              "      <td>female</td>\n",
              "      <td>False</td>\n",
              "      <td>False</td>\n",
              "      <td>live</td>\n",
              "    </tr>\n",
              "    <tr>\n",
              "      <th>3</th>\n",
              "      <td>31</td>\n",
              "      <td>female</td>\n",
              "      <td>True</td>\n",
              "      <td>False</td>\n",
              "      <td>live</td>\n",
              "    </tr>\n",
              "    <tr>\n",
              "      <th>4</th>\n",
              "      <td>34</td>\n",
              "      <td>female</td>\n",
              "      <td>False</td>\n",
              "      <td>False</td>\n",
              "      <td>live</td>\n",
              "    </tr>\n",
              "  </tbody>\n",
              "</table>\n",
              "</div>\n",
              "      <button class=\"colab-df-convert\" onclick=\"convertToInteractive('df-facf4ebe-b3cd-4536-b8f0-713772957982')\"\n",
              "              title=\"Convert this dataframe to an interactive table.\"\n",
              "              style=\"display:none;\">\n",
              "        \n",
              "  <svg xmlns=\"http://www.w3.org/2000/svg\" height=\"24px\"viewBox=\"0 0 24 24\"\n",
              "       width=\"24px\">\n",
              "    <path d=\"M0 0h24v24H0V0z\" fill=\"none\"/>\n",
              "    <path d=\"M18.56 5.44l.94 2.06.94-2.06 2.06-.94-2.06-.94-.94-2.06-.94 2.06-2.06.94zm-11 1L8.5 8.5l.94-2.06 2.06-.94-2.06-.94L8.5 2.5l-.94 2.06-2.06.94zm10 10l.94 2.06.94-2.06 2.06-.94-2.06-.94-.94-2.06-.94 2.06-2.06.94z\"/><path d=\"M17.41 7.96l-1.37-1.37c-.4-.4-.92-.59-1.43-.59-.52 0-1.04.2-1.43.59L10.3 9.45l-7.72 7.72c-.78.78-.78 2.05 0 2.83L4 21.41c.39.39.9.59 1.41.59.51 0 1.02-.2 1.41-.59l7.78-7.78 2.81-2.81c.8-.78.8-2.07 0-2.86zM5.41 20L4 18.59l7.72-7.72 1.47 1.35L5.41 20z\"/>\n",
              "  </svg>\n",
              "      </button>\n",
              "      \n",
              "  <style>\n",
              "    .colab-df-container {\n",
              "      display:flex;\n",
              "      flex-wrap:wrap;\n",
              "      gap: 12px;\n",
              "    }\n",
              "\n",
              "    .colab-df-convert {\n",
              "      background-color: #E8F0FE;\n",
              "      border: none;\n",
              "      border-radius: 50%;\n",
              "      cursor: pointer;\n",
              "      display: none;\n",
              "      fill: #1967D2;\n",
              "      height: 32px;\n",
              "      padding: 0 0 0 0;\n",
              "      width: 32px;\n",
              "    }\n",
              "\n",
              "    .colab-df-convert:hover {\n",
              "      background-color: #E2EBFA;\n",
              "      box-shadow: 0px 1px 2px rgba(60, 64, 67, 0.3), 0px 1px 3px 1px rgba(60, 64, 67, 0.15);\n",
              "      fill: #174EA6;\n",
              "    }\n",
              "\n",
              "    [theme=dark] .colab-df-convert {\n",
              "      background-color: #3B4455;\n",
              "      fill: #D2E3FC;\n",
              "    }\n",
              "\n",
              "    [theme=dark] .colab-df-convert:hover {\n",
              "      background-color: #434B5C;\n",
              "      box-shadow: 0px 1px 3px 1px rgba(0, 0, 0, 0.15);\n",
              "      filter: drop-shadow(0px 1px 2px rgba(0, 0, 0, 0.3));\n",
              "      fill: #FFFFFF;\n",
              "    }\n",
              "  </style>\n",
              "\n",
              "      <script>\n",
              "        const buttonEl =\n",
              "          document.querySelector('#df-facf4ebe-b3cd-4536-b8f0-713772957982 button.colab-df-convert');\n",
              "        buttonEl.style.display =\n",
              "          google.colab.kernel.accessAllowed ? 'block' : 'none';\n",
              "\n",
              "        async function convertToInteractive(key) {\n",
              "          const element = document.querySelector('#df-facf4ebe-b3cd-4536-b8f0-713772957982');\n",
              "          const dataTable =\n",
              "            await google.colab.kernel.invokeFunction('convertToInteractive',\n",
              "                                                     [key], {});\n",
              "          if (!dataTable) return;\n",
              "\n",
              "          const docLinkHtml = 'Like what you see? Visit the ' +\n",
              "            '<a target=\"_blank\" href=https://colab.research.google.com/notebooks/data_table.ipynb>data table notebook</a>'\n",
              "            + ' to learn more about interactive tables.';\n",
              "          element.innerHTML = '';\n",
              "          dataTable['output_type'] = 'display_data';\n",
              "          await google.colab.output.renderOutput(dataTable, element);\n",
              "          const docLink = document.createElement('div');\n",
              "          docLink.innerHTML = docLinkHtml;\n",
              "          element.appendChild(docLink);\n",
              "        }\n",
              "      </script>\n",
              "    </div>\n",
              "  </div>\n",
              "  "
            ]
          },
          "metadata": {},
          "execution_count": 10
        }
      ]
    },
    {
      "cell_type": "markdown",
      "source": [
        "* set axis = 0 we drop the entire row. 80 rows of the dataset remain"
      ],
      "metadata": {
        "id": "XWxwnccbdmuR"
      }
    },
    {
      "cell_type": "code",
      "source": [
        "df.dropna(axis=0)"
      ],
      "metadata": {
        "colab": {
          "base_uri": "https://localhost:8080/",
          "height": 487
        },
        "id": "UY2bMGMudt6Z",
        "outputId": "869f932b-c2a1-4939-ef65-7564d86e6d1a"
      },
      "execution_count": null,
      "outputs": [
        {
          "output_type": "execute_result",
          "data": {
            "text/plain": [
              "     age     sex steroid  antivirals fatigue malaise anorexia liver_big  \\\n",
              "5     34  female    True       False   False   False    False      True   \n",
              "10    39  female   False        True   False   False    False     False   \n",
              "11    32  female    True        True    True   False    False      True   \n",
              "12    41  female    True        True    True   False    False      True   \n",
              "13    30  female    True       False    True   False    False      True   \n",
              "..   ...     ...     ...         ...     ...     ...      ...       ...   \n",
              "139   45  female    True        True   False   False    False      True   \n",
              "143   49  female   False       False    True    True    False      True   \n",
              "145   31  female   False       False    True   False    False      True   \n",
              "153   53    male   False       False    True   False    False      True   \n",
              "154   43  female    True       False    True   False    False      True   \n",
              "\n",
              "    liver_firm spleen_palpable spiders ascites varices  bilirubin  \\\n",
              "5        False           False   False   False   False        0.9   \n",
              "10        True           False   False   False   False        1.3   \n",
              "11        True           False    True   False   False        1.0   \n",
              "12        True           False   False   False   False        0.9   \n",
              "13        True           False   False   False   False        2.2   \n",
              "..         ...             ...     ...     ...     ...        ...   \n",
              "139      False           False   False   False   False        1.3   \n",
              "143      False            True    True   False   False        1.4   \n",
              "145      False           False   False   False   False        1.2   \n",
              "153      False            True    True   False    True        1.5   \n",
              "154      False            True    True    True   False        1.2   \n",
              "\n",
              "     alk_phosphate   sgot  albumin  protime  histology class  \n",
              "5             95.0   28.0      4.0     75.0      False  live  \n",
              "10            78.0   30.0      4.4     85.0      False  live  \n",
              "11            59.0  249.0      3.7     54.0      False  live  \n",
              "12            81.0   60.0      3.9     52.0      False  live  \n",
              "13            57.0  144.0      4.9     78.0      False  live  \n",
              "..             ...    ...      ...      ...        ...   ...  \n",
              "139           85.0   44.0      4.2     85.0       True  live  \n",
              "143           85.0   70.0      3.5     35.0       True   die  \n",
              "145           75.0  173.0      4.2     54.0       True  live  \n",
              "153           81.0   19.0      4.1     48.0       True  live  \n",
              "154          100.0   19.0      3.1     42.0       True   die  \n",
              "\n",
              "[80 rows x 20 columns]"
            ],
            "text/html": [
              "\n",
              "  <div id=\"df-122ab30e-8458-4fb7-8e9b-924bba3eb952\">\n",
              "    <div class=\"colab-df-container\">\n",
              "      <div>\n",
              "<style scoped>\n",
              "    .dataframe tbody tr th:only-of-type {\n",
              "        vertical-align: middle;\n",
              "    }\n",
              "\n",
              "    .dataframe tbody tr th {\n",
              "        vertical-align: top;\n",
              "    }\n",
              "\n",
              "    .dataframe thead th {\n",
              "        text-align: right;\n",
              "    }\n",
              "</style>\n",
              "<table border=\"1\" class=\"dataframe\">\n",
              "  <thead>\n",
              "    <tr style=\"text-align: right;\">\n",
              "      <th></th>\n",
              "      <th>age</th>\n",
              "      <th>sex</th>\n",
              "      <th>steroid</th>\n",
              "      <th>antivirals</th>\n",
              "      <th>fatigue</th>\n",
              "      <th>malaise</th>\n",
              "      <th>anorexia</th>\n",
              "      <th>liver_big</th>\n",
              "      <th>liver_firm</th>\n",
              "      <th>spleen_palpable</th>\n",
              "      <th>spiders</th>\n",
              "      <th>ascites</th>\n",
              "      <th>varices</th>\n",
              "      <th>bilirubin</th>\n",
              "      <th>alk_phosphate</th>\n",
              "      <th>sgot</th>\n",
              "      <th>albumin</th>\n",
              "      <th>protime</th>\n",
              "      <th>histology</th>\n",
              "      <th>class</th>\n",
              "    </tr>\n",
              "  </thead>\n",
              "  <tbody>\n",
              "    <tr>\n",
              "      <th>5</th>\n",
              "      <td>34</td>\n",
              "      <td>female</td>\n",
              "      <td>True</td>\n",
              "      <td>False</td>\n",
              "      <td>False</td>\n",
              "      <td>False</td>\n",
              "      <td>False</td>\n",
              "      <td>True</td>\n",
              "      <td>False</td>\n",
              "      <td>False</td>\n",
              "      <td>False</td>\n",
              "      <td>False</td>\n",
              "      <td>False</td>\n",
              "      <td>0.9</td>\n",
              "      <td>95.0</td>\n",
              "      <td>28.0</td>\n",
              "      <td>4.0</td>\n",
              "      <td>75.0</td>\n",
              "      <td>False</td>\n",
              "      <td>live</td>\n",
              "    </tr>\n",
              "    <tr>\n",
              "      <th>10</th>\n",
              "      <td>39</td>\n",
              "      <td>female</td>\n",
              "      <td>False</td>\n",
              "      <td>True</td>\n",
              "      <td>False</td>\n",
              "      <td>False</td>\n",
              "      <td>False</td>\n",
              "      <td>False</td>\n",
              "      <td>True</td>\n",
              "      <td>False</td>\n",
              "      <td>False</td>\n",
              "      <td>False</td>\n",
              "      <td>False</td>\n",
              "      <td>1.3</td>\n",
              "      <td>78.0</td>\n",
              "      <td>30.0</td>\n",
              "      <td>4.4</td>\n",
              "      <td>85.0</td>\n",
              "      <td>False</td>\n",
              "      <td>live</td>\n",
              "    </tr>\n",
              "    <tr>\n",
              "      <th>11</th>\n",
              "      <td>32</td>\n",
              "      <td>female</td>\n",
              "      <td>True</td>\n",
              "      <td>True</td>\n",
              "      <td>True</td>\n",
              "      <td>False</td>\n",
              "      <td>False</td>\n",
              "      <td>True</td>\n",
              "      <td>True</td>\n",
              "      <td>False</td>\n",
              "      <td>True</td>\n",
              "      <td>False</td>\n",
              "      <td>False</td>\n",
              "      <td>1.0</td>\n",
              "      <td>59.0</td>\n",
              "      <td>249.0</td>\n",
              "      <td>3.7</td>\n",
              "      <td>54.0</td>\n",
              "      <td>False</td>\n",
              "      <td>live</td>\n",
              "    </tr>\n",
              "    <tr>\n",
              "      <th>12</th>\n",
              "      <td>41</td>\n",
              "      <td>female</td>\n",
              "      <td>True</td>\n",
              "      <td>True</td>\n",
              "      <td>True</td>\n",
              "      <td>False</td>\n",
              "      <td>False</td>\n",
              "      <td>True</td>\n",
              "      <td>True</td>\n",
              "      <td>False</td>\n",
              "      <td>False</td>\n",
              "      <td>False</td>\n",
              "      <td>False</td>\n",
              "      <td>0.9</td>\n",
              "      <td>81.0</td>\n",
              "      <td>60.0</td>\n",
              "      <td>3.9</td>\n",
              "      <td>52.0</td>\n",
              "      <td>False</td>\n",
              "      <td>live</td>\n",
              "    </tr>\n",
              "    <tr>\n",
              "      <th>13</th>\n",
              "      <td>30</td>\n",
              "      <td>female</td>\n",
              "      <td>True</td>\n",
              "      <td>False</td>\n",
              "      <td>True</td>\n",
              "      <td>False</td>\n",
              "      <td>False</td>\n",
              "      <td>True</td>\n",
              "      <td>True</td>\n",
              "      <td>False</td>\n",
              "      <td>False</td>\n",
              "      <td>False</td>\n",
              "      <td>False</td>\n",
              "      <td>2.2</td>\n",
              "      <td>57.0</td>\n",
              "      <td>144.0</td>\n",
              "      <td>4.9</td>\n",
              "      <td>78.0</td>\n",
              "      <td>False</td>\n",
              "      <td>live</td>\n",
              "    </tr>\n",
              "    <tr>\n",
              "      <th>...</th>\n",
              "      <td>...</td>\n",
              "      <td>...</td>\n",
              "      <td>...</td>\n",
              "      <td>...</td>\n",
              "      <td>...</td>\n",
              "      <td>...</td>\n",
              "      <td>...</td>\n",
              "      <td>...</td>\n",
              "      <td>...</td>\n",
              "      <td>...</td>\n",
              "      <td>...</td>\n",
              "      <td>...</td>\n",
              "      <td>...</td>\n",
              "      <td>...</td>\n",
              "      <td>...</td>\n",
              "      <td>...</td>\n",
              "      <td>...</td>\n",
              "      <td>...</td>\n",
              "      <td>...</td>\n",
              "      <td>...</td>\n",
              "    </tr>\n",
              "    <tr>\n",
              "      <th>139</th>\n",
              "      <td>45</td>\n",
              "      <td>female</td>\n",
              "      <td>True</td>\n",
              "      <td>True</td>\n",
              "      <td>False</td>\n",
              "      <td>False</td>\n",
              "      <td>False</td>\n",
              "      <td>True</td>\n",
              "      <td>False</td>\n",
              "      <td>False</td>\n",
              "      <td>False</td>\n",
              "      <td>False</td>\n",
              "      <td>False</td>\n",
              "      <td>1.3</td>\n",
              "      <td>85.0</td>\n",
              "      <td>44.0</td>\n",
              "      <td>4.2</td>\n",
              "      <td>85.0</td>\n",
              "      <td>True</td>\n",
              "      <td>live</td>\n",
              "    </tr>\n",
              "    <tr>\n",
              "      <th>143</th>\n",
              "      <td>49</td>\n",
              "      <td>female</td>\n",
              "      <td>False</td>\n",
              "      <td>False</td>\n",
              "      <td>True</td>\n",
              "      <td>True</td>\n",
              "      <td>False</td>\n",
              "      <td>True</td>\n",
              "      <td>False</td>\n",
              "      <td>True</td>\n",
              "      <td>True</td>\n",
              "      <td>False</td>\n",
              "      <td>False</td>\n",
              "      <td>1.4</td>\n",
              "      <td>85.0</td>\n",
              "      <td>70.0</td>\n",
              "      <td>3.5</td>\n",
              "      <td>35.0</td>\n",
              "      <td>True</td>\n",
              "      <td>die</td>\n",
              "    </tr>\n",
              "    <tr>\n",
              "      <th>145</th>\n",
              "      <td>31</td>\n",
              "      <td>female</td>\n",
              "      <td>False</td>\n",
              "      <td>False</td>\n",
              "      <td>True</td>\n",
              "      <td>False</td>\n",
              "      <td>False</td>\n",
              "      <td>True</td>\n",
              "      <td>False</td>\n",
              "      <td>False</td>\n",
              "      <td>False</td>\n",
              "      <td>False</td>\n",
              "      <td>False</td>\n",
              "      <td>1.2</td>\n",
              "      <td>75.0</td>\n",
              "      <td>173.0</td>\n",
              "      <td>4.2</td>\n",
              "      <td>54.0</td>\n",
              "      <td>True</td>\n",
              "      <td>live</td>\n",
              "    </tr>\n",
              "    <tr>\n",
              "      <th>153</th>\n",
              "      <td>53</td>\n",
              "      <td>male</td>\n",
              "      <td>False</td>\n",
              "      <td>False</td>\n",
              "      <td>True</td>\n",
              "      <td>False</td>\n",
              "      <td>False</td>\n",
              "      <td>True</td>\n",
              "      <td>False</td>\n",
              "      <td>True</td>\n",
              "      <td>True</td>\n",
              "      <td>False</td>\n",
              "      <td>True</td>\n",
              "      <td>1.5</td>\n",
              "      <td>81.0</td>\n",
              "      <td>19.0</td>\n",
              "      <td>4.1</td>\n",
              "      <td>48.0</td>\n",
              "      <td>True</td>\n",
              "      <td>live</td>\n",
              "    </tr>\n",
              "    <tr>\n",
              "      <th>154</th>\n",
              "      <td>43</td>\n",
              "      <td>female</td>\n",
              "      <td>True</td>\n",
              "      <td>False</td>\n",
              "      <td>True</td>\n",
              "      <td>False</td>\n",
              "      <td>False</td>\n",
              "      <td>True</td>\n",
              "      <td>False</td>\n",
              "      <td>True</td>\n",
              "      <td>True</td>\n",
              "      <td>True</td>\n",
              "      <td>False</td>\n",
              "      <td>1.2</td>\n",
              "      <td>100.0</td>\n",
              "      <td>19.0</td>\n",
              "      <td>3.1</td>\n",
              "      <td>42.0</td>\n",
              "      <td>True</td>\n",
              "      <td>die</td>\n",
              "    </tr>\n",
              "  </tbody>\n",
              "</table>\n",
              "<p>80 rows × 20 columns</p>\n",
              "</div>\n",
              "      <button class=\"colab-df-convert\" onclick=\"convertToInteractive('df-122ab30e-8458-4fb7-8e9b-924bba3eb952')\"\n",
              "              title=\"Convert this dataframe to an interactive table.\"\n",
              "              style=\"display:none;\">\n",
              "        \n",
              "  <svg xmlns=\"http://www.w3.org/2000/svg\" height=\"24px\"viewBox=\"0 0 24 24\"\n",
              "       width=\"24px\">\n",
              "    <path d=\"M0 0h24v24H0V0z\" fill=\"none\"/>\n",
              "    <path d=\"M18.56 5.44l.94 2.06.94-2.06 2.06-.94-2.06-.94-.94-2.06-.94 2.06-2.06.94zm-11 1L8.5 8.5l.94-2.06 2.06-.94-2.06-.94L8.5 2.5l-.94 2.06-2.06.94zm10 10l.94 2.06.94-2.06 2.06-.94-2.06-.94-.94-2.06-.94 2.06-2.06.94z\"/><path d=\"M17.41 7.96l-1.37-1.37c-.4-.4-.92-.59-1.43-.59-.52 0-1.04.2-1.43.59L10.3 9.45l-7.72 7.72c-.78.78-.78 2.05 0 2.83L4 21.41c.39.39.9.59 1.41.59.51 0 1.02-.2 1.41-.59l7.78-7.78 2.81-2.81c.8-.78.8-2.07 0-2.86zM5.41 20L4 18.59l7.72-7.72 1.47 1.35L5.41 20z\"/>\n",
              "  </svg>\n",
              "      </button>\n",
              "      \n",
              "  <style>\n",
              "    .colab-df-container {\n",
              "      display:flex;\n",
              "      flex-wrap:wrap;\n",
              "      gap: 12px;\n",
              "    }\n",
              "\n",
              "    .colab-df-convert {\n",
              "      background-color: #E8F0FE;\n",
              "      border: none;\n",
              "      border-radius: 50%;\n",
              "      cursor: pointer;\n",
              "      display: none;\n",
              "      fill: #1967D2;\n",
              "      height: 32px;\n",
              "      padding: 0 0 0 0;\n",
              "      width: 32px;\n",
              "    }\n",
              "\n",
              "    .colab-df-convert:hover {\n",
              "      background-color: #E2EBFA;\n",
              "      box-shadow: 0px 1px 2px rgba(60, 64, 67, 0.3), 0px 1px 3px 1px rgba(60, 64, 67, 0.15);\n",
              "      fill: #174EA6;\n",
              "    }\n",
              "\n",
              "    [theme=dark] .colab-df-convert {\n",
              "      background-color: #3B4455;\n",
              "      fill: #D2E3FC;\n",
              "    }\n",
              "\n",
              "    [theme=dark] .colab-df-convert:hover {\n",
              "      background-color: #434B5C;\n",
              "      box-shadow: 0px 1px 3px 1px rgba(0, 0, 0, 0.15);\n",
              "      filter: drop-shadow(0px 1px 2px rgba(0, 0, 0, 0.3));\n",
              "      fill: #FFFFFF;\n",
              "    }\n",
              "  </style>\n",
              "\n",
              "      <script>\n",
              "        const buttonEl =\n",
              "          document.querySelector('#df-122ab30e-8458-4fb7-8e9b-924bba3eb952 button.colab-df-convert');\n",
              "        buttonEl.style.display =\n",
              "          google.colab.kernel.accessAllowed ? 'block' : 'none';\n",
              "\n",
              "        async function convertToInteractive(key) {\n",
              "          const element = document.querySelector('#df-122ab30e-8458-4fb7-8e9b-924bba3eb952');\n",
              "          const dataTable =\n",
              "            await google.colab.kernel.invokeFunction('convertToInteractive',\n",
              "                                                     [key], {});\n",
              "          if (!dataTable) return;\n",
              "\n",
              "          const docLinkHtml = 'Like what you see? Visit the ' +\n",
              "            '<a target=\"_blank\" href=https://colab.research.google.com/notebooks/data_table.ipynb>data table notebook</a>'\n",
              "            + ' to learn more about interactive tables.';\n",
              "          element.innerHTML = '';\n",
              "          dataTable['output_type'] = 'display_data';\n",
              "          await google.colab.output.renderOutput(dataTable, element);\n",
              "          const docLink = document.createElement('div');\n",
              "          docLink.innerHTML = docLinkHtml;\n",
              "          element.appendChild(docLink);\n",
              "        }\n",
              "      </script>\n",
              "    </div>\n",
              "  </div>\n",
              "  "
            ]
          },
          "metadata": {},
          "execution_count": 9
        }
      ]
    },
    {
      "cell_type": "markdown",
      "source": [
        "* However, removed values are not applied to the original dataframe, but only to the result. Use the argument inplace=True in order to store changes in the original dataframe df (df.dropna(axis=1,inplace=True))."
      ],
      "metadata": {
        "id": "vU1e0EngdZwh"
      }
    },
    {
      "cell_type": "markdown",
      "source": [
        "* we can specify only the column on which the dropping operation must be applied."
      ],
      "metadata": {
        "id": "FBNy_Vgpd8Dp"
      }
    },
    {
      "cell_type": "code",
      "source": [
        "df3 = df.dropna(subset=['liver_big'], axis=0)\n",
        "print(df.isna().sum() / len(df) * 100)\n",
        "print(df3.info())"
      ],
      "metadata": {
        "colab": {
          "base_uri": "https://localhost:8080/"
        },
        "id": "x4IO_EzbdYeb",
        "outputId": "f151a65f-d3da-4abe-f81b-34493e3cdecd"
      },
      "execution_count": null,
      "outputs": [
        {
          "output_type": "stream",
          "name": "stdout",
          "text": [
            "age                 0.000000\n",
            "sex                 0.000000\n",
            "steroid             0.645161\n",
            "antivirals          0.000000\n",
            "fatigue             0.645161\n",
            "malaise             0.645161\n",
            "anorexia            0.645161\n",
            "liver_big           6.451613\n",
            "liver_firm          7.096774\n",
            "spleen_palpable     3.225806\n",
            "spiders             3.225806\n",
            "ascites             3.225806\n",
            "varices             3.225806\n",
            "bilirubin           3.870968\n",
            "alk_phosphate      18.709677\n",
            "sgot                2.580645\n",
            "albumin            10.322581\n",
            "protime            43.225806\n",
            "histology           0.000000\n",
            "class               0.000000\n",
            "dtype: float64\n",
            "<class 'pandas.core.frame.DataFrame'>\n",
            "Int64Index: 145 entries, 0 to 154\n",
            "Data columns (total 20 columns):\n",
            " #   Column           Non-Null Count  Dtype  \n",
            "---  ------           --------------  -----  \n",
            " 0   age              145 non-null    int64  \n",
            " 1   sex              145 non-null    object \n",
            " 2   steroid          144 non-null    object \n",
            " 3   antivirals       145 non-null    bool   \n",
            " 4   fatigue          145 non-null    object \n",
            " 5   malaise          145 non-null    object \n",
            " 6   anorexia         145 non-null    object \n",
            " 7   liver_big        145 non-null    object \n",
            " 8   liver_firm       144 non-null    object \n",
            " 9   spleen_palpable  144 non-null    object \n",
            " 10  spiders          144 non-null    object \n",
            " 11  ascites          144 non-null    object \n",
            " 12  varices          144 non-null    object \n",
            " 13  bilirubin        141 non-null    float64\n",
            " 14  alk_phosphate    121 non-null    float64\n",
            " 15  sgot             143 non-null    float64\n",
            " 16  albumin          132 non-null    float64\n",
            " 17  protime          86 non-null     float64\n",
            " 18  histology        145 non-null    bool   \n",
            " 19  class            145 non-null    object \n",
            "dtypes: bool(2), float64(5), int64(1), object(12)\n",
            "memory usage: 21.8+ KB\n",
            "None\n"
          ]
        }
      ]
    },
    {
      "cell_type": "markdown",
      "source": [
        "* we can keep only columns where there are at least the 80% of not null values by using thresh parameter."
      ],
      "metadata": {
        "id": "Y9HWTYcZcj2x"
      }
    },
    {
      "cell_type": "code",
      "source": [
        "df.dropna(thresh=0.95*len(df), axis=1, inplace=True)\n",
        "df.isna().sum() / len(df) * 100"
      ],
      "metadata": {
        "colab": {
          "base_uri": "https://localhost:8080/"
        },
        "id": "vfWB3GbhczbJ",
        "outputId": "5a873301-5e87-4fdb-b0f5-5a61942c43b0"
      },
      "execution_count": null,
      "outputs": [
        {
          "output_type": "execute_result",
          "data": {
            "text/plain": [
              "age                0.000000\n",
              "sex                0.000000\n",
              "steroid            0.645161\n",
              "antivirals         0.000000\n",
              "fatigue            0.645161\n",
              "malaise            0.645161\n",
              "anorexia           0.645161\n",
              "spleen_palpable    3.225806\n",
              "spiders            3.225806\n",
              "ascites            3.225806\n",
              "varices            3.225806\n",
              "bilirubin          3.870968\n",
              "sgot               2.580645\n",
              "histology          0.000000\n",
              "class              0.000000\n",
              "dtype: float64"
            ]
          },
          "metadata": {},
          "execution_count": 17
        }
      ]
    },
    {
      "cell_type": "markdown",
      "source": [
        "### Replace missing values\n",
        "\n",
        "* for numerical values replace the missing value with the average value of the column\n",
        "* for categorial values replace the missing value with the most frequent value of the column\n",
        "* use other functions"
      ],
      "metadata": {
        "id": "PSbwHaP3e83Y"
      }
    },
    {
      "cell_type": "markdown",
      "source": [
        "* In order to replace missing values, three functions can be used: **fillna()**, **replace()** and **interpolate()**. \n",
        "* The **fillna()** function replaces all the NaN values with the value passed as argument. For example, for numerical values, all the NaN values in the numeric columns could be replaced with the average value. \n"
      ],
      "metadata": {
        "id": "57k4HN5gfHcQ"
      }
    },
    {
      "cell_type": "code",
      "source": [
        "df.dtypes"
      ],
      "metadata": {
        "colab": {
          "base_uri": "https://localhost:8080/"
        },
        "id": "n65aU9Pke98o",
        "outputId": "362fde55-16e0-4692-b994-0141c04cdfd8"
      },
      "execution_count": null,
      "outputs": [
        {
          "output_type": "execute_result",
          "data": {
            "text/plain": [
              "age                  int64\n",
              "sex                 object\n",
              "steroid             object\n",
              "antivirals            bool\n",
              "fatigue             object\n",
              "malaise             object\n",
              "anorexia            object\n",
              "spleen_palpable     object\n",
              "spiders             object\n",
              "ascites             object\n",
              "varices             object\n",
              "bilirubin          float64\n",
              "sgot               float64\n",
              "histology             bool\n",
              "class               object\n",
              "dtype: object"
            ]
          },
          "metadata": {},
          "execution_count": 18
        }
      ]
    },
    {
      "cell_type": "markdown",
      "source": [
        "#### Numeric columns\n",
        "we select numeric columns. The fill the NaN values of numeric columns with the average value, given by the df.mean() function."
      ],
      "metadata": {
        "id": "2_VpLKLGfXEg"
      }
    },
    {
      "cell_type": "code",
      "source": [
        "import numpy as np\n",
        "numeric = df.select_dtypes(include=np.number)\n",
        "nc_cols = numeric.columns\n",
        "print(nc_cols)"
      ],
      "metadata": {
        "id": "CaaR8ymJe-Dw",
        "colab": {
          "base_uri": "https://localhost:8080/"
        },
        "outputId": "4be5e992-6282-48b4-9845-d8bc390bf5ee"
      },
      "execution_count": null,
      "outputs": [
        {
          "output_type": "stream",
          "name": "stdout",
          "text": [
            "Index(['age', 'bilirubin', 'sgot'], dtype='object')\n"
          ]
        }
      ]
    },
    {
      "cell_type": "code",
      "source": [
        "df4 = df[nc_cols]\n",
        "df4 = df4.fillna(df4.mean())\n",
        "df4.info()"
      ],
      "metadata": {
        "colab": {
          "base_uri": "https://localhost:8080/"
        },
        "id": "JsXnSEbIqPQL",
        "outputId": "f778f043-b36d-491a-b4b2-1c944e4b5cfa"
      },
      "execution_count": null,
      "outputs": [
        {
          "output_type": "stream",
          "name": "stdout",
          "text": [
            "<class 'pandas.core.frame.DataFrame'>\n",
            "RangeIndex: 155 entries, 0 to 154\n",
            "Data columns (total 3 columns):\n",
            " #   Column     Non-Null Count  Dtype  \n",
            "---  ------     --------------  -----  \n",
            " 0   age        155 non-null    int64  \n",
            " 1   bilirubin  155 non-null    float64\n",
            " 2   sgot       155 non-null    float64\n",
            "dtypes: float64(2), int64(1)\n",
            "memory usage: 3.8 KB\n"
          ]
        }
      ]
    },
    {
      "cell_type": "code",
      "source": [
        "df[nc_cols] = df[nc_cols].fillna(df[nc_cols].mean())\n",
        "df[nc_cols].isna().sum() / len(df) * 100"
      ],
      "metadata": {
        "colab": {
          "base_uri": "https://localhost:8080/"
        },
        "id": "ybwzPHyYfpUh",
        "outputId": "f54f25cb-0951-417d-a66d-a7961bf306a1"
      },
      "execution_count": null,
      "outputs": [
        {
          "output_type": "execute_result",
          "data": {
            "text/plain": [
              "age          0.0\n",
              "bilirubin    0.0\n",
              "sgot         0.0\n",
              "dtype: float64"
            ]
          },
          "metadata": {},
          "execution_count": 22
        }
      ]
    },
    {
      "cell_type": "markdown",
      "source": [
        "#### Categorial columns\n",
        "We would like to consider only boolean columns. \n",
        "\n",
        "However, in dtypes the boolean columns can be objects or bool. And objects can be string type (such as column: class). We need to remove the \"class\" column.\n"
      ],
      "metadata": {
        "id": "cZtxOjAfgB9X"
      }
    },
    {
      "cell_type": "code",
      "source": [
        "bc_cols = df.select_dtypes(include=object).columns.tolist()\n",
        "print(bc_cols)\n",
        "bc_cols.remove('class')\n",
        "print(bc_cols)\n",
        "df[bc_cols] = df[bc_cols].astype('bool')\n",
        "df[bc_cols].dtypes"
      ],
      "metadata": {
        "colab": {
          "base_uri": "https://localhost:8080/"
        },
        "id": "9j4Hl6ADhH45",
        "outputId": "99c89826-16c8-42fc-8d88-b199b81c7aee"
      },
      "execution_count": null,
      "outputs": [
        {
          "output_type": "stream",
          "name": "stdout",
          "text": [
            "['sex', 'steroid', 'fatigue', 'malaise', 'anorexia', 'spleen_palpable', 'spiders', 'ascites', 'varices', 'class']\n",
            "['sex', 'steroid', 'fatigue', 'malaise', 'anorexia', 'spleen_palpable', 'spiders', 'ascites', 'varices']\n"
          ]
        },
        {
          "output_type": "execute_result",
          "data": {
            "text/plain": [
              "sex                bool\n",
              "steroid            bool\n",
              "fatigue            bool\n",
              "malaise            bool\n",
              "anorexia           bool\n",
              "spleen_palpable    bool\n",
              "spiders            bool\n",
              "ascites            bool\n",
              "varices            bool\n",
              "dtype: object"
            ]
          },
          "metadata": {},
          "execution_count": 23
        }
      ]
    },
    {
      "cell_type": "markdown",
      "source": [
        "* Now we can replace all the missing values for booleans with the most frequent value. \n",
        "* Use the mode() function to calculate the most frequent value. \n",
        "* Use the fillna() function to replace missing values, but we could use also use the replace(old_value, new_value) function."
      ],
      "metadata": {
        "id": "LNtPuDkjhZD_"
      }
    },
    {
      "cell_type": "code",
      "source": [
        "df[bc_cols].head()"
      ],
      "metadata": {
        "colab": {
          "base_uri": "https://localhost:8080/",
          "height": 206
        },
        "id": "_3k-nYY_h13Y",
        "outputId": "1f4abd6c-f906-46d9-deff-bd3fb673afd9"
      },
      "execution_count": null,
      "outputs": [
        {
          "output_type": "execute_result",
          "data": {
            "text/plain": [
              "    sex  steroid  fatigue  malaise  anorexia  spleen_palpable  spiders  \\\n",
              "0  True    False    False    False     False            False    False   \n",
              "1  True    False     True    False     False            False    False   \n",
              "2  True     True     True    False     False            False    False   \n",
              "3  True     True    False    False     False            False    False   \n",
              "4  True     True    False    False     False            False    False   \n",
              "\n",
              "   ascites  varices  \n",
              "0    False    False  \n",
              "1    False    False  \n",
              "2    False    False  \n",
              "3    False    False  \n",
              "4    False    False  "
            ],
            "text/html": [
              "\n",
              "  <div id=\"df-bcf43fbc-c0e9-40e5-942a-30dd7344eedd\">\n",
              "    <div class=\"colab-df-container\">\n",
              "      <div>\n",
              "<style scoped>\n",
              "    .dataframe tbody tr th:only-of-type {\n",
              "        vertical-align: middle;\n",
              "    }\n",
              "\n",
              "    .dataframe tbody tr th {\n",
              "        vertical-align: top;\n",
              "    }\n",
              "\n",
              "    .dataframe thead th {\n",
              "        text-align: right;\n",
              "    }\n",
              "</style>\n",
              "<table border=\"1\" class=\"dataframe\">\n",
              "  <thead>\n",
              "    <tr style=\"text-align: right;\">\n",
              "      <th></th>\n",
              "      <th>sex</th>\n",
              "      <th>steroid</th>\n",
              "      <th>fatigue</th>\n",
              "      <th>malaise</th>\n",
              "      <th>anorexia</th>\n",
              "      <th>spleen_palpable</th>\n",
              "      <th>spiders</th>\n",
              "      <th>ascites</th>\n",
              "      <th>varices</th>\n",
              "    </tr>\n",
              "  </thead>\n",
              "  <tbody>\n",
              "    <tr>\n",
              "      <th>0</th>\n",
              "      <td>True</td>\n",
              "      <td>False</td>\n",
              "      <td>False</td>\n",
              "      <td>False</td>\n",
              "      <td>False</td>\n",
              "      <td>False</td>\n",
              "      <td>False</td>\n",
              "      <td>False</td>\n",
              "      <td>False</td>\n",
              "    </tr>\n",
              "    <tr>\n",
              "      <th>1</th>\n",
              "      <td>True</td>\n",
              "      <td>False</td>\n",
              "      <td>True</td>\n",
              "      <td>False</td>\n",
              "      <td>False</td>\n",
              "      <td>False</td>\n",
              "      <td>False</td>\n",
              "      <td>False</td>\n",
              "      <td>False</td>\n",
              "    </tr>\n",
              "    <tr>\n",
              "      <th>2</th>\n",
              "      <td>True</td>\n",
              "      <td>True</td>\n",
              "      <td>True</td>\n",
              "      <td>False</td>\n",
              "      <td>False</td>\n",
              "      <td>False</td>\n",
              "      <td>False</td>\n",
              "      <td>False</td>\n",
              "      <td>False</td>\n",
              "    </tr>\n",
              "    <tr>\n",
              "      <th>3</th>\n",
              "      <td>True</td>\n",
              "      <td>True</td>\n",
              "      <td>False</td>\n",
              "      <td>False</td>\n",
              "      <td>False</td>\n",
              "      <td>False</td>\n",
              "      <td>False</td>\n",
              "      <td>False</td>\n",
              "      <td>False</td>\n",
              "    </tr>\n",
              "    <tr>\n",
              "      <th>4</th>\n",
              "      <td>True</td>\n",
              "      <td>True</td>\n",
              "      <td>False</td>\n",
              "      <td>False</td>\n",
              "      <td>False</td>\n",
              "      <td>False</td>\n",
              "      <td>False</td>\n",
              "      <td>False</td>\n",
              "      <td>False</td>\n",
              "    </tr>\n",
              "  </tbody>\n",
              "</table>\n",
              "</div>\n",
              "      <button class=\"colab-df-convert\" onclick=\"convertToInteractive('df-bcf43fbc-c0e9-40e5-942a-30dd7344eedd')\"\n",
              "              title=\"Convert this dataframe to an interactive table.\"\n",
              "              style=\"display:none;\">\n",
              "        \n",
              "  <svg xmlns=\"http://www.w3.org/2000/svg\" height=\"24px\"viewBox=\"0 0 24 24\"\n",
              "       width=\"24px\">\n",
              "    <path d=\"M0 0h24v24H0V0z\" fill=\"none\"/>\n",
              "    <path d=\"M18.56 5.44l.94 2.06.94-2.06 2.06-.94-2.06-.94-.94-2.06-.94 2.06-2.06.94zm-11 1L8.5 8.5l.94-2.06 2.06-.94-2.06-.94L8.5 2.5l-.94 2.06-2.06.94zm10 10l.94 2.06.94-2.06 2.06-.94-2.06-.94-.94-2.06-.94 2.06-2.06.94z\"/><path d=\"M17.41 7.96l-1.37-1.37c-.4-.4-.92-.59-1.43-.59-.52 0-1.04.2-1.43.59L10.3 9.45l-7.72 7.72c-.78.78-.78 2.05 0 2.83L4 21.41c.39.39.9.59 1.41.59.51 0 1.02-.2 1.41-.59l7.78-7.78 2.81-2.81c.8-.78.8-2.07 0-2.86zM5.41 20L4 18.59l7.72-7.72 1.47 1.35L5.41 20z\"/>\n",
              "  </svg>\n",
              "      </button>\n",
              "      \n",
              "  <style>\n",
              "    .colab-df-container {\n",
              "      display:flex;\n",
              "      flex-wrap:wrap;\n",
              "      gap: 12px;\n",
              "    }\n",
              "\n",
              "    .colab-df-convert {\n",
              "      background-color: #E8F0FE;\n",
              "      border: none;\n",
              "      border-radius: 50%;\n",
              "      cursor: pointer;\n",
              "      display: none;\n",
              "      fill: #1967D2;\n",
              "      height: 32px;\n",
              "      padding: 0 0 0 0;\n",
              "      width: 32px;\n",
              "    }\n",
              "\n",
              "    .colab-df-convert:hover {\n",
              "      background-color: #E2EBFA;\n",
              "      box-shadow: 0px 1px 2px rgba(60, 64, 67, 0.3), 0px 1px 3px 1px rgba(60, 64, 67, 0.15);\n",
              "      fill: #174EA6;\n",
              "    }\n",
              "\n",
              "    [theme=dark] .colab-df-convert {\n",
              "      background-color: #3B4455;\n",
              "      fill: #D2E3FC;\n",
              "    }\n",
              "\n",
              "    [theme=dark] .colab-df-convert:hover {\n",
              "      background-color: #434B5C;\n",
              "      box-shadow: 0px 1px 3px 1px rgba(0, 0, 0, 0.15);\n",
              "      filter: drop-shadow(0px 1px 2px rgba(0, 0, 0, 0.3));\n",
              "      fill: #FFFFFF;\n",
              "    }\n",
              "  </style>\n",
              "\n",
              "      <script>\n",
              "        const buttonEl =\n",
              "          document.querySelector('#df-bcf43fbc-c0e9-40e5-942a-30dd7344eedd button.colab-df-convert');\n",
              "        buttonEl.style.display =\n",
              "          google.colab.kernel.accessAllowed ? 'block' : 'none';\n",
              "\n",
              "        async function convertToInteractive(key) {\n",
              "          const element = document.querySelector('#df-bcf43fbc-c0e9-40e5-942a-30dd7344eedd');\n",
              "          const dataTable =\n",
              "            await google.colab.kernel.invokeFunction('convertToInteractive',\n",
              "                                                     [key], {});\n",
              "          if (!dataTable) return;\n",
              "\n",
              "          const docLinkHtml = 'Like what you see? Visit the ' +\n",
              "            '<a target=\"_blank\" href=https://colab.research.google.com/notebooks/data_table.ipynb>data table notebook</a>'\n",
              "            + ' to learn more about interactive tables.';\n",
              "          element.innerHTML = '';\n",
              "          dataTable['output_type'] = 'display_data';\n",
              "          await google.colab.output.renderOutput(dataTable, element);\n",
              "          const docLink = document.createElement('div');\n",
              "          docLink.innerHTML = docLinkHtml;\n",
              "          element.appendChild(docLink);\n",
              "        }\n",
              "      </script>\n",
              "    </div>\n",
              "  </div>\n",
              "  "
            ]
          },
          "metadata": {},
          "execution_count": 24
        }
      ]
    },
    {
      "cell_type": "code",
      "source": [
        "df[bc_cols].fillna(df.mode())"
      ],
      "metadata": {
        "colab": {
          "base_uri": "https://localhost:8080/",
          "height": 424
        },
        "id": "nI1NXSV2hIB2",
        "outputId": "3dfc1c96-382d-4436-a43a-de28c8a58407"
      },
      "execution_count": null,
      "outputs": [
        {
          "output_type": "execute_result",
          "data": {
            "text/plain": [
              "      sex  steroid  fatigue  malaise  anorexia  liver_big  liver_firm  \\\n",
              "0    True    False    False    False     False      False       False   \n",
              "1    True    False     True    False     False      False       False   \n",
              "2    True     True     True    False     False       True       False   \n",
              "3    True     True    False    False     False       True       False   \n",
              "4    True     True    False    False     False       True       False   \n",
              "..    ...      ...      ...      ...       ...        ...         ...   \n",
              "150  True     True     True     True      True       True       False   \n",
              "151  True     True     True    False     False       True        True   \n",
              "152  True    False     True     True     False      False        True   \n",
              "153  True    False     True    False     False       True       False   \n",
              "154  True     True     True    False     False       True       False   \n",
              "\n",
              "     spleen_palpable  spiders  ascites  varices  \n",
              "0              False    False    False    False  \n",
              "1              False    False    False    False  \n",
              "2              False    False    False    False  \n",
              "3              False    False    False    False  \n",
              "4              False    False    False    False  \n",
              "..               ...      ...      ...      ...  \n",
              "150            False     True     True     True  \n",
              "151            False    False    False    False  \n",
              "152            False     True    False    False  \n",
              "153             True     True    False     True  \n",
              "154             True     True     True    False  \n",
              "\n",
              "[155 rows x 11 columns]"
            ],
            "text/html": [
              "\n",
              "  <div id=\"df-5113d744-225b-4b11-9776-345143aeee5d\">\n",
              "    <div class=\"colab-df-container\">\n",
              "      <div>\n",
              "<style scoped>\n",
              "    .dataframe tbody tr th:only-of-type {\n",
              "        vertical-align: middle;\n",
              "    }\n",
              "\n",
              "    .dataframe tbody tr th {\n",
              "        vertical-align: top;\n",
              "    }\n",
              "\n",
              "    .dataframe thead th {\n",
              "        text-align: right;\n",
              "    }\n",
              "</style>\n",
              "<table border=\"1\" class=\"dataframe\">\n",
              "  <thead>\n",
              "    <tr style=\"text-align: right;\">\n",
              "      <th></th>\n",
              "      <th>sex</th>\n",
              "      <th>steroid</th>\n",
              "      <th>fatigue</th>\n",
              "      <th>malaise</th>\n",
              "      <th>anorexia</th>\n",
              "      <th>liver_big</th>\n",
              "      <th>liver_firm</th>\n",
              "      <th>spleen_palpable</th>\n",
              "      <th>spiders</th>\n",
              "      <th>ascites</th>\n",
              "      <th>varices</th>\n",
              "    </tr>\n",
              "  </thead>\n",
              "  <tbody>\n",
              "    <tr>\n",
              "      <th>0</th>\n",
              "      <td>True</td>\n",
              "      <td>False</td>\n",
              "      <td>False</td>\n",
              "      <td>False</td>\n",
              "      <td>False</td>\n",
              "      <td>False</td>\n",
              "      <td>False</td>\n",
              "      <td>False</td>\n",
              "      <td>False</td>\n",
              "      <td>False</td>\n",
              "      <td>False</td>\n",
              "    </tr>\n",
              "    <tr>\n",
              "      <th>1</th>\n",
              "      <td>True</td>\n",
              "      <td>False</td>\n",
              "      <td>True</td>\n",
              "      <td>False</td>\n",
              "      <td>False</td>\n",
              "      <td>False</td>\n",
              "      <td>False</td>\n",
              "      <td>False</td>\n",
              "      <td>False</td>\n",
              "      <td>False</td>\n",
              "      <td>False</td>\n",
              "    </tr>\n",
              "    <tr>\n",
              "      <th>2</th>\n",
              "      <td>True</td>\n",
              "      <td>True</td>\n",
              "      <td>True</td>\n",
              "      <td>False</td>\n",
              "      <td>False</td>\n",
              "      <td>True</td>\n",
              "      <td>False</td>\n",
              "      <td>False</td>\n",
              "      <td>False</td>\n",
              "      <td>False</td>\n",
              "      <td>False</td>\n",
              "    </tr>\n",
              "    <tr>\n",
              "      <th>3</th>\n",
              "      <td>True</td>\n",
              "      <td>True</td>\n",
              "      <td>False</td>\n",
              "      <td>False</td>\n",
              "      <td>False</td>\n",
              "      <td>True</td>\n",
              "      <td>False</td>\n",
              "      <td>False</td>\n",
              "      <td>False</td>\n",
              "      <td>False</td>\n",
              "      <td>False</td>\n",
              "    </tr>\n",
              "    <tr>\n",
              "      <th>4</th>\n",
              "      <td>True</td>\n",
              "      <td>True</td>\n",
              "      <td>False</td>\n",
              "      <td>False</td>\n",
              "      <td>False</td>\n",
              "      <td>True</td>\n",
              "      <td>False</td>\n",
              "      <td>False</td>\n",
              "      <td>False</td>\n",
              "      <td>False</td>\n",
              "      <td>False</td>\n",
              "    </tr>\n",
              "    <tr>\n",
              "      <th>...</th>\n",
              "      <td>...</td>\n",
              "      <td>...</td>\n",
              "      <td>...</td>\n",
              "      <td>...</td>\n",
              "      <td>...</td>\n",
              "      <td>...</td>\n",
              "      <td>...</td>\n",
              "      <td>...</td>\n",
              "      <td>...</td>\n",
              "      <td>...</td>\n",
              "      <td>...</td>\n",
              "    </tr>\n",
              "    <tr>\n",
              "      <th>150</th>\n",
              "      <td>True</td>\n",
              "      <td>True</td>\n",
              "      <td>True</td>\n",
              "      <td>True</td>\n",
              "      <td>True</td>\n",
              "      <td>True</td>\n",
              "      <td>False</td>\n",
              "      <td>False</td>\n",
              "      <td>True</td>\n",
              "      <td>True</td>\n",
              "      <td>True</td>\n",
              "    </tr>\n",
              "    <tr>\n",
              "      <th>151</th>\n",
              "      <td>True</td>\n",
              "      <td>True</td>\n",
              "      <td>True</td>\n",
              "      <td>False</td>\n",
              "      <td>False</td>\n",
              "      <td>True</td>\n",
              "      <td>True</td>\n",
              "      <td>False</td>\n",
              "      <td>False</td>\n",
              "      <td>False</td>\n",
              "      <td>False</td>\n",
              "    </tr>\n",
              "    <tr>\n",
              "      <th>152</th>\n",
              "      <td>True</td>\n",
              "      <td>False</td>\n",
              "      <td>True</td>\n",
              "      <td>True</td>\n",
              "      <td>False</td>\n",
              "      <td>False</td>\n",
              "      <td>True</td>\n",
              "      <td>False</td>\n",
              "      <td>True</td>\n",
              "      <td>False</td>\n",
              "      <td>False</td>\n",
              "    </tr>\n",
              "    <tr>\n",
              "      <th>153</th>\n",
              "      <td>True</td>\n",
              "      <td>False</td>\n",
              "      <td>True</td>\n",
              "      <td>False</td>\n",
              "      <td>False</td>\n",
              "      <td>True</td>\n",
              "      <td>False</td>\n",
              "      <td>True</td>\n",
              "      <td>True</td>\n",
              "      <td>False</td>\n",
              "      <td>True</td>\n",
              "    </tr>\n",
              "    <tr>\n",
              "      <th>154</th>\n",
              "      <td>True</td>\n",
              "      <td>True</td>\n",
              "      <td>True</td>\n",
              "      <td>False</td>\n",
              "      <td>False</td>\n",
              "      <td>True</td>\n",
              "      <td>False</td>\n",
              "      <td>True</td>\n",
              "      <td>True</td>\n",
              "      <td>True</td>\n",
              "      <td>False</td>\n",
              "    </tr>\n",
              "  </tbody>\n",
              "</table>\n",
              "<p>155 rows × 11 columns</p>\n",
              "</div>\n",
              "      <button class=\"colab-df-convert\" onclick=\"convertToInteractive('df-5113d744-225b-4b11-9776-345143aeee5d')\"\n",
              "              title=\"Convert this dataframe to an interactive table.\"\n",
              "              style=\"display:none;\">\n",
              "        \n",
              "  <svg xmlns=\"http://www.w3.org/2000/svg\" height=\"24px\"viewBox=\"0 0 24 24\"\n",
              "       width=\"24px\">\n",
              "    <path d=\"M0 0h24v24H0V0z\" fill=\"none\"/>\n",
              "    <path d=\"M18.56 5.44l.94 2.06.94-2.06 2.06-.94-2.06-.94-.94-2.06-.94 2.06-2.06.94zm-11 1L8.5 8.5l.94-2.06 2.06-.94-2.06-.94L8.5 2.5l-.94 2.06-2.06.94zm10 10l.94 2.06.94-2.06 2.06-.94-2.06-.94-.94-2.06-.94 2.06-2.06.94z\"/><path d=\"M17.41 7.96l-1.37-1.37c-.4-.4-.92-.59-1.43-.59-.52 0-1.04.2-1.43.59L10.3 9.45l-7.72 7.72c-.78.78-.78 2.05 0 2.83L4 21.41c.39.39.9.59 1.41.59.51 0 1.02-.2 1.41-.59l7.78-7.78 2.81-2.81c.8-.78.8-2.07 0-2.86zM5.41 20L4 18.59l7.72-7.72 1.47 1.35L5.41 20z\"/>\n",
              "  </svg>\n",
              "      </button>\n",
              "      \n",
              "  <style>\n",
              "    .colab-df-container {\n",
              "      display:flex;\n",
              "      flex-wrap:wrap;\n",
              "      gap: 12px;\n",
              "    }\n",
              "\n",
              "    .colab-df-convert {\n",
              "      background-color: #E8F0FE;\n",
              "      border: none;\n",
              "      border-radius: 50%;\n",
              "      cursor: pointer;\n",
              "      display: none;\n",
              "      fill: #1967D2;\n",
              "      height: 32px;\n",
              "      padding: 0 0 0 0;\n",
              "      width: 32px;\n",
              "    }\n",
              "\n",
              "    .colab-df-convert:hover {\n",
              "      background-color: #E2EBFA;\n",
              "      box-shadow: 0px 1px 2px rgba(60, 64, 67, 0.3), 0px 1px 3px 1px rgba(60, 64, 67, 0.15);\n",
              "      fill: #174EA6;\n",
              "    }\n",
              "\n",
              "    [theme=dark] .colab-df-convert {\n",
              "      background-color: #3B4455;\n",
              "      fill: #D2E3FC;\n",
              "    }\n",
              "\n",
              "    [theme=dark] .colab-df-convert:hover {\n",
              "      background-color: #434B5C;\n",
              "      box-shadow: 0px 1px 3px 1px rgba(0, 0, 0, 0.15);\n",
              "      filter: drop-shadow(0px 1px 2px rgba(0, 0, 0, 0.3));\n",
              "      fill: #FFFFFF;\n",
              "    }\n",
              "  </style>\n",
              "\n",
              "      <script>\n",
              "        const buttonEl =\n",
              "          document.querySelector('#df-5113d744-225b-4b11-9776-345143aeee5d button.colab-df-convert');\n",
              "        buttonEl.style.display =\n",
              "          google.colab.kernel.accessAllowed ? 'block' : 'none';\n",
              "\n",
              "        async function convertToInteractive(key) {\n",
              "          const element = document.querySelector('#df-5113d744-225b-4b11-9776-345143aeee5d');\n",
              "          const dataTable =\n",
              "            await google.colab.kernel.invokeFunction('convertToInteractive',\n",
              "                                                     [key], {});\n",
              "          if (!dataTable) return;\n",
              "\n",
              "          const docLinkHtml = 'Like what you see? Visit the ' +\n",
              "            '<a target=\"_blank\" href=https://colab.research.google.com/notebooks/data_table.ipynb>data table notebook</a>'\n",
              "            + ' to learn more about interactive tables.';\n",
              "          element.innerHTML = '';\n",
              "          dataTable['output_type'] = 'display_data';\n",
              "          await google.colab.output.renderOutput(dataTable, element);\n",
              "          const docLink = document.createElement('div');\n",
              "          docLink.innerHTML = docLinkHtml;\n",
              "          element.appendChild(docLink);\n",
              "        }\n",
              "      </script>\n",
              "    </div>\n",
              "  </div>\n",
              "  "
            ]
          },
          "metadata": {},
          "execution_count": 49
        }
      ]
    },
    {
      "cell_type": "code",
      "source": [
        "df.isna().sum()/len(df)*100"
      ],
      "metadata": {
        "colab": {
          "base_uri": "https://localhost:8080/"
        },
        "id": "8MF-e5RLhIEW",
        "outputId": "0c5cc29f-bbbc-4926-b2ec-ac8d408fb365"
      },
      "execution_count": null,
      "outputs": [
        {
          "output_type": "execute_result",
          "data": {
            "text/plain": [
              "age                0.0\n",
              "sex                0.0\n",
              "steroid            0.0\n",
              "antivirals         0.0\n",
              "fatigue            0.0\n",
              "malaise            0.0\n",
              "anorexia           0.0\n",
              "spleen_palpable    0.0\n",
              "spiders            0.0\n",
              "ascites            0.0\n",
              "varices            0.0\n",
              "bilirubin          0.0\n",
              "sgot               0.0\n",
              "histology          0.0\n",
              "class              0.0\n",
              "dtype: float64"
            ]
          },
          "metadata": {},
          "execution_count": 25
        }
      ]
    },
    {
      "cell_type": "markdown",
      "source": [
        "#### Interpolation (Nội suy)\n",
        "\n",
        "we could replace a missing value over a column, with the interpolation between the previous and the next ones. This can be achieved through the use of the interpolate() function.\n"
      ],
      "metadata": {
        "id": "BQPB68BWjFre"
      }
    },
    {
      "cell_type": "code",
      "source": [
        "df = pd.read_csv('https://raw.githubusercontent.com/thieu1995/csv-files/main/data/pandas/hepatitis.csv')\n",
        "df.isna().sum()/len(df)*100"
      ],
      "metadata": {
        "colab": {
          "base_uri": "https://localhost:8080/"
        },
        "id": "EFTRkBwpjUgo",
        "outputId": "a29128de-5a3b-4504-84b2-e169e6a4be27"
      },
      "execution_count": null,
      "outputs": [
        {
          "output_type": "execute_result",
          "data": {
            "text/plain": [
              "age                 0.000000\n",
              "sex                 0.000000\n",
              "steroid             0.645161\n",
              "antivirals          0.000000\n",
              "fatigue             0.645161\n",
              "malaise             0.645161\n",
              "anorexia            0.645161\n",
              "liver_big           6.451613\n",
              "liver_firm          7.096774\n",
              "spleen_palpable     3.225806\n",
              "spiders             3.225806\n",
              "ascites             3.225806\n",
              "varices             3.225806\n",
              "bilirubin           3.870968\n",
              "alk_phosphate      18.709677\n",
              "sgot                2.580645\n",
              "albumin            10.322581\n",
              "protime            43.225806\n",
              "histology           0.000000\n",
              "class               0.000000\n",
              "dtype: float64"
            ]
          },
          "metadata": {},
          "execution_count": 27
        }
      ]
    },
    {
      "cell_type": "code",
      "source": [
        "numeric = df.select_dtypes(include=np.number)\n",
        "nc_cols = numeric.columns\n",
        "df[nc_cols].head(10)"
      ],
      "metadata": {
        "colab": {
          "base_uri": "https://localhost:8080/",
          "height": 363
        },
        "id": "xIrAPv5JjcdO",
        "outputId": "fab99328-6c8d-421b-f4be-4b52c376a349"
      },
      "execution_count": null,
      "outputs": [
        {
          "output_type": "execute_result",
          "data": {
            "text/plain": [
              "   age  bilirubin  alk_phosphate   sgot  albumin  protime\n",
              "0   30        1.0           85.0   18.0      4.0      NaN\n",
              "1   50        0.9          135.0   42.0      3.5      NaN\n",
              "2   78        0.7           96.0   32.0      4.0      NaN\n",
              "3   31        0.7           46.0   52.0      4.0     80.0\n",
              "4   34        1.0            NaN  200.0      4.0      NaN\n",
              "5   34        0.9           95.0   28.0      4.0     75.0\n",
              "6   51        NaN            NaN    NaN      NaN      NaN\n",
              "7   23        1.0            NaN    NaN      NaN      NaN\n",
              "8   39        0.7            NaN   48.0      4.4      NaN\n",
              "9   30        1.0            NaN  120.0      3.9      NaN"
            ],
            "text/html": [
              "\n",
              "  <div id=\"df-db0201bd-c8eb-411d-bf0f-9d66cec268de\">\n",
              "    <div class=\"colab-df-container\">\n",
              "      <div>\n",
              "<style scoped>\n",
              "    .dataframe tbody tr th:only-of-type {\n",
              "        vertical-align: middle;\n",
              "    }\n",
              "\n",
              "    .dataframe tbody tr th {\n",
              "        vertical-align: top;\n",
              "    }\n",
              "\n",
              "    .dataframe thead th {\n",
              "        text-align: right;\n",
              "    }\n",
              "</style>\n",
              "<table border=\"1\" class=\"dataframe\">\n",
              "  <thead>\n",
              "    <tr style=\"text-align: right;\">\n",
              "      <th></th>\n",
              "      <th>age</th>\n",
              "      <th>bilirubin</th>\n",
              "      <th>alk_phosphate</th>\n",
              "      <th>sgot</th>\n",
              "      <th>albumin</th>\n",
              "      <th>protime</th>\n",
              "    </tr>\n",
              "  </thead>\n",
              "  <tbody>\n",
              "    <tr>\n",
              "      <th>0</th>\n",
              "      <td>30</td>\n",
              "      <td>1.0</td>\n",
              "      <td>85.0</td>\n",
              "      <td>18.0</td>\n",
              "      <td>4.0</td>\n",
              "      <td>NaN</td>\n",
              "    </tr>\n",
              "    <tr>\n",
              "      <th>1</th>\n",
              "      <td>50</td>\n",
              "      <td>0.9</td>\n",
              "      <td>135.0</td>\n",
              "      <td>42.0</td>\n",
              "      <td>3.5</td>\n",
              "      <td>NaN</td>\n",
              "    </tr>\n",
              "    <tr>\n",
              "      <th>2</th>\n",
              "      <td>78</td>\n",
              "      <td>0.7</td>\n",
              "      <td>96.0</td>\n",
              "      <td>32.0</td>\n",
              "      <td>4.0</td>\n",
              "      <td>NaN</td>\n",
              "    </tr>\n",
              "    <tr>\n",
              "      <th>3</th>\n",
              "      <td>31</td>\n",
              "      <td>0.7</td>\n",
              "      <td>46.0</td>\n",
              "      <td>52.0</td>\n",
              "      <td>4.0</td>\n",
              "      <td>80.0</td>\n",
              "    </tr>\n",
              "    <tr>\n",
              "      <th>4</th>\n",
              "      <td>34</td>\n",
              "      <td>1.0</td>\n",
              "      <td>NaN</td>\n",
              "      <td>200.0</td>\n",
              "      <td>4.0</td>\n",
              "      <td>NaN</td>\n",
              "    </tr>\n",
              "    <tr>\n",
              "      <th>5</th>\n",
              "      <td>34</td>\n",
              "      <td>0.9</td>\n",
              "      <td>95.0</td>\n",
              "      <td>28.0</td>\n",
              "      <td>4.0</td>\n",
              "      <td>75.0</td>\n",
              "    </tr>\n",
              "    <tr>\n",
              "      <th>6</th>\n",
              "      <td>51</td>\n",
              "      <td>NaN</td>\n",
              "      <td>NaN</td>\n",
              "      <td>NaN</td>\n",
              "      <td>NaN</td>\n",
              "      <td>NaN</td>\n",
              "    </tr>\n",
              "    <tr>\n",
              "      <th>7</th>\n",
              "      <td>23</td>\n",
              "      <td>1.0</td>\n",
              "      <td>NaN</td>\n",
              "      <td>NaN</td>\n",
              "      <td>NaN</td>\n",
              "      <td>NaN</td>\n",
              "    </tr>\n",
              "    <tr>\n",
              "      <th>8</th>\n",
              "      <td>39</td>\n",
              "      <td>0.7</td>\n",
              "      <td>NaN</td>\n",
              "      <td>48.0</td>\n",
              "      <td>4.4</td>\n",
              "      <td>NaN</td>\n",
              "    </tr>\n",
              "    <tr>\n",
              "      <th>9</th>\n",
              "      <td>30</td>\n",
              "      <td>1.0</td>\n",
              "      <td>NaN</td>\n",
              "      <td>120.0</td>\n",
              "      <td>3.9</td>\n",
              "      <td>NaN</td>\n",
              "    </tr>\n",
              "  </tbody>\n",
              "</table>\n",
              "</div>\n",
              "      <button class=\"colab-df-convert\" onclick=\"convertToInteractive('df-db0201bd-c8eb-411d-bf0f-9d66cec268de')\"\n",
              "              title=\"Convert this dataframe to an interactive table.\"\n",
              "              style=\"display:none;\">\n",
              "        \n",
              "  <svg xmlns=\"http://www.w3.org/2000/svg\" height=\"24px\"viewBox=\"0 0 24 24\"\n",
              "       width=\"24px\">\n",
              "    <path d=\"M0 0h24v24H0V0z\" fill=\"none\"/>\n",
              "    <path d=\"M18.56 5.44l.94 2.06.94-2.06 2.06-.94-2.06-.94-.94-2.06-.94 2.06-2.06.94zm-11 1L8.5 8.5l.94-2.06 2.06-.94-2.06-.94L8.5 2.5l-.94 2.06-2.06.94zm10 10l.94 2.06.94-2.06 2.06-.94-2.06-.94-.94-2.06-.94 2.06-2.06.94z\"/><path d=\"M17.41 7.96l-1.37-1.37c-.4-.4-.92-.59-1.43-.59-.52 0-1.04.2-1.43.59L10.3 9.45l-7.72 7.72c-.78.78-.78 2.05 0 2.83L4 21.41c.39.39.9.59 1.41.59.51 0 1.02-.2 1.41-.59l7.78-7.78 2.81-2.81c.8-.78.8-2.07 0-2.86zM5.41 20L4 18.59l7.72-7.72 1.47 1.35L5.41 20z\"/>\n",
              "  </svg>\n",
              "      </button>\n",
              "      \n",
              "  <style>\n",
              "    .colab-df-container {\n",
              "      display:flex;\n",
              "      flex-wrap:wrap;\n",
              "      gap: 12px;\n",
              "    }\n",
              "\n",
              "    .colab-df-convert {\n",
              "      background-color: #E8F0FE;\n",
              "      border: none;\n",
              "      border-radius: 50%;\n",
              "      cursor: pointer;\n",
              "      display: none;\n",
              "      fill: #1967D2;\n",
              "      height: 32px;\n",
              "      padding: 0 0 0 0;\n",
              "      width: 32px;\n",
              "    }\n",
              "\n",
              "    .colab-df-convert:hover {\n",
              "      background-color: #E2EBFA;\n",
              "      box-shadow: 0px 1px 2px rgba(60, 64, 67, 0.3), 0px 1px 3px 1px rgba(60, 64, 67, 0.15);\n",
              "      fill: #174EA6;\n",
              "    }\n",
              "\n",
              "    [theme=dark] .colab-df-convert {\n",
              "      background-color: #3B4455;\n",
              "      fill: #D2E3FC;\n",
              "    }\n",
              "\n",
              "    [theme=dark] .colab-df-convert:hover {\n",
              "      background-color: #434B5C;\n",
              "      box-shadow: 0px 1px 3px 1px rgba(0, 0, 0, 0.15);\n",
              "      filter: drop-shadow(0px 1px 2px rgba(0, 0, 0, 0.3));\n",
              "      fill: #FFFFFF;\n",
              "    }\n",
              "  </style>\n",
              "\n",
              "      <script>\n",
              "        const buttonEl =\n",
              "          document.querySelector('#df-db0201bd-c8eb-411d-bf0f-9d66cec268de button.colab-df-convert');\n",
              "        buttonEl.style.display =\n",
              "          google.colab.kernel.accessAllowed ? 'block' : 'none';\n",
              "\n",
              "        async function convertToInteractive(key) {\n",
              "          const element = document.querySelector('#df-db0201bd-c8eb-411d-bf0f-9d66cec268de');\n",
              "          const dataTable =\n",
              "            await google.colab.kernel.invokeFunction('convertToInteractive',\n",
              "                                                     [key], {});\n",
              "          if (!dataTable) return;\n",
              "\n",
              "          const docLinkHtml = 'Like what you see? Visit the ' +\n",
              "            '<a target=\"_blank\" href=https://colab.research.google.com/notebooks/data_table.ipynb>data table notebook</a>'\n",
              "            + ' to learn more about interactive tables.';\n",
              "          element.innerHTML = '';\n",
              "          dataTable['output_type'] = 'display_data';\n",
              "          await google.colab.output.renderOutput(dataTable, element);\n",
              "          const docLink = document.createElement('div');\n",
              "          docLink.innerHTML = docLinkHtml;\n",
              "          element.appendChild(docLink);\n",
              "        }\n",
              "      </script>\n",
              "    </div>\n",
              "  </div>\n",
              "  "
            ]
          },
          "metadata": {},
          "execution_count": 28
        }
      ]
    },
    {
      "cell_type": "markdown",
      "source": [
        "* we can apply the **interpolate()** function to numeric columns, by setting also the limit direction to **forward**. This means that the linear interpolation is applied starting from the **first row until the last one.**"
      ],
      "metadata": {
        "id": "2pxr2GjjjkDw"
      }
    },
    {
      "cell_type": "code",
      "source": [
        "df[nc_cols] = df[nc_cols].interpolate(method ='linear', limit_direction ='forward')\n",
        "df[nc_cols].head(20)"
      ],
      "metadata": {
        "colab": {
          "base_uri": "https://localhost:8080/",
          "height": 676
        },
        "id": "Qqa2ZyI9jn-X",
        "outputId": "924dff54-34a5-4053-ac2b-e264061a66eb"
      },
      "execution_count": null,
      "outputs": [
        {
          "output_type": "execute_result",
          "data": {
            "text/plain": [
              "    age  bilirubin  alk_phosphate        sgot   albumin  protime\n",
              "0    30       1.00           85.0   18.000000  4.000000      NaN\n",
              "1    50       0.90          135.0   42.000000  3.500000      NaN\n",
              "2    78       0.70           96.0   32.000000  4.000000      NaN\n",
              "3    31       0.70           46.0   52.000000  4.000000     80.0\n",
              "4    34       1.00           70.5  200.000000  4.000000     77.5\n",
              "5    34       0.90           95.0   28.000000  4.000000     75.0\n",
              "6    51       0.95           91.6   34.666667  4.133333     77.0\n",
              "7    23       1.00           88.2   41.333333  4.266667     79.0\n",
              "8    39       0.70           84.8   48.000000  4.400000     81.0\n",
              "9    30       1.00           81.4  120.000000  3.900000     83.0\n",
              "10   39       1.30           78.0   30.000000  4.400000     85.0\n",
              "11   32       1.00           59.0  249.000000  3.700000     54.0\n",
              "12   41       0.90           81.0   60.000000  3.900000     52.0\n",
              "13   30       2.20           57.0  144.000000  4.900000     78.0\n",
              "14   47       2.10           64.5   60.000000  3.900000     62.0\n",
              "15   38       2.00           72.0   89.000000  2.900000     46.0\n",
              "16   66       1.20          102.0   53.000000  4.300000     54.5\n",
              "17   40       0.60           62.0  166.000000  4.000000     63.0\n",
              "18   38       0.70           53.0   42.000000  4.100000     85.0\n",
              "19   38       0.70           70.0   28.000000  4.200000     62.0"
            ],
            "text/html": [
              "\n",
              "  <div id=\"df-6a0fee8b-d22a-479b-bf48-caef92421a81\">\n",
              "    <div class=\"colab-df-container\">\n",
              "      <div>\n",
              "<style scoped>\n",
              "    .dataframe tbody tr th:only-of-type {\n",
              "        vertical-align: middle;\n",
              "    }\n",
              "\n",
              "    .dataframe tbody tr th {\n",
              "        vertical-align: top;\n",
              "    }\n",
              "\n",
              "    .dataframe thead th {\n",
              "        text-align: right;\n",
              "    }\n",
              "</style>\n",
              "<table border=\"1\" class=\"dataframe\">\n",
              "  <thead>\n",
              "    <tr style=\"text-align: right;\">\n",
              "      <th></th>\n",
              "      <th>age</th>\n",
              "      <th>bilirubin</th>\n",
              "      <th>alk_phosphate</th>\n",
              "      <th>sgot</th>\n",
              "      <th>albumin</th>\n",
              "      <th>protime</th>\n",
              "    </tr>\n",
              "  </thead>\n",
              "  <tbody>\n",
              "    <tr>\n",
              "      <th>0</th>\n",
              "      <td>30</td>\n",
              "      <td>1.00</td>\n",
              "      <td>85.0</td>\n",
              "      <td>18.000000</td>\n",
              "      <td>4.000000</td>\n",
              "      <td>NaN</td>\n",
              "    </tr>\n",
              "    <tr>\n",
              "      <th>1</th>\n",
              "      <td>50</td>\n",
              "      <td>0.90</td>\n",
              "      <td>135.0</td>\n",
              "      <td>42.000000</td>\n",
              "      <td>3.500000</td>\n",
              "      <td>NaN</td>\n",
              "    </tr>\n",
              "    <tr>\n",
              "      <th>2</th>\n",
              "      <td>78</td>\n",
              "      <td>0.70</td>\n",
              "      <td>96.0</td>\n",
              "      <td>32.000000</td>\n",
              "      <td>4.000000</td>\n",
              "      <td>NaN</td>\n",
              "    </tr>\n",
              "    <tr>\n",
              "      <th>3</th>\n",
              "      <td>31</td>\n",
              "      <td>0.70</td>\n",
              "      <td>46.0</td>\n",
              "      <td>52.000000</td>\n",
              "      <td>4.000000</td>\n",
              "      <td>80.0</td>\n",
              "    </tr>\n",
              "    <tr>\n",
              "      <th>4</th>\n",
              "      <td>34</td>\n",
              "      <td>1.00</td>\n",
              "      <td>70.5</td>\n",
              "      <td>200.000000</td>\n",
              "      <td>4.000000</td>\n",
              "      <td>77.5</td>\n",
              "    </tr>\n",
              "    <tr>\n",
              "      <th>5</th>\n",
              "      <td>34</td>\n",
              "      <td>0.90</td>\n",
              "      <td>95.0</td>\n",
              "      <td>28.000000</td>\n",
              "      <td>4.000000</td>\n",
              "      <td>75.0</td>\n",
              "    </tr>\n",
              "    <tr>\n",
              "      <th>6</th>\n",
              "      <td>51</td>\n",
              "      <td>0.95</td>\n",
              "      <td>91.6</td>\n",
              "      <td>34.666667</td>\n",
              "      <td>4.133333</td>\n",
              "      <td>77.0</td>\n",
              "    </tr>\n",
              "    <tr>\n",
              "      <th>7</th>\n",
              "      <td>23</td>\n",
              "      <td>1.00</td>\n",
              "      <td>88.2</td>\n",
              "      <td>41.333333</td>\n",
              "      <td>4.266667</td>\n",
              "      <td>79.0</td>\n",
              "    </tr>\n",
              "    <tr>\n",
              "      <th>8</th>\n",
              "      <td>39</td>\n",
              "      <td>0.70</td>\n",
              "      <td>84.8</td>\n",
              "      <td>48.000000</td>\n",
              "      <td>4.400000</td>\n",
              "      <td>81.0</td>\n",
              "    </tr>\n",
              "    <tr>\n",
              "      <th>9</th>\n",
              "      <td>30</td>\n",
              "      <td>1.00</td>\n",
              "      <td>81.4</td>\n",
              "      <td>120.000000</td>\n",
              "      <td>3.900000</td>\n",
              "      <td>83.0</td>\n",
              "    </tr>\n",
              "    <tr>\n",
              "      <th>10</th>\n",
              "      <td>39</td>\n",
              "      <td>1.30</td>\n",
              "      <td>78.0</td>\n",
              "      <td>30.000000</td>\n",
              "      <td>4.400000</td>\n",
              "      <td>85.0</td>\n",
              "    </tr>\n",
              "    <tr>\n",
              "      <th>11</th>\n",
              "      <td>32</td>\n",
              "      <td>1.00</td>\n",
              "      <td>59.0</td>\n",
              "      <td>249.000000</td>\n",
              "      <td>3.700000</td>\n",
              "      <td>54.0</td>\n",
              "    </tr>\n",
              "    <tr>\n",
              "      <th>12</th>\n",
              "      <td>41</td>\n",
              "      <td>0.90</td>\n",
              "      <td>81.0</td>\n",
              "      <td>60.000000</td>\n",
              "      <td>3.900000</td>\n",
              "      <td>52.0</td>\n",
              "    </tr>\n",
              "    <tr>\n",
              "      <th>13</th>\n",
              "      <td>30</td>\n",
              "      <td>2.20</td>\n",
              "      <td>57.0</td>\n",
              "      <td>144.000000</td>\n",
              "      <td>4.900000</td>\n",
              "      <td>78.0</td>\n",
              "    </tr>\n",
              "    <tr>\n",
              "      <th>14</th>\n",
              "      <td>47</td>\n",
              "      <td>2.10</td>\n",
              "      <td>64.5</td>\n",
              "      <td>60.000000</td>\n",
              "      <td>3.900000</td>\n",
              "      <td>62.0</td>\n",
              "    </tr>\n",
              "    <tr>\n",
              "      <th>15</th>\n",
              "      <td>38</td>\n",
              "      <td>2.00</td>\n",
              "      <td>72.0</td>\n",
              "      <td>89.000000</td>\n",
              "      <td>2.900000</td>\n",
              "      <td>46.0</td>\n",
              "    </tr>\n",
              "    <tr>\n",
              "      <th>16</th>\n",
              "      <td>66</td>\n",
              "      <td>1.20</td>\n",
              "      <td>102.0</td>\n",
              "      <td>53.000000</td>\n",
              "      <td>4.300000</td>\n",
              "      <td>54.5</td>\n",
              "    </tr>\n",
              "    <tr>\n",
              "      <th>17</th>\n",
              "      <td>40</td>\n",
              "      <td>0.60</td>\n",
              "      <td>62.0</td>\n",
              "      <td>166.000000</td>\n",
              "      <td>4.000000</td>\n",
              "      <td>63.0</td>\n",
              "    </tr>\n",
              "    <tr>\n",
              "      <th>18</th>\n",
              "      <td>38</td>\n",
              "      <td>0.70</td>\n",
              "      <td>53.0</td>\n",
              "      <td>42.000000</td>\n",
              "      <td>4.100000</td>\n",
              "      <td>85.0</td>\n",
              "    </tr>\n",
              "    <tr>\n",
              "      <th>19</th>\n",
              "      <td>38</td>\n",
              "      <td>0.70</td>\n",
              "      <td>70.0</td>\n",
              "      <td>28.000000</td>\n",
              "      <td>4.200000</td>\n",
              "      <td>62.0</td>\n",
              "    </tr>\n",
              "  </tbody>\n",
              "</table>\n",
              "</div>\n",
              "      <button class=\"colab-df-convert\" onclick=\"convertToInteractive('df-6a0fee8b-d22a-479b-bf48-caef92421a81')\"\n",
              "              title=\"Convert this dataframe to an interactive table.\"\n",
              "              style=\"display:none;\">\n",
              "        \n",
              "  <svg xmlns=\"http://www.w3.org/2000/svg\" height=\"24px\"viewBox=\"0 0 24 24\"\n",
              "       width=\"24px\">\n",
              "    <path d=\"M0 0h24v24H0V0z\" fill=\"none\"/>\n",
              "    <path d=\"M18.56 5.44l.94 2.06.94-2.06 2.06-.94-2.06-.94-.94-2.06-.94 2.06-2.06.94zm-11 1L8.5 8.5l.94-2.06 2.06-.94-2.06-.94L8.5 2.5l-.94 2.06-2.06.94zm10 10l.94 2.06.94-2.06 2.06-.94-2.06-.94-.94-2.06-.94 2.06-2.06.94z\"/><path d=\"M17.41 7.96l-1.37-1.37c-.4-.4-.92-.59-1.43-.59-.52 0-1.04.2-1.43.59L10.3 9.45l-7.72 7.72c-.78.78-.78 2.05 0 2.83L4 21.41c.39.39.9.59 1.41.59.51 0 1.02-.2 1.41-.59l7.78-7.78 2.81-2.81c.8-.78.8-2.07 0-2.86zM5.41 20L4 18.59l7.72-7.72 1.47 1.35L5.41 20z\"/>\n",
              "  </svg>\n",
              "      </button>\n",
              "      \n",
              "  <style>\n",
              "    .colab-df-container {\n",
              "      display:flex;\n",
              "      flex-wrap:wrap;\n",
              "      gap: 12px;\n",
              "    }\n",
              "\n",
              "    .colab-df-convert {\n",
              "      background-color: #E8F0FE;\n",
              "      border: none;\n",
              "      border-radius: 50%;\n",
              "      cursor: pointer;\n",
              "      display: none;\n",
              "      fill: #1967D2;\n",
              "      height: 32px;\n",
              "      padding: 0 0 0 0;\n",
              "      width: 32px;\n",
              "    }\n",
              "\n",
              "    .colab-df-convert:hover {\n",
              "      background-color: #E2EBFA;\n",
              "      box-shadow: 0px 1px 2px rgba(60, 64, 67, 0.3), 0px 1px 3px 1px rgba(60, 64, 67, 0.15);\n",
              "      fill: #174EA6;\n",
              "    }\n",
              "\n",
              "    [theme=dark] .colab-df-convert {\n",
              "      background-color: #3B4455;\n",
              "      fill: #D2E3FC;\n",
              "    }\n",
              "\n",
              "    [theme=dark] .colab-df-convert:hover {\n",
              "      background-color: #434B5C;\n",
              "      box-shadow: 0px 1px 3px 1px rgba(0, 0, 0, 0.15);\n",
              "      filter: drop-shadow(0px 1px 2px rgba(0, 0, 0, 0.3));\n",
              "      fill: #FFFFFF;\n",
              "    }\n",
              "  </style>\n",
              "\n",
              "      <script>\n",
              "        const buttonEl =\n",
              "          document.querySelector('#df-6a0fee8b-d22a-479b-bf48-caef92421a81 button.colab-df-convert');\n",
              "        buttonEl.style.display =\n",
              "          google.colab.kernel.accessAllowed ? 'block' : 'none';\n",
              "\n",
              "        async function convertToInteractive(key) {\n",
              "          const element = document.querySelector('#df-6a0fee8b-d22a-479b-bf48-caef92421a81');\n",
              "          const dataTable =\n",
              "            await google.colab.kernel.invokeFunction('convertToInteractive',\n",
              "                                                     [key], {});\n",
              "          if (!dataTable) return;\n",
              "\n",
              "          const docLinkHtml = 'Like what you see? Visit the ' +\n",
              "            '<a target=\"_blank\" href=https://colab.research.google.com/notebooks/data_table.ipynb>data table notebook</a>'\n",
              "            + ' to learn more about interactive tables.';\n",
              "          element.innerHTML = '';\n",
              "          dataTable['output_type'] = 'display_data';\n",
              "          await google.colab.output.renderOutput(dataTable, element);\n",
              "          const docLink = document.createElement('div');\n",
              "          docLink.innerHTML = docLinkHtml;\n",
              "          element.appendChild(docLink);\n",
              "        }\n",
              "      </script>\n",
              "    </div>\n",
              "  </div>\n",
              "  "
            ]
          },
          "metadata": {},
          "execution_count": 30
        }
      ]
    },
    {
      "cell_type": "markdown",
      "source": [
        "## 2.Data Formatting\n",
        "\n",
        "* is the process of transforming data into a common format, which helps users to perform comparisons. An example of not formatted data is the following: the same entity is referred in the same column with different values, such as New York and NY."
      ],
      "metadata": {
        "id": "N0LG2kgJlhse"
      }
    },
    {
      "cell_type": "markdown",
      "source": [],
      "metadata": {
        "id": "dKTpVCSbpK2-"
      }
    },
    {
      "cell_type": "code",
      "source": [
        "import pandas as pd\n",
        "df = pd.read_csv('https://raw.githubusercontent.com/thieu1995/csv-files/main/data/pandas/tweets.csv')\n",
        "df.tail(5)"
      ],
      "metadata": {
        "colab": {
          "base_uri": "https://localhost:8080/",
          "height": 577
        },
        "id": "fis6Duhlp2qt",
        "outputId": "49317a7e-167c-4d87-c53c-ed89d1ad330b"
      },
      "execution_count": null,
      "outputs": [
        {
          "output_type": "execute_result",
          "data": {
            "text/plain": [
              "                  Tweet Id                                          Tweet URL  \\\n",
              "381  \"1145652120034717696\"  https://twitter.com/UKNOAH/status/114565212003...   \n",
              "382  \"1145637718493290497\"  https://twitter.com/EMOverEasy/status/11456377...   \n",
              "383  \"1145628612739174400\"  https://twitter.com/SIMV_RP/status/11456286127...   \n",
              "384  \"1145621305825341440\"  https://twitter.com/wameyokw/status/1145621305...   \n",
              "385  \"1145609117618397184\"  https://twitter.com/animalhealthEU/status/1145...   \n",
              "\n",
              "    Tweet Posted Time (UTC)  \\\n",
              "381    01 Jul 2019 11:15:25   \n",
              "382    01 Jul 2019 10:18:11   \n",
              "383    01 Jul 2019 09:42:00   \n",
              "384    01 Jul 2019 09:12:58   \n",
              "385    01 Jul 2019 08:24:32   \n",
              "\n",
              "                                         Tweet Content Tweet Type  \\\n",
              "381  #MorethanMedicine What does this mean? 🤔\\nBy p...    ReTweet   \n",
              "382  After a great weekend at #rebellion19 we are b...      Tweet   \n",
              "383  #MorethanMedicine What does this mean? 🤔\\nBy p...    ReTweet   \n",
              "384  #MorethanMedicine What does this mean? 🤔\\nBy p...    ReTweet   \n",
              "385  #MorethanMedicine What does this mean? 🤔\\nBy p...      Tweet   \n",
              "\n",
              "                  Client  Retweets Received  Likes Received Tweet Location  \\\n",
              "381   Twitter Web Client                  0               0            NaN   \n",
              "382      Twitter Web App                  4              11  DK Diner, USA   \n",
              "383               Buffer                  0               0          Paris   \n",
              "384  Twitter for Android                  0               0  Nairobi Kenya   \n",
              "385   Twitter Web Client                  5               2       Brussels   \n",
              "\n",
              "    Tweet Language  ...                   Name        Username  \\\n",
              "381        English  ...                   NOAH          UKNOAH   \n",
              "382        English  ...             EMOverEasy      EMOverEasy   \n",
              "383        English  ...                   SIMV         SIMV_RP   \n",
              "384        English  ...  Kenneth Wameyo 🇰🇪 BVM        wameyokw   \n",
              "385        English  ...     AnimalhealthEurope  animalhealthEU   \n",
              "\n",
              "                                              User Bio  \\\n",
              "381  We represent the UK animal medicines industry:...   \n",
              "382  Tackling real world problems from the EM persp...   \n",
              "383  Syndicat de l'Industrie du Médicament et réact...   \n",
              "384  Kenya Veterinary Association, Vet Kenya Google...   \n",
              "385  AnimalhealthEurope represents manufacturers of...   \n",
              "\n",
              "    Verified or Non-Verified                         Profile URL  \\\n",
              "381             Non-Verified          https://twitter.com/UKNOAH   \n",
              "382             Non-Verified      https://twitter.com/EMOverEasy   \n",
              "383             Non-Verified         https://twitter.com/SIMV_RP   \n",
              "384             Non-Verified        https://twitter.com/wameyokw   \n",
              "385             Non-Verified  https://twitter.com/animalhealthEU   \n",
              "\n",
              "    Protected or Non-protected User Followers  User Following  \\\n",
              "381              Non-Protected           2952             973   \n",
              "382              Non-Protected           1345             361   \n",
              "383              Non-Protected            948             387   \n",
              "384              Non-Protected          14771            5562   \n",
              "385              Non-Protected           3697             542   \n",
              "\n",
              "     User Account Creation Date Impressions  \n",
              "381        19 Dec 2011 16:22:28           0  \n",
              "382        09 Mar 2016 15:04:58        2694  \n",
              "383        27 Mar 2012 14:53:07           0  \n",
              "384        26 Apr 2009 09:35:59           0  \n",
              "385        17 Dec 2012 09:14:15        7399  \n",
              "\n",
              "[5 rows x 21 columns]"
            ],
            "text/html": [
              "\n",
              "  <div id=\"df-210885c5-92dd-4cf0-a0a7-17e4cc1fd3a7\">\n",
              "    <div class=\"colab-df-container\">\n",
              "      <div>\n",
              "<style scoped>\n",
              "    .dataframe tbody tr th:only-of-type {\n",
              "        vertical-align: middle;\n",
              "    }\n",
              "\n",
              "    .dataframe tbody tr th {\n",
              "        vertical-align: top;\n",
              "    }\n",
              "\n",
              "    .dataframe thead th {\n",
              "        text-align: right;\n",
              "    }\n",
              "</style>\n",
              "<table border=\"1\" class=\"dataframe\">\n",
              "  <thead>\n",
              "    <tr style=\"text-align: right;\">\n",
              "      <th></th>\n",
              "      <th>Tweet Id</th>\n",
              "      <th>Tweet URL</th>\n",
              "      <th>Tweet Posted Time (UTC)</th>\n",
              "      <th>Tweet Content</th>\n",
              "      <th>Tweet Type</th>\n",
              "      <th>Client</th>\n",
              "      <th>Retweets Received</th>\n",
              "      <th>Likes Received</th>\n",
              "      <th>Tweet Location</th>\n",
              "      <th>Tweet Language</th>\n",
              "      <th>...</th>\n",
              "      <th>Name</th>\n",
              "      <th>Username</th>\n",
              "      <th>User Bio</th>\n",
              "      <th>Verified or Non-Verified</th>\n",
              "      <th>Profile URL</th>\n",
              "      <th>Protected or Non-protected</th>\n",
              "      <th>User Followers</th>\n",
              "      <th>User Following</th>\n",
              "      <th>User Account Creation Date</th>\n",
              "      <th>Impressions</th>\n",
              "    </tr>\n",
              "  </thead>\n",
              "  <tbody>\n",
              "    <tr>\n",
              "      <th>381</th>\n",
              "      <td>\"1145652120034717696\"</td>\n",
              "      <td>https://twitter.com/UKNOAH/status/114565212003...</td>\n",
              "      <td>01 Jul 2019 11:15:25</td>\n",
              "      <td>#MorethanMedicine What does this mean? 🤔\\nBy p...</td>\n",
              "      <td>ReTweet</td>\n",
              "      <td>Twitter Web Client</td>\n",
              "      <td>0</td>\n",
              "      <td>0</td>\n",
              "      <td>NaN</td>\n",
              "      <td>English</td>\n",
              "      <td>...</td>\n",
              "      <td>NOAH</td>\n",
              "      <td>UKNOAH</td>\n",
              "      <td>We represent the UK animal medicines industry:...</td>\n",
              "      <td>Non-Verified</td>\n",
              "      <td>https://twitter.com/UKNOAH</td>\n",
              "      <td>Non-Protected</td>\n",
              "      <td>2952</td>\n",
              "      <td>973</td>\n",
              "      <td>19 Dec 2011 16:22:28</td>\n",
              "      <td>0</td>\n",
              "    </tr>\n",
              "    <tr>\n",
              "      <th>382</th>\n",
              "      <td>\"1145637718493290497\"</td>\n",
              "      <td>https://twitter.com/EMOverEasy/status/11456377...</td>\n",
              "      <td>01 Jul 2019 10:18:11</td>\n",
              "      <td>After a great weekend at #rebellion19 we are b...</td>\n",
              "      <td>Tweet</td>\n",
              "      <td>Twitter Web App</td>\n",
              "      <td>4</td>\n",
              "      <td>11</td>\n",
              "      <td>DK Diner, USA</td>\n",
              "      <td>English</td>\n",
              "      <td>...</td>\n",
              "      <td>EMOverEasy</td>\n",
              "      <td>EMOverEasy</td>\n",
              "      <td>Tackling real world problems from the EM persp...</td>\n",
              "      <td>Non-Verified</td>\n",
              "      <td>https://twitter.com/EMOverEasy</td>\n",
              "      <td>Non-Protected</td>\n",
              "      <td>1345</td>\n",
              "      <td>361</td>\n",
              "      <td>09 Mar 2016 15:04:58</td>\n",
              "      <td>2694</td>\n",
              "    </tr>\n",
              "    <tr>\n",
              "      <th>383</th>\n",
              "      <td>\"1145628612739174400\"</td>\n",
              "      <td>https://twitter.com/SIMV_RP/status/11456286127...</td>\n",
              "      <td>01 Jul 2019 09:42:00</td>\n",
              "      <td>#MorethanMedicine What does this mean? 🤔\\nBy p...</td>\n",
              "      <td>ReTweet</td>\n",
              "      <td>Buffer</td>\n",
              "      <td>0</td>\n",
              "      <td>0</td>\n",
              "      <td>Paris</td>\n",
              "      <td>English</td>\n",
              "      <td>...</td>\n",
              "      <td>SIMV</td>\n",
              "      <td>SIMV_RP</td>\n",
              "      <td>Syndicat de l'Industrie du Médicament et réact...</td>\n",
              "      <td>Non-Verified</td>\n",
              "      <td>https://twitter.com/SIMV_RP</td>\n",
              "      <td>Non-Protected</td>\n",
              "      <td>948</td>\n",
              "      <td>387</td>\n",
              "      <td>27 Mar 2012 14:53:07</td>\n",
              "      <td>0</td>\n",
              "    </tr>\n",
              "    <tr>\n",
              "      <th>384</th>\n",
              "      <td>\"1145621305825341440\"</td>\n",
              "      <td>https://twitter.com/wameyokw/status/1145621305...</td>\n",
              "      <td>01 Jul 2019 09:12:58</td>\n",
              "      <td>#MorethanMedicine What does this mean? 🤔\\nBy p...</td>\n",
              "      <td>ReTweet</td>\n",
              "      <td>Twitter for Android</td>\n",
              "      <td>0</td>\n",
              "      <td>0</td>\n",
              "      <td>Nairobi Kenya</td>\n",
              "      <td>English</td>\n",
              "      <td>...</td>\n",
              "      <td>Kenneth Wameyo 🇰🇪 BVM</td>\n",
              "      <td>wameyokw</td>\n",
              "      <td>Kenya Veterinary Association, Vet Kenya Google...</td>\n",
              "      <td>Non-Verified</td>\n",
              "      <td>https://twitter.com/wameyokw</td>\n",
              "      <td>Non-Protected</td>\n",
              "      <td>14771</td>\n",
              "      <td>5562</td>\n",
              "      <td>26 Apr 2009 09:35:59</td>\n",
              "      <td>0</td>\n",
              "    </tr>\n",
              "    <tr>\n",
              "      <th>385</th>\n",
              "      <td>\"1145609117618397184\"</td>\n",
              "      <td>https://twitter.com/animalhealthEU/status/1145...</td>\n",
              "      <td>01 Jul 2019 08:24:32</td>\n",
              "      <td>#MorethanMedicine What does this mean? 🤔\\nBy p...</td>\n",
              "      <td>Tweet</td>\n",
              "      <td>Twitter Web Client</td>\n",
              "      <td>5</td>\n",
              "      <td>2</td>\n",
              "      <td>Brussels</td>\n",
              "      <td>English</td>\n",
              "      <td>...</td>\n",
              "      <td>AnimalhealthEurope</td>\n",
              "      <td>animalhealthEU</td>\n",
              "      <td>AnimalhealthEurope represents manufacturers of...</td>\n",
              "      <td>Non-Verified</td>\n",
              "      <td>https://twitter.com/animalhealthEU</td>\n",
              "      <td>Non-Protected</td>\n",
              "      <td>3697</td>\n",
              "      <td>542</td>\n",
              "      <td>17 Dec 2012 09:14:15</td>\n",
              "      <td>7399</td>\n",
              "    </tr>\n",
              "  </tbody>\n",
              "</table>\n",
              "<p>5 rows × 21 columns</p>\n",
              "</div>\n",
              "      <button class=\"colab-df-convert\" onclick=\"convertToInteractive('df-210885c5-92dd-4cf0-a0a7-17e4cc1fd3a7')\"\n",
              "              title=\"Convert this dataframe to an interactive table.\"\n",
              "              style=\"display:none;\">\n",
              "        \n",
              "  <svg xmlns=\"http://www.w3.org/2000/svg\" height=\"24px\"viewBox=\"0 0 24 24\"\n",
              "       width=\"24px\">\n",
              "    <path d=\"M0 0h24v24H0V0z\" fill=\"none\"/>\n",
              "    <path d=\"M18.56 5.44l.94 2.06.94-2.06 2.06-.94-2.06-.94-.94-2.06-.94 2.06-2.06.94zm-11 1L8.5 8.5l.94-2.06 2.06-.94-2.06-.94L8.5 2.5l-.94 2.06-2.06.94zm10 10l.94 2.06.94-2.06 2.06-.94-2.06-.94-.94-2.06-.94 2.06-2.06.94z\"/><path d=\"M17.41 7.96l-1.37-1.37c-.4-.4-.92-.59-1.43-.59-.52 0-1.04.2-1.43.59L10.3 9.45l-7.72 7.72c-.78.78-.78 2.05 0 2.83L4 21.41c.39.39.9.59 1.41.59.51 0 1.02-.2 1.41-.59l7.78-7.78 2.81-2.81c.8-.78.8-2.07 0-2.86zM5.41 20L4 18.59l7.72-7.72 1.47 1.35L5.41 20z\"/>\n",
              "  </svg>\n",
              "      </button>\n",
              "      \n",
              "  <style>\n",
              "    .colab-df-container {\n",
              "      display:flex;\n",
              "      flex-wrap:wrap;\n",
              "      gap: 12px;\n",
              "    }\n",
              "\n",
              "    .colab-df-convert {\n",
              "      background-color: #E8F0FE;\n",
              "      border: none;\n",
              "      border-radius: 50%;\n",
              "      cursor: pointer;\n",
              "      display: none;\n",
              "      fill: #1967D2;\n",
              "      height: 32px;\n",
              "      padding: 0 0 0 0;\n",
              "      width: 32px;\n",
              "    }\n",
              "\n",
              "    .colab-df-convert:hover {\n",
              "      background-color: #E2EBFA;\n",
              "      box-shadow: 0px 1px 2px rgba(60, 64, 67, 0.3), 0px 1px 3px 1px rgba(60, 64, 67, 0.15);\n",
              "      fill: #174EA6;\n",
              "    }\n",
              "\n",
              "    [theme=dark] .colab-df-convert {\n",
              "      background-color: #3B4455;\n",
              "      fill: #D2E3FC;\n",
              "    }\n",
              "\n",
              "    [theme=dark] .colab-df-convert:hover {\n",
              "      background-color: #434B5C;\n",
              "      box-shadow: 0px 1px 3px 1px rgba(0, 0, 0, 0.15);\n",
              "      filter: drop-shadow(0px 1px 2px rgba(0, 0, 0, 0.3));\n",
              "      fill: #FFFFFF;\n",
              "    }\n",
              "  </style>\n",
              "\n",
              "      <script>\n",
              "        const buttonEl =\n",
              "          document.querySelector('#df-210885c5-92dd-4cf0-a0a7-17e4cc1fd3a7 button.colab-df-convert');\n",
              "        buttonEl.style.display =\n",
              "          google.colab.kernel.accessAllowed ? 'block' : 'none';\n",
              "\n",
              "        async function convertToInteractive(key) {\n",
              "          const element = document.querySelector('#df-210885c5-92dd-4cf0-a0a7-17e4cc1fd3a7');\n",
              "          const dataTable =\n",
              "            await google.colab.kernel.invokeFunction('convertToInteractive',\n",
              "                                                     [key], {});\n",
              "          if (!dataTable) return;\n",
              "\n",
              "          const docLinkHtml = 'Like what you see? Visit the ' +\n",
              "            '<a target=\"_blank\" href=https://colab.research.google.com/notebooks/data_table.ipynb>data table notebook</a>'\n",
              "            + ' to learn more about interactive tables.';\n",
              "          element.innerHTML = '';\n",
              "          dataTable['output_type'] = 'display_data';\n",
              "          await google.colab.output.renderOutput(dataTable, element);\n",
              "          const docLink = document.createElement('div');\n",
              "          docLink.innerHTML = docLinkHtml;\n",
              "          element.appendChild(docLink);\n",
              "        }\n",
              "      </script>\n",
              "    </div>\n",
              "  </div>\n",
              "  "
            ]
          },
          "metadata": {},
          "execution_count": 32
        }
      ]
    },
    {
      "cell_type": "code",
      "source": [
        "df.describe()"
      ],
      "metadata": {
        "colab": {
          "base_uri": "https://localhost:8080/",
          "height": 300
        },
        "id": "ldvToB4X0_uT",
        "outputId": "0132c5b0-c41b-4af1-93f7-ac141dabb346"
      },
      "execution_count": null,
      "outputs": [
        {
          "output_type": "execute_result",
          "data": {
            "text/plain": [
              "       Retweets Received  Likes Received  User Followers  User Following  \\\n",
              "count         386.000000      386.000000      386.000000      386.000000   \n",
              "mean            0.730570        2.839378     2516.904145     1067.401554   \n",
              "std             1.884991        9.423381    10529.124870     1409.750825   \n",
              "min             0.000000        0.000000        0.000000        4.000000   \n",
              "25%             0.000000        0.000000      348.000000      379.000000   \n",
              "50%             0.000000        0.000000      796.000000      542.000000   \n",
              "75%             0.000000        1.000000     2922.500000     1123.000000   \n",
              "max            13.000000       98.000000   198675.000000    12476.000000   \n",
              "\n",
              "        Impressions  \n",
              "count    386.000000  \n",
              "mean    1137.849741  \n",
              "std     2381.107457  \n",
              "min        0.000000  \n",
              "25%        0.000000  \n",
              "50%        0.000000  \n",
              "75%      882.000000  \n",
              "max    12033.000000  "
            ],
            "text/html": [
              "\n",
              "  <div id=\"df-ab34f82e-6419-4440-942e-ce83061cf101\">\n",
              "    <div class=\"colab-df-container\">\n",
              "      <div>\n",
              "<style scoped>\n",
              "    .dataframe tbody tr th:only-of-type {\n",
              "        vertical-align: middle;\n",
              "    }\n",
              "\n",
              "    .dataframe tbody tr th {\n",
              "        vertical-align: top;\n",
              "    }\n",
              "\n",
              "    .dataframe thead th {\n",
              "        text-align: right;\n",
              "    }\n",
              "</style>\n",
              "<table border=\"1\" class=\"dataframe\">\n",
              "  <thead>\n",
              "    <tr style=\"text-align: right;\">\n",
              "      <th></th>\n",
              "      <th>Retweets Received</th>\n",
              "      <th>Likes Received</th>\n",
              "      <th>User Followers</th>\n",
              "      <th>User Following</th>\n",
              "      <th>Impressions</th>\n",
              "    </tr>\n",
              "  </thead>\n",
              "  <tbody>\n",
              "    <tr>\n",
              "      <th>count</th>\n",
              "      <td>386.000000</td>\n",
              "      <td>386.000000</td>\n",
              "      <td>386.000000</td>\n",
              "      <td>386.000000</td>\n",
              "      <td>386.000000</td>\n",
              "    </tr>\n",
              "    <tr>\n",
              "      <th>mean</th>\n",
              "      <td>0.730570</td>\n",
              "      <td>2.839378</td>\n",
              "      <td>2516.904145</td>\n",
              "      <td>1067.401554</td>\n",
              "      <td>1137.849741</td>\n",
              "    </tr>\n",
              "    <tr>\n",
              "      <th>std</th>\n",
              "      <td>1.884991</td>\n",
              "      <td>9.423381</td>\n",
              "      <td>10529.124870</td>\n",
              "      <td>1409.750825</td>\n",
              "      <td>2381.107457</td>\n",
              "    </tr>\n",
              "    <tr>\n",
              "      <th>min</th>\n",
              "      <td>0.000000</td>\n",
              "      <td>0.000000</td>\n",
              "      <td>0.000000</td>\n",
              "      <td>4.000000</td>\n",
              "      <td>0.000000</td>\n",
              "    </tr>\n",
              "    <tr>\n",
              "      <th>25%</th>\n",
              "      <td>0.000000</td>\n",
              "      <td>0.000000</td>\n",
              "      <td>348.000000</td>\n",
              "      <td>379.000000</td>\n",
              "      <td>0.000000</td>\n",
              "    </tr>\n",
              "    <tr>\n",
              "      <th>50%</th>\n",
              "      <td>0.000000</td>\n",
              "      <td>0.000000</td>\n",
              "      <td>796.000000</td>\n",
              "      <td>542.000000</td>\n",
              "      <td>0.000000</td>\n",
              "    </tr>\n",
              "    <tr>\n",
              "      <th>75%</th>\n",
              "      <td>0.000000</td>\n",
              "      <td>1.000000</td>\n",
              "      <td>2922.500000</td>\n",
              "      <td>1123.000000</td>\n",
              "      <td>882.000000</td>\n",
              "    </tr>\n",
              "    <tr>\n",
              "      <th>max</th>\n",
              "      <td>13.000000</td>\n",
              "      <td>98.000000</td>\n",
              "      <td>198675.000000</td>\n",
              "      <td>12476.000000</td>\n",
              "      <td>12033.000000</td>\n",
              "    </tr>\n",
              "  </tbody>\n",
              "</table>\n",
              "</div>\n",
              "      <button class=\"colab-df-convert\" onclick=\"convertToInteractive('df-ab34f82e-6419-4440-942e-ce83061cf101')\"\n",
              "              title=\"Convert this dataframe to an interactive table.\"\n",
              "              style=\"display:none;\">\n",
              "        \n",
              "  <svg xmlns=\"http://www.w3.org/2000/svg\" height=\"24px\"viewBox=\"0 0 24 24\"\n",
              "       width=\"24px\">\n",
              "    <path d=\"M0 0h24v24H0V0z\" fill=\"none\"/>\n",
              "    <path d=\"M18.56 5.44l.94 2.06.94-2.06 2.06-.94-2.06-.94-.94-2.06-.94 2.06-2.06.94zm-11 1L8.5 8.5l.94-2.06 2.06-.94-2.06-.94L8.5 2.5l-.94 2.06-2.06.94zm10 10l.94 2.06.94-2.06 2.06-.94-2.06-.94-.94-2.06-.94 2.06-2.06.94z\"/><path d=\"M17.41 7.96l-1.37-1.37c-.4-.4-.92-.59-1.43-.59-.52 0-1.04.2-1.43.59L10.3 9.45l-7.72 7.72c-.78.78-.78 2.05 0 2.83L4 21.41c.39.39.9.59 1.41.59.51 0 1.02-.2 1.41-.59l7.78-7.78 2.81-2.81c.8-.78.8-2.07 0-2.86zM5.41 20L4 18.59l7.72-7.72 1.47 1.35L5.41 20z\"/>\n",
              "  </svg>\n",
              "      </button>\n",
              "      \n",
              "  <style>\n",
              "    .colab-df-container {\n",
              "      display:flex;\n",
              "      flex-wrap:wrap;\n",
              "      gap: 12px;\n",
              "    }\n",
              "\n",
              "    .colab-df-convert {\n",
              "      background-color: #E8F0FE;\n",
              "      border: none;\n",
              "      border-radius: 50%;\n",
              "      cursor: pointer;\n",
              "      display: none;\n",
              "      fill: #1967D2;\n",
              "      height: 32px;\n",
              "      padding: 0 0 0 0;\n",
              "      width: 32px;\n",
              "    }\n",
              "\n",
              "    .colab-df-convert:hover {\n",
              "      background-color: #E2EBFA;\n",
              "      box-shadow: 0px 1px 2px rgba(60, 64, 67, 0.3), 0px 1px 3px 1px rgba(60, 64, 67, 0.15);\n",
              "      fill: #174EA6;\n",
              "    }\n",
              "\n",
              "    [theme=dark] .colab-df-convert {\n",
              "      background-color: #3B4455;\n",
              "      fill: #D2E3FC;\n",
              "    }\n",
              "\n",
              "    [theme=dark] .colab-df-convert:hover {\n",
              "      background-color: #434B5C;\n",
              "      box-shadow: 0px 1px 3px 1px rgba(0, 0, 0, 0.15);\n",
              "      filter: drop-shadow(0px 1px 2px rgba(0, 0, 0, 0.3));\n",
              "      fill: #FFFFFF;\n",
              "    }\n",
              "  </style>\n",
              "\n",
              "      <script>\n",
              "        const buttonEl =\n",
              "          document.querySelector('#df-ab34f82e-6419-4440-942e-ce83061cf101 button.colab-df-convert');\n",
              "        buttonEl.style.display =\n",
              "          google.colab.kernel.accessAllowed ? 'block' : 'none';\n",
              "\n",
              "        async function convertToInteractive(key) {\n",
              "          const element = document.querySelector('#df-ab34f82e-6419-4440-942e-ce83061cf101');\n",
              "          const dataTable =\n",
              "            await google.colab.kernel.invokeFunction('convertToInteractive',\n",
              "                                                     [key], {});\n",
              "          if (!dataTable) return;\n",
              "\n",
              "          const docLinkHtml = 'Like what you see? Visit the ' +\n",
              "            '<a target=\"_blank\" href=https://colab.research.google.com/notebooks/data_table.ipynb>data table notebook</a>'\n",
              "            + ' to learn more about interactive tables.';\n",
              "          element.innerHTML = '';\n",
              "          dataTable['output_type'] = 'display_data';\n",
              "          await google.colab.output.renderOutput(dataTable, element);\n",
              "          const docLink = document.createElement('div');\n",
              "          docLink.innerHTML = docLinkHtml;\n",
              "          element.appendChild(docLink);\n",
              "        }\n",
              "      </script>\n",
              "    </div>\n",
              "  </div>\n",
              "  "
            ]
          },
          "metadata": {},
          "execution_count": 33
        }
      ]
    },
    {
      "cell_type": "code",
      "source": [
        "df.info()"
      ],
      "metadata": {
        "colab": {
          "base_uri": "https://localhost:8080/"
        },
        "id": "mBC371B_1C4g",
        "outputId": "3ef2207f-d0af-46c4-d7c8-c26a880755d7"
      },
      "execution_count": null,
      "outputs": [
        {
          "output_type": "stream",
          "name": "stdout",
          "text": [
            "<class 'pandas.core.frame.DataFrame'>\n",
            "RangeIndex: 386 entries, 0 to 385\n",
            "Data columns (total 21 columns):\n",
            " #   Column                      Non-Null Count  Dtype \n",
            "---  ------                      --------------  ----- \n",
            " 0   Tweet Id                    386 non-null    object\n",
            " 1   Tweet URL                   386 non-null    object\n",
            " 2   Tweet Posted Time (UTC)     386 non-null    object\n",
            " 3   Tweet Content               386 non-null    object\n",
            " 4   Tweet Type                  386 non-null    object\n",
            " 5   Client                      386 non-null    object\n",
            " 6   Retweets Received           386 non-null    int64 \n",
            " 7   Likes Received              386 non-null    int64 \n",
            " 8   Tweet Location              325 non-null    object\n",
            " 9   Tweet Language              385 non-null    object\n",
            " 10  User Id                     386 non-null    object\n",
            " 11  Name                        386 non-null    object\n",
            " 12  Username                    386 non-null    object\n",
            " 13  User Bio                    367 non-null    object\n",
            " 14  Verified or Non-Verified    386 non-null    object\n",
            " 15  Profile URL                 386 non-null    object\n",
            " 16  Protected or Non-protected  386 non-null    object\n",
            " 17  User Followers              386 non-null    int64 \n",
            " 18  User Following              386 non-null    int64 \n",
            " 19  User Account Creation Date  386 non-null    object\n",
            " 20  Impressions                 386 non-null    int64 \n",
            "dtypes: int64(5), object(16)\n",
            "memory usage: 63.5+ KB\n"
          ]
        }
      ]
    },
    {
      "cell_type": "code",
      "source": [
        "df.dropna(inplace=True)\n",
        "df.info()"
      ],
      "metadata": {
        "colab": {
          "base_uri": "https://localhost:8080/"
        },
        "id": "4mFg-88krOsc",
        "outputId": "171e3537-1bd6-47b2-c703-f71d055f192e"
      },
      "execution_count": null,
      "outputs": [
        {
          "output_type": "stream",
          "name": "stdout",
          "text": [
            "<class 'pandas.core.frame.DataFrame'>\n",
            "Int64Index: 317 entries, 0 to 385\n",
            "Data columns (total 21 columns):\n",
            " #   Column                      Non-Null Count  Dtype \n",
            "---  ------                      --------------  ----- \n",
            " 0   Tweet Id                    317 non-null    object\n",
            " 1   Tweet URL                   317 non-null    object\n",
            " 2   Tweet Posted Time (UTC)     317 non-null    object\n",
            " 3   Tweet Content               317 non-null    object\n",
            " 4   Tweet Type                  317 non-null    object\n",
            " 5   Client                      317 non-null    object\n",
            " 6   Retweets Received           317 non-null    int64 \n",
            " 7   Likes Received              317 non-null    int64 \n",
            " 8   Tweet Location              317 non-null    object\n",
            " 9   Tweet Language              317 non-null    object\n",
            " 10  User Id                     317 non-null    object\n",
            " 11  Name                        317 non-null    object\n",
            " 12  Username                    317 non-null    object\n",
            " 13  User Bio                    317 non-null    object\n",
            " 14  Verified or Non-Verified    317 non-null    object\n",
            " 15  Profile URL                 317 non-null    object\n",
            " 16  Protected or Non-protected  317 non-null    object\n",
            " 17  User Followers              317 non-null    int64 \n",
            " 18  User Following              317 non-null    int64 \n",
            " 19  User Account Creation Date  317 non-null    object\n",
            " 20  Impressions                 317 non-null    int64 \n",
            "dtypes: int64(5), object(16)\n",
            "memory usage: 54.5+ KB\n"
          ]
        }
      ]
    },
    {
      "cell_type": "markdown",
      "source": [
        "### Incorrect data types\n",
        "we should make sure that every column is assigned to the correct data type. This can be checked through the property dtypes."
      ],
      "metadata": {
        "id": "8zptnmsnquGM"
      }
    },
    {
      "cell_type": "code",
      "source": [
        "df.dtypes"
      ],
      "metadata": {
        "colab": {
          "base_uri": "https://localhost:8080/"
        },
        "id": "IDeSwTqpqxgQ",
        "outputId": "55b8abd6-1ad9-4e5e-a51f-37a400681262"
      },
      "execution_count": null,
      "outputs": [
        {
          "output_type": "execute_result",
          "data": {
            "text/plain": [
              "Tweet Id                      object\n",
              "Tweet URL                     object\n",
              "Tweet Posted Time (UTC)       object\n",
              "Tweet Content                 object\n",
              "Tweet Type                    object\n",
              "Client                        object\n",
              "Retweets Received              int64\n",
              "Likes Received                 int64\n",
              "Tweet Location                object\n",
              "Tweet Language                object\n",
              "User Id                       object\n",
              "Name                          object\n",
              "Username                      object\n",
              "User Bio                      object\n",
              "Verified or Non-Verified      object\n",
              "Profile URL                   object\n",
              "Protected or Non-protected    object\n",
              "User Followers                 int64\n",
              "User Following                 int64\n",
              "User Account Creation Date    object\n",
              "Impressions                    int64\n",
              "dtype: object"
            ]
          },
          "metadata": {},
          "execution_count": 38
        }
      ]
    },
    {
      "cell_type": "markdown",
      "source": [
        "* we can convert the column **Tweet Location** to string by using the function **astype()** as follows:\n"
      ],
      "metadata": {
        "id": "lKU0GIyxrUjs"
      }
    },
    {
      "cell_type": "code",
      "source": [
        "df['Tweet Location'] = df['Tweet Location'].astype('string')\n",
        "df.info()"
      ],
      "metadata": {
        "id": "8K7Thc2LrY68",
        "colab": {
          "base_uri": "https://localhost:8080/"
        },
        "outputId": "f442f483-2c39-48b1-fb2a-bf755c34158b"
      },
      "execution_count": null,
      "outputs": [
        {
          "output_type": "stream",
          "name": "stdout",
          "text": [
            "<class 'pandas.core.frame.DataFrame'>\n",
            "Int64Index: 317 entries, 0 to 385\n",
            "Data columns (total 21 columns):\n",
            " #   Column                      Non-Null Count  Dtype \n",
            "---  ------                      --------------  ----- \n",
            " 0   Tweet Id                    317 non-null    object\n",
            " 1   Tweet URL                   317 non-null    object\n",
            " 2   Tweet Posted Time (UTC)     317 non-null    object\n",
            " 3   Tweet Content               317 non-null    object\n",
            " 4   Tweet Type                  317 non-null    object\n",
            " 5   Client                      317 non-null    object\n",
            " 6   Retweets Received           317 non-null    int64 \n",
            " 7   Likes Received              317 non-null    int64 \n",
            " 8   Tweet Location              317 non-null    string\n",
            " 9   Tweet Language              317 non-null    object\n",
            " 10  User Id                     317 non-null    object\n",
            " 11  Name                        317 non-null    object\n",
            " 12  Username                    317 non-null    object\n",
            " 13  User Bio                    317 non-null    object\n",
            " 14  Verified or Non-Verified    317 non-null    object\n",
            " 15  Profile URL                 317 non-null    object\n",
            " 16  Protected or Non-protected  317 non-null    object\n",
            " 17  User Followers              317 non-null    int64 \n",
            " 18  User Following              317 non-null    int64 \n",
            " 19  User Account Creation Date  317 non-null    object\n",
            " 20  Impressions                 317 non-null    int64 \n",
            "dtypes: int64(5), object(15), string(1)\n",
            "memory usage: 54.5+ KB\n"
          ]
        }
      ]
    },
    {
      "cell_type": "markdown",
      "source": [
        "* We can convert all the objects to strings by"
      ],
      "metadata": {
        "id": "0RSOi0lGrexq"
      }
    },
    {
      "cell_type": "code",
      "source": [
        "obj_columns = df.select_dtypes(include=object).columns.tolist()\n",
        "df[obj_columns] = df[obj_columns].astype('string')\n",
        "df.info()"
      ],
      "metadata": {
        "id": "T7AFQ3H2reCb",
        "colab": {
          "base_uri": "https://localhost:8080/"
        },
        "outputId": "fc909208-577c-4d64-9e54-8917c0a7d089"
      },
      "execution_count": null,
      "outputs": [
        {
          "output_type": "stream",
          "name": "stdout",
          "text": [
            "<class 'pandas.core.frame.DataFrame'>\n",
            "Int64Index: 317 entries, 0 to 385\n",
            "Data columns (total 21 columns):\n",
            " #   Column                      Non-Null Count  Dtype \n",
            "---  ------                      --------------  ----- \n",
            " 0   Tweet Id                    317 non-null    string\n",
            " 1   Tweet URL                   317 non-null    string\n",
            " 2   Tweet Posted Time (UTC)     317 non-null    string\n",
            " 3   Tweet Content               317 non-null    string\n",
            " 4   Tweet Type                  317 non-null    string\n",
            " 5   Client                      317 non-null    string\n",
            " 6   Retweets Received           317 non-null    int64 \n",
            " 7   Likes Received              317 non-null    int64 \n",
            " 8   Tweet Location              317 non-null    string\n",
            " 9   Tweet Language              317 non-null    string\n",
            " 10  User Id                     317 non-null    string\n",
            " 11  Name                        317 non-null    string\n",
            " 12  Username                    317 non-null    string\n",
            " 13  User Bio                    317 non-null    string\n",
            " 14  Verified or Non-Verified    317 non-null    string\n",
            " 15  Profile URL                 317 non-null    string\n",
            " 16  Protected or Non-protected  317 non-null    string\n",
            " 17  User Followers              317 non-null    int64 \n",
            " 18  User Following              317 non-null    int64 \n",
            " 19  User Account Creation Date  317 non-null    string\n",
            " 20  Impressions                 317 non-null    int64 \n",
            "dtypes: int64(5), string(16)\n",
            "memory usage: 54.5 KB\n"
          ]
        }
      ]
    },
    {
      "cell_type": "markdown",
      "source": [
        "### Make the data homogeneous (Đồng nhất dữ liệu)\n"
      ],
      "metadata": {
        "id": "LtnOFg92s4Nj"
      }
    },
    {
      "cell_type": "markdown",
      "source": [
        "#### Categorial data\n",
        "* Categorical data should have all the same formatting style, such as lower case. In order to format all categorical data to lower case, we can use the following statement:"
      ],
      "metadata": {
        "id": "h8JrjvZ_teJM"
      }
    },
    {
      "cell_type": "code",
      "source": [
        "df['Tweet Content'] = df['Tweet Content'].str.lower()\n",
        "df['Tweet Content'].head()"
      ],
      "metadata": {
        "colab": {
          "base_uri": "https://localhost:8080/"
        },
        "id": "2YyleT5utEqi",
        "outputId": "b9729626-1292-4203-f876-61fe6e532611"
      },
      "execution_count": null,
      "outputs": [
        {
          "output_type": "execute_result",
          "data": {
            "text/plain": [
              "0    pets change our lives &amp; become a part of o...\n",
              "1    another spot of our #morethanmedicine bus in #...\n",
              "2    what a great team ⁦@healthsourceoh⁩ ⁦@local12⁩...\n",
              "4    what a great team ⁦@healthsourceoh⁩ ⁦@local12⁩...\n",
              "5    what a great team ⁦@healthsourceoh⁩ ⁦@local12⁩...\n",
              "Name: Tweet Content, dtype: string"
            ]
          },
          "metadata": {},
          "execution_count": 43
        }
      ]
    },
    {
      "cell_type": "markdown",
      "source": [
        "**Other techniques to make homogeneous categorical data**:\n",
        "\n",
        "* remove white space everywhere: df['Tweet Content'] = df['Tweet Content'].str.replace(‘ ‘, ‘’)\n",
        "* remove white space at the beginning of string: df['Tweet Content'] = df['Tweet Content'].str.lstrip()\n",
        "* remove white space at the end of string: df['Tweet Content'] = df['Tweet Content']].str.rstrip()\n",
        "* remove white space at both ends: df['Tweet Content'] = df['Tweet Content'].str.strip()."
      ],
      "metadata": {
        "id": "cIJICdvytMwT"
      }
    },
    {
      "cell_type": "markdown",
      "source": [
        "#### Numeric data\n",
        "\n",
        "should have for example the same number of digits after the point. \n",
        "\n",
        "For example, if we want 2 decimal points, we can run the following command: "
      ],
      "metadata": {
        "id": "3DJwfLgHtioK"
      }
    },
    {
      "cell_type": "code",
      "source": [
        "df['User Following'] = df['User Following'].round(2)\n",
        "df['User Following'].head()"
      ],
      "metadata": {
        "colab": {
          "base_uri": "https://localhost:8080/"
        },
        "id": "YWYPVYqGtZGT",
        "outputId": "85a759c0-f2c0-4e99-cd44-8e011f986979"
      },
      "execution_count": null,
      "outputs": [
        {
          "output_type": "execute_result",
          "data": {
            "text/plain": [
              "0     542\n",
              "1    1571\n",
              "2    8617\n",
              "4     651\n",
              "5    4866\n",
              "Name: User Following, dtype: int64"
            ]
          },
          "metadata": {},
          "execution_count": 45
        }
      ]
    },
    {
      "cell_type": "markdown",
      "source": [
        "**Other techniques to make homogeneous numeric data include:**\n",
        "\n",
        "* Round up — Single DataFrame column — df['User Following'] = df['User Following'].apply(np.ceil)\n",
        "* Round down — Single DataFrame column — df['User Following'] = df['User Following'].apply(np.floor)."
      ],
      "metadata": {
        "id": "BGU5DF1Dtu1L"
      }
    },
    {
      "cell_type": "markdown",
      "source": [
        "### Different values for the same concept\n",
        "\n",
        "It may happen that the same concept is represented in different ways. For example, in our dataset, the column Twitter Location contains the values Columbus,OH and Columbus, OH to describe the same concept. We can use the **unique()** function to list all the values of a column."
      ],
      "metadata": {
        "id": "Dwxz1xFet7_q"
      }
    },
    {
      "cell_type": "code",
      "source": [
        "df['Tweet Location'].unique()"
      ],
      "metadata": {
        "colab": {
          "base_uri": "https://localhost:8080/"
        },
        "id": "3zTiOiclt9Qy",
        "outputId": "32edaf04-2e39-4917-d2ff-ae3548fd6ccf"
      },
      "execution_count": null,
      "outputs": [
        {
          "output_type": "execute_result",
          "data": {
            "text/plain": [
              "<StringArray>\n",
              "[                                 'Brussels',\n",
              "                             'Pill, Bristol',\n",
              "                                 'Ohio, USA',\n",
              "                            'Cincinnati, OH',\n",
              "                                   'WKRC TV',\n",
              "                            'Scottsdale, AZ',\n",
              "                               'Columbus,OH',\n",
              "                              'Columbus, OH',\n",
              "                             'DK Diner, USA',\n",
              "                           'Minneapolis, MN',\n",
              " ...\n",
              "                           'Kampala, Uganda',\n",
              "                        'ilorin,kwara state',\n",
              "                            'Nigeria, Lagos',\n",
              "                                    'Kigali',\n",
              "                        'Towcester, England',\n",
              " 'Heart of the EU (the clue is in the name)',\n",
              "                       'South West, England',\n",
              "                                'Manchester',\n",
              "                               'Seattle, WA',\n",
              "                         'in my happy place']\n",
              "Length: 102, dtype: string"
            ]
          },
          "metadata": {},
          "execution_count": 46
        }
      ]
    },
    {
      "cell_type": "markdown",
      "source": [
        "* In order to deal with different values representing the same concept, we should manipulate each type of error separately. \n",
        "\n",
        "* For example, we can manipulate every string **word,word** in order to insert a space after the comma and have the following output **word, word**. We can define a function, called **set_pattern()** which searches for a specific pattern into a string and then it performs some replacement in the same string, if the pattern is found. \n",
        "\n",
        "* In our case we search for all the patterns having the structure **word,word** and then we replace the , with , . Finally we return the result.\n"
      ],
      "metadata": {
        "id": "7b4kW9OQuVPL"
      }
    },
    {
      "cell_type": "code",
      "source": [
        "import re \n",
        "\n",
        "def set_pattern(x):\n",
        "    pattern = r'[(A-Z)]\\w+,([A-Z])\\w+'\n",
        "    res = re.match(pattern, x)\n",
        "    if res:\n",
        "        x = x.replace(',', ', ')\n",
        "    return x"
      ],
      "metadata": {
        "id": "l1oDuwfStzHC"
      },
      "execution_count": null,
      "outputs": []
    },
    {
      "cell_type": "markdown",
      "source": [
        "* Now we can apply the function to every value in the column Tweet Location. \n",
        "* This can be achieved by using the function apply() combined with the operator lambda. \n",
        "* We can specify that the function apply() must be applied to every row (through the parameter axis = 1) and then through the lambda operator we can select the specific row and apply it the function set_pattern()."
      ],
      "metadata": {
        "id": "zpCmHp6XunCL"
      }
    },
    {
      "cell_type": "code",
      "source": [
        "df['Tweet Location'] = df.apply(lambda x: set_pattern(x['Tweet Location']), axis=1)\n",
        "df['Tweet Location'].head()"
      ],
      "metadata": {
        "colab": {
          "base_uri": "https://localhost:8080/"
        },
        "id": "yNnD4uZtu0Fr",
        "outputId": "d356ef30-2786-4720-af04-ef4bcd982814"
      },
      "execution_count": null,
      "outputs": [
        {
          "output_type": "execute_result",
          "data": {
            "text/plain": [
              "0          Brussels\n",
              "1     Pill, Bristol\n",
              "2         Ohio, USA\n",
              "4    Cincinnati, OH\n",
              "5           WKRC TV\n",
              "Name: Tweet Location, dtype: object"
            ]
          },
          "metadata": {},
          "execution_count": 49
        }
      ]
    },
    {
      "cell_type": "markdown",
      "source": [
        "## 3.Dropping Duplicates\n",
        "\n"
      ],
      "metadata": {
        "id": "mt-nE2HGvSn6"
      }
    },
    {
      "cell_type": "code",
      "source": [
        "import pandas as pd\n",
        "df = pd.read_csv('https://raw.githubusercontent.com/thieu1995/csv-files/main/data/pandas/cupcake_duplicates.csv')\n",
        "df.head()"
      ],
      "metadata": {
        "colab": {
          "base_uri": "https://localhost:8080/",
          "height": 206
        },
        "id": "1HXB3yGXv09q",
        "outputId": "489938ac-f666-4ca9-d521-dfc17accae8a"
      },
      "execution_count": null,
      "outputs": [
        {
          "output_type": "execute_result",
          "data": {
            "text/plain": [
              "      Mese  Cupcake\n",
              "0  2004-01        5\n",
              "1  2004-01        5\n",
              "2  2004-01        5\n",
              "3  2004-02        5\n",
              "4  2004-03        4"
            ],
            "text/html": [
              "\n",
              "  <div id=\"df-d137ad36-d7e6-404d-b5de-f8a8f52df0e5\">\n",
              "    <div class=\"colab-df-container\">\n",
              "      <div>\n",
              "<style scoped>\n",
              "    .dataframe tbody tr th:only-of-type {\n",
              "        vertical-align: middle;\n",
              "    }\n",
              "\n",
              "    .dataframe tbody tr th {\n",
              "        vertical-align: top;\n",
              "    }\n",
              "\n",
              "    .dataframe thead th {\n",
              "        text-align: right;\n",
              "    }\n",
              "</style>\n",
              "<table border=\"1\" class=\"dataframe\">\n",
              "  <thead>\n",
              "    <tr style=\"text-align: right;\">\n",
              "      <th></th>\n",
              "      <th>Mese</th>\n",
              "      <th>Cupcake</th>\n",
              "    </tr>\n",
              "  </thead>\n",
              "  <tbody>\n",
              "    <tr>\n",
              "      <th>0</th>\n",
              "      <td>2004-01</td>\n",
              "      <td>5</td>\n",
              "    </tr>\n",
              "    <tr>\n",
              "      <th>1</th>\n",
              "      <td>2004-01</td>\n",
              "      <td>5</td>\n",
              "    </tr>\n",
              "    <tr>\n",
              "      <th>2</th>\n",
              "      <td>2004-01</td>\n",
              "      <td>5</td>\n",
              "    </tr>\n",
              "    <tr>\n",
              "      <th>3</th>\n",
              "      <td>2004-02</td>\n",
              "      <td>5</td>\n",
              "    </tr>\n",
              "    <tr>\n",
              "      <th>4</th>\n",
              "      <td>2004-03</td>\n",
              "      <td>4</td>\n",
              "    </tr>\n",
              "  </tbody>\n",
              "</table>\n",
              "</div>\n",
              "      <button class=\"colab-df-convert\" onclick=\"convertToInteractive('df-d137ad36-d7e6-404d-b5de-f8a8f52df0e5')\"\n",
              "              title=\"Convert this dataframe to an interactive table.\"\n",
              "              style=\"display:none;\">\n",
              "        \n",
              "  <svg xmlns=\"http://www.w3.org/2000/svg\" height=\"24px\"viewBox=\"0 0 24 24\"\n",
              "       width=\"24px\">\n",
              "    <path d=\"M0 0h24v24H0V0z\" fill=\"none\"/>\n",
              "    <path d=\"M18.56 5.44l.94 2.06.94-2.06 2.06-.94-2.06-.94-.94-2.06-.94 2.06-2.06.94zm-11 1L8.5 8.5l.94-2.06 2.06-.94-2.06-.94L8.5 2.5l-.94 2.06-2.06.94zm10 10l.94 2.06.94-2.06 2.06-.94-2.06-.94-.94-2.06-.94 2.06-2.06.94z\"/><path d=\"M17.41 7.96l-1.37-1.37c-.4-.4-.92-.59-1.43-.59-.52 0-1.04.2-1.43.59L10.3 9.45l-7.72 7.72c-.78.78-.78 2.05 0 2.83L4 21.41c.39.39.9.59 1.41.59.51 0 1.02-.2 1.41-.59l7.78-7.78 2.81-2.81c.8-.78.8-2.07 0-2.86zM5.41 20L4 18.59l7.72-7.72 1.47 1.35L5.41 20z\"/>\n",
              "  </svg>\n",
              "      </button>\n",
              "      \n",
              "  <style>\n",
              "    .colab-df-container {\n",
              "      display:flex;\n",
              "      flex-wrap:wrap;\n",
              "      gap: 12px;\n",
              "    }\n",
              "\n",
              "    .colab-df-convert {\n",
              "      background-color: #E8F0FE;\n",
              "      border: none;\n",
              "      border-radius: 50%;\n",
              "      cursor: pointer;\n",
              "      display: none;\n",
              "      fill: #1967D2;\n",
              "      height: 32px;\n",
              "      padding: 0 0 0 0;\n",
              "      width: 32px;\n",
              "    }\n",
              "\n",
              "    .colab-df-convert:hover {\n",
              "      background-color: #E2EBFA;\n",
              "      box-shadow: 0px 1px 2px rgba(60, 64, 67, 0.3), 0px 1px 3px 1px rgba(60, 64, 67, 0.15);\n",
              "      fill: #174EA6;\n",
              "    }\n",
              "\n",
              "    [theme=dark] .colab-df-convert {\n",
              "      background-color: #3B4455;\n",
              "      fill: #D2E3FC;\n",
              "    }\n",
              "\n",
              "    [theme=dark] .colab-df-convert:hover {\n",
              "      background-color: #434B5C;\n",
              "      box-shadow: 0px 1px 3px 1px rgba(0, 0, 0, 0.15);\n",
              "      filter: drop-shadow(0px 1px 2px rgba(0, 0, 0, 0.3));\n",
              "      fill: #FFFFFF;\n",
              "    }\n",
              "  </style>\n",
              "\n",
              "      <script>\n",
              "        const buttonEl =\n",
              "          document.querySelector('#df-d137ad36-d7e6-404d-b5de-f8a8f52df0e5 button.colab-df-convert');\n",
              "        buttonEl.style.display =\n",
              "          google.colab.kernel.accessAllowed ? 'block' : 'none';\n",
              "\n",
              "        async function convertToInteractive(key) {\n",
              "          const element = document.querySelector('#df-d137ad36-d7e6-404d-b5de-f8a8f52df0e5');\n",
              "          const dataTable =\n",
              "            await google.colab.kernel.invokeFunction('convertToInteractive',\n",
              "                                                     [key], {});\n",
              "          if (!dataTable) return;\n",
              "\n",
              "          const docLinkHtml = 'Like what you see? Visit the ' +\n",
              "            '<a target=\"_blank\" href=https://colab.research.google.com/notebooks/data_table.ipynb>data table notebook</a>'\n",
              "            + ' to learn more about interactive tables.';\n",
              "          element.innerHTML = '';\n",
              "          dataTable['output_type'] = 'display_data';\n",
              "          await google.colab.output.renderOutput(dataTable, element);\n",
              "          const docLink = document.createElement('div');\n",
              "          docLink.innerHTML = docLinkHtml;\n",
              "          element.appendChild(docLink);\n",
              "        }\n",
              "      </script>\n",
              "    </div>\n",
              "  </div>\n",
              "  "
            ]
          },
          "metadata": {},
          "execution_count": 77
        }
      ]
    },
    {
      "cell_type": "code",
      "source": [
        "df.shape"
      ],
      "metadata": {
        "colab": {
          "base_uri": "https://localhost:8080/"
        },
        "id": "7FXaJ1tvv-hB",
        "outputId": "1ecaae17-c4e2-407b-bbbc-ce4b10a4cf26"
      },
      "execution_count": null,
      "outputs": [
        {
          "output_type": "execute_result",
          "data": {
            "text/plain": [
              "(210, 2)"
            ]
          },
          "metadata": {},
          "execution_count": 78
        }
      ]
    },
    {
      "cell_type": "markdown",
      "source": [
        "### Check for the presence of duplicates\n",
        "\n",
        "Can use the duplicated() function to check the duplicate, which returns True if a record has other duplicates, False otherwise."
      ],
      "metadata": {
        "id": "mQ0hkdLDwBDg"
      }
    },
    {
      "cell_type": "code",
      "source": [
        "df.duplicated()"
      ],
      "metadata": {
        "colab": {
          "base_uri": "https://localhost:8080/"
        },
        "id": "Y7-LwOgkwMVB",
        "outputId": "b1097f01-5c1e-4c1a-f7b4-2b098a163750"
      },
      "execution_count": null,
      "outputs": [
        {
          "output_type": "execute_result",
          "data": {
            "text/plain": [
              "0      False\n",
              "1       True\n",
              "2       True\n",
              "3      False\n",
              "4      False\n",
              "       ...  \n",
              "205    False\n",
              "206    False\n",
              "207    False\n",
              "208    False\n",
              "209    False\n",
              "Length: 210, dtype: bool"
            ]
          },
          "metadata": {},
          "execution_count": 79
        }
      ]
    },
    {
      "cell_type": "markdown",
      "source": [],
      "metadata": {
        "id": "kW1xohYqwRBR"
      }
    },
    {
      "cell_type": "code",
      "source": [
        "df.duplicated(subset=['Mese'])"
      ],
      "metadata": {
        "colab": {
          "base_uri": "https://localhost:8080/"
        },
        "id": "7bnBEcSowRSL",
        "outputId": "ebf08508-366a-4799-82ae-040880674e00"
      },
      "execution_count": null,
      "outputs": [
        {
          "output_type": "execute_result",
          "data": {
            "text/plain": [
              "0      False\n",
              "1       True\n",
              "2       True\n",
              "3      False\n",
              "4      False\n",
              "       ...  \n",
              "205    False\n",
              "206    False\n",
              "207    False\n",
              "208    False\n",
              "209    False\n",
              "Length: 210, dtype: bool"
            ]
          },
          "metadata": {},
          "execution_count": 80
        }
      ]
    },
    {
      "cell_type": "code",
      "source": [
        "df.duplicated().sum()"
      ],
      "metadata": {
        "colab": {
          "base_uri": "https://localhost:8080/"
        },
        "id": "PLvMxVkZwWkh",
        "outputId": "baf9346a-55d1-4115-e98d-08ee1e8178a5"
      },
      "execution_count": null,
      "outputs": [
        {
          "output_type": "execute_result",
          "data": {
            "text/plain": [
              "6"
            ]
          },
          "metadata": {},
          "execution_count": 81
        }
      ]
    },
    {
      "cell_type": "markdown",
      "source": [
        "### Drop duplicates\n",
        "We can drop duplicates through the **drop_duplicates()** function. \n",
        "\n",
        "* drop all duplicates, on the basis of all the columns\n",
        "* drop all duplicates, on the basis of some columns\n",
        "\n",
        "In both strategies, we can decide whether to maintain a copy of the duplicated values or not. This can be done through the **keep** parameter, passed as input to the **drop_duplicates()** function."
      ],
      "metadata": {
        "id": "r33ctV40wcdg"
      }
    },
    {
      "cell_type": "code",
      "source": [
        "df1 = df.drop_duplicates()\n",
        "df1.shape"
      ],
      "metadata": {
        "colab": {
          "base_uri": "https://localhost:8080/"
        },
        "id": "Uq2UZGDKwphh",
        "outputId": "523a2d00-94db-4274-919e-f89d8ec891c0"
      },
      "execution_count": null,
      "outputs": [
        {
          "output_type": "execute_result",
          "data": {
            "text/plain": [
              "(204, 2)"
            ]
          },
          "metadata": {},
          "execution_count": 82
        }
      ]
    },
    {
      "cell_type": "code",
      "source": [
        "df2 = df.drop_duplicates(keep=False)\n",
        "df2.shape"
      ],
      "metadata": {
        "colab": {
          "base_uri": "https://localhost:8080/"
        },
        "id": "NvYOtCXJwz6p",
        "outputId": "076afff5-5833-4e8a-d8bc-44c650019b56"
      },
      "execution_count": null,
      "outputs": [
        {
          "output_type": "execute_result",
          "data": {
            "text/plain": [
              "(201, 2)"
            ]
          },
          "metadata": {},
          "execution_count": 83
        }
      ]
    },
    {
      "cell_type": "markdown",
      "source": [
        "* As an additional strategy, I can drop duplicates on the basis of a subset of columns. This can be done by using the subset parameter."
      ],
      "metadata": {
        "id": "jdMLHzLTw37Z"
      }
    },
    {
      "cell_type": "code",
      "source": [
        "df3 = df.drop_duplicates(subset=[\"Cupcake\"])\n",
        "df3.shape"
      ],
      "metadata": {
        "colab": {
          "base_uri": "https://localhost:8080/"
        },
        "id": "41bnrfGkw58a",
        "outputId": "9ec59bb0-faef-47ca-e510-19d570a86711"
      },
      "execution_count": null,
      "outputs": [
        {
          "output_type": "execute_result",
          "data": {
            "text/plain": [
              "(78, 2)"
            ]
          },
          "metadata": {},
          "execution_count": 84
        }
      ]
    },
    {
      "cell_type": "markdown",
      "source": [
        "* In this case, a greater number of records has been removed from the dataset."
      ],
      "metadata": {
        "id": "_bgsb3UCw-MJ"
      }
    },
    {
      "cell_type": "markdown",
      "source": [
        "## 4.Normalization\n",
        "\n",
        "Data Normalisation involves adjusting values measured on different scales to a common scale. When dealing with dataframes, data normalization permits to adjust values referred to different columns to a common scale. \n",
        "\n",
        "This operation is strongly recommended when the columns of a dataframe are considered as input features of a machine learning algorithm, because it permits to give all the features the same weight.\n",
        "\n",
        "Normalization applies only to columns containing numeric values. Five methods of normalization exist:\n",
        "\n",
        "* single feature scaling\n",
        "* min max\n",
        "* z-score\n",
        "* log scaling\n",
        "* clipping\n",
        "\n",
        "if you wanted to use each column of the dataset as input features of a machine learning algorithm, you should apply the same normalisation method to all the columns."
      ],
      "metadata": {
        "id": "VlQjG4m0xOkh"
      }
    },
    {
      "cell_type": "markdown",
      "source": [
        "* we consider the dataset provided by the Italian Protezione Civile, related to the number of COVID-19 cases registered since the beginning of the COVID-19 pandemic. "
      ],
      "metadata": {
        "id": "62RL2pQRxs15"
      }
    },
    {
      "cell_type": "code",
      "source": [
        "import pandas as pd\n",
        "df = pd.read_csv('https://raw.githubusercontent.com/thieu1995/csv-files/main/data/pandas/dpc-covid19-ita-regioni.csv')\n",
        "df.dropna(axis=1,inplace=True)\n",
        "df.head(10)"
      ],
      "metadata": {
        "colab": {
          "base_uri": "https://localhost:8080/",
          "height": 601
        },
        "id": "CpOkGWqWw_Th",
        "outputId": "b816cc0e-7934-4e61-e72f-4e1d224de2f6"
      },
      "execution_count": null,
      "outputs": [
        {
          "output_type": "execute_result",
          "data": {
            "text/plain": [
              "                  data stato  codice_regione  denominazione_regione  \\\n",
              "0  2020-02-24T18:00:00   ITA              13                Abruzzo   \n",
              "1  2020-02-24T18:00:00   ITA              17             Basilicata   \n",
              "2  2020-02-24T18:00:00   ITA              18               Calabria   \n",
              "3  2020-02-24T18:00:00   ITA              15               Campania   \n",
              "4  2020-02-24T18:00:00   ITA               8         Emilia-Romagna   \n",
              "5  2020-02-24T18:00:00   ITA               6  Friuli Venezia Giulia   \n",
              "6  2020-02-24T18:00:00   ITA              12                  Lazio   \n",
              "7  2020-02-24T18:00:00   ITA               7                Liguria   \n",
              "8  2020-02-24T18:00:00   ITA               3              Lombardia   \n",
              "9  2020-02-24T18:00:00   ITA              11                 Marche   \n",
              "\n",
              "         lat       long  ricoverati_con_sintomi  terapia_intensiva  \\\n",
              "0  42.351222  13.398438                       0                  0   \n",
              "1  40.639471  15.805148                       0                  0   \n",
              "2  38.905976  16.594402                       0                  0   \n",
              "3  40.839566  14.250850                       0                  0   \n",
              "4  44.494367  11.341721                      10                  2   \n",
              "5  45.649435  13.768136                       0                  0   \n",
              "6  41.892770  12.483667                       1                  1   \n",
              "7  44.411493   8.932699                       0                  0   \n",
              "8  45.466794   9.190347                      76                 19   \n",
              "9  43.616760  13.518875                       0                  0   \n",
              "\n",
              "   totale_ospedalizzati  isolamento_domiciliare  totale_positivi  \\\n",
              "0                     0                       0                0   \n",
              "1                     0                       0                0   \n",
              "2                     0                       0                0   \n",
              "3                     0                       0                0   \n",
              "4                    12                       6               18   \n",
              "5                     0                       0                0   \n",
              "6                     2                       0                2   \n",
              "7                     0                       0                0   \n",
              "8                    95                      71              166   \n",
              "9                     0                       0                0   \n",
              "\n",
              "   variazione_totale_positivi  nuovi_positivi  dimessi_guariti  deceduti  \\\n",
              "0                           0               0                0         0   \n",
              "1                           0               0                0         0   \n",
              "2                           0               0                0         0   \n",
              "3                           0               0                0         0   \n",
              "4                           0              18                0         0   \n",
              "5                           0               0                0         0   \n",
              "6                           0               2                1         0   \n",
              "7                           0               0                0         0   \n",
              "8                           0             166                0         6   \n",
              "9                           0               0                0         0   \n",
              "\n",
              "   totale_casi  tamponi  \n",
              "0            0        5  \n",
              "1            0        0  \n",
              "2            0        1  \n",
              "3            0       10  \n",
              "4           18      148  \n",
              "5            0       58  \n",
              "6            3      124  \n",
              "7            0        1  \n",
              "8          172     1463  \n",
              "9            0       16  "
            ],
            "text/html": [
              "\n",
              "  <div id=\"df-f67a84c5-04d5-49a8-b9b0-e7055da11c3a\">\n",
              "    <div class=\"colab-df-container\">\n",
              "      <div>\n",
              "<style scoped>\n",
              "    .dataframe tbody tr th:only-of-type {\n",
              "        vertical-align: middle;\n",
              "    }\n",
              "\n",
              "    .dataframe tbody tr th {\n",
              "        vertical-align: top;\n",
              "    }\n",
              "\n",
              "    .dataframe thead th {\n",
              "        text-align: right;\n",
              "    }\n",
              "</style>\n",
              "<table border=\"1\" class=\"dataframe\">\n",
              "  <thead>\n",
              "    <tr style=\"text-align: right;\">\n",
              "      <th></th>\n",
              "      <th>data</th>\n",
              "      <th>stato</th>\n",
              "      <th>codice_regione</th>\n",
              "      <th>denominazione_regione</th>\n",
              "      <th>lat</th>\n",
              "      <th>long</th>\n",
              "      <th>ricoverati_con_sintomi</th>\n",
              "      <th>terapia_intensiva</th>\n",
              "      <th>totale_ospedalizzati</th>\n",
              "      <th>isolamento_domiciliare</th>\n",
              "      <th>totale_positivi</th>\n",
              "      <th>variazione_totale_positivi</th>\n",
              "      <th>nuovi_positivi</th>\n",
              "      <th>dimessi_guariti</th>\n",
              "      <th>deceduti</th>\n",
              "      <th>totale_casi</th>\n",
              "      <th>tamponi</th>\n",
              "    </tr>\n",
              "  </thead>\n",
              "  <tbody>\n",
              "    <tr>\n",
              "      <th>0</th>\n",
              "      <td>2020-02-24T18:00:00</td>\n",
              "      <td>ITA</td>\n",
              "      <td>13</td>\n",
              "      <td>Abruzzo</td>\n",
              "      <td>42.351222</td>\n",
              "      <td>13.398438</td>\n",
              "      <td>0</td>\n",
              "      <td>0</td>\n",
              "      <td>0</td>\n",
              "      <td>0</td>\n",
              "      <td>0</td>\n",
              "      <td>0</td>\n",
              "      <td>0</td>\n",
              "      <td>0</td>\n",
              "      <td>0</td>\n",
              "      <td>0</td>\n",
              "      <td>5</td>\n",
              "    </tr>\n",
              "    <tr>\n",
              "      <th>1</th>\n",
              "      <td>2020-02-24T18:00:00</td>\n",
              "      <td>ITA</td>\n",
              "      <td>17</td>\n",
              "      <td>Basilicata</td>\n",
              "      <td>40.639471</td>\n",
              "      <td>15.805148</td>\n",
              "      <td>0</td>\n",
              "      <td>0</td>\n",
              "      <td>0</td>\n",
              "      <td>0</td>\n",
              "      <td>0</td>\n",
              "      <td>0</td>\n",
              "      <td>0</td>\n",
              "      <td>0</td>\n",
              "      <td>0</td>\n",
              "      <td>0</td>\n",
              "      <td>0</td>\n",
              "    </tr>\n",
              "    <tr>\n",
              "      <th>2</th>\n",
              "      <td>2020-02-24T18:00:00</td>\n",
              "      <td>ITA</td>\n",
              "      <td>18</td>\n",
              "      <td>Calabria</td>\n",
              "      <td>38.905976</td>\n",
              "      <td>16.594402</td>\n",
              "      <td>0</td>\n",
              "      <td>0</td>\n",
              "      <td>0</td>\n",
              "      <td>0</td>\n",
              "      <td>0</td>\n",
              "      <td>0</td>\n",
              "      <td>0</td>\n",
              "      <td>0</td>\n",
              "      <td>0</td>\n",
              "      <td>0</td>\n",
              "      <td>1</td>\n",
              "    </tr>\n",
              "    <tr>\n",
              "      <th>3</th>\n",
              "      <td>2020-02-24T18:00:00</td>\n",
              "      <td>ITA</td>\n",
              "      <td>15</td>\n",
              "      <td>Campania</td>\n",
              "      <td>40.839566</td>\n",
              "      <td>14.250850</td>\n",
              "      <td>0</td>\n",
              "      <td>0</td>\n",
              "      <td>0</td>\n",
              "      <td>0</td>\n",
              "      <td>0</td>\n",
              "      <td>0</td>\n",
              "      <td>0</td>\n",
              "      <td>0</td>\n",
              "      <td>0</td>\n",
              "      <td>0</td>\n",
              "      <td>10</td>\n",
              "    </tr>\n",
              "    <tr>\n",
              "      <th>4</th>\n",
              "      <td>2020-02-24T18:00:00</td>\n",
              "      <td>ITA</td>\n",
              "      <td>8</td>\n",
              "      <td>Emilia-Romagna</td>\n",
              "      <td>44.494367</td>\n",
              "      <td>11.341721</td>\n",
              "      <td>10</td>\n",
              "      <td>2</td>\n",
              "      <td>12</td>\n",
              "      <td>6</td>\n",
              "      <td>18</td>\n",
              "      <td>0</td>\n",
              "      <td>18</td>\n",
              "      <td>0</td>\n",
              "      <td>0</td>\n",
              "      <td>18</td>\n",
              "      <td>148</td>\n",
              "    </tr>\n",
              "    <tr>\n",
              "      <th>5</th>\n",
              "      <td>2020-02-24T18:00:00</td>\n",
              "      <td>ITA</td>\n",
              "      <td>6</td>\n",
              "      <td>Friuli Venezia Giulia</td>\n",
              "      <td>45.649435</td>\n",
              "      <td>13.768136</td>\n",
              "      <td>0</td>\n",
              "      <td>0</td>\n",
              "      <td>0</td>\n",
              "      <td>0</td>\n",
              "      <td>0</td>\n",
              "      <td>0</td>\n",
              "      <td>0</td>\n",
              "      <td>0</td>\n",
              "      <td>0</td>\n",
              "      <td>0</td>\n",
              "      <td>58</td>\n",
              "    </tr>\n",
              "    <tr>\n",
              "      <th>6</th>\n",
              "      <td>2020-02-24T18:00:00</td>\n",
              "      <td>ITA</td>\n",
              "      <td>12</td>\n",
              "      <td>Lazio</td>\n",
              "      <td>41.892770</td>\n",
              "      <td>12.483667</td>\n",
              "      <td>1</td>\n",
              "      <td>1</td>\n",
              "      <td>2</td>\n",
              "      <td>0</td>\n",
              "      <td>2</td>\n",
              "      <td>0</td>\n",
              "      <td>2</td>\n",
              "      <td>1</td>\n",
              "      <td>0</td>\n",
              "      <td>3</td>\n",
              "      <td>124</td>\n",
              "    </tr>\n",
              "    <tr>\n",
              "      <th>7</th>\n",
              "      <td>2020-02-24T18:00:00</td>\n",
              "      <td>ITA</td>\n",
              "      <td>7</td>\n",
              "      <td>Liguria</td>\n",
              "      <td>44.411493</td>\n",
              "      <td>8.932699</td>\n",
              "      <td>0</td>\n",
              "      <td>0</td>\n",
              "      <td>0</td>\n",
              "      <td>0</td>\n",
              "      <td>0</td>\n",
              "      <td>0</td>\n",
              "      <td>0</td>\n",
              "      <td>0</td>\n",
              "      <td>0</td>\n",
              "      <td>0</td>\n",
              "      <td>1</td>\n",
              "    </tr>\n",
              "    <tr>\n",
              "      <th>8</th>\n",
              "      <td>2020-02-24T18:00:00</td>\n",
              "      <td>ITA</td>\n",
              "      <td>3</td>\n",
              "      <td>Lombardia</td>\n",
              "      <td>45.466794</td>\n",
              "      <td>9.190347</td>\n",
              "      <td>76</td>\n",
              "      <td>19</td>\n",
              "      <td>95</td>\n",
              "      <td>71</td>\n",
              "      <td>166</td>\n",
              "      <td>0</td>\n",
              "      <td>166</td>\n",
              "      <td>0</td>\n",
              "      <td>6</td>\n",
              "      <td>172</td>\n",
              "      <td>1463</td>\n",
              "    </tr>\n",
              "    <tr>\n",
              "      <th>9</th>\n",
              "      <td>2020-02-24T18:00:00</td>\n",
              "      <td>ITA</td>\n",
              "      <td>11</td>\n",
              "      <td>Marche</td>\n",
              "      <td>43.616760</td>\n",
              "      <td>13.518875</td>\n",
              "      <td>0</td>\n",
              "      <td>0</td>\n",
              "      <td>0</td>\n",
              "      <td>0</td>\n",
              "      <td>0</td>\n",
              "      <td>0</td>\n",
              "      <td>0</td>\n",
              "      <td>0</td>\n",
              "      <td>0</td>\n",
              "      <td>0</td>\n",
              "      <td>16</td>\n",
              "    </tr>\n",
              "  </tbody>\n",
              "</table>\n",
              "</div>\n",
              "      <button class=\"colab-df-convert\" onclick=\"convertToInteractive('df-f67a84c5-04d5-49a8-b9b0-e7055da11c3a')\"\n",
              "              title=\"Convert this dataframe to an interactive table.\"\n",
              "              style=\"display:none;\">\n",
              "        \n",
              "  <svg xmlns=\"http://www.w3.org/2000/svg\" height=\"24px\"viewBox=\"0 0 24 24\"\n",
              "       width=\"24px\">\n",
              "    <path d=\"M0 0h24v24H0V0z\" fill=\"none\"/>\n",
              "    <path d=\"M18.56 5.44l.94 2.06.94-2.06 2.06-.94-2.06-.94-.94-2.06-.94 2.06-2.06.94zm-11 1L8.5 8.5l.94-2.06 2.06-.94-2.06-.94L8.5 2.5l-.94 2.06-2.06.94zm10 10l.94 2.06.94-2.06 2.06-.94-2.06-.94-.94-2.06-.94 2.06-2.06.94z\"/><path d=\"M17.41 7.96l-1.37-1.37c-.4-.4-.92-.59-1.43-.59-.52 0-1.04.2-1.43.59L10.3 9.45l-7.72 7.72c-.78.78-.78 2.05 0 2.83L4 21.41c.39.39.9.59 1.41.59.51 0 1.02-.2 1.41-.59l7.78-7.78 2.81-2.81c.8-.78.8-2.07 0-2.86zM5.41 20L4 18.59l7.72-7.72 1.47 1.35L5.41 20z\"/>\n",
              "  </svg>\n",
              "      </button>\n",
              "      \n",
              "  <style>\n",
              "    .colab-df-container {\n",
              "      display:flex;\n",
              "      flex-wrap:wrap;\n",
              "      gap: 12px;\n",
              "    }\n",
              "\n",
              "    .colab-df-convert {\n",
              "      background-color: #E8F0FE;\n",
              "      border: none;\n",
              "      border-radius: 50%;\n",
              "      cursor: pointer;\n",
              "      display: none;\n",
              "      fill: #1967D2;\n",
              "      height: 32px;\n",
              "      padding: 0 0 0 0;\n",
              "      width: 32px;\n",
              "    }\n",
              "\n",
              "    .colab-df-convert:hover {\n",
              "      background-color: #E2EBFA;\n",
              "      box-shadow: 0px 1px 2px rgba(60, 64, 67, 0.3), 0px 1px 3px 1px rgba(60, 64, 67, 0.15);\n",
              "      fill: #174EA6;\n",
              "    }\n",
              "\n",
              "    [theme=dark] .colab-df-convert {\n",
              "      background-color: #3B4455;\n",
              "      fill: #D2E3FC;\n",
              "    }\n",
              "\n",
              "    [theme=dark] .colab-df-convert:hover {\n",
              "      background-color: #434B5C;\n",
              "      box-shadow: 0px 1px 3px 1px rgba(0, 0, 0, 0.15);\n",
              "      filter: drop-shadow(0px 1px 2px rgba(0, 0, 0, 0.3));\n",
              "      fill: #FFFFFF;\n",
              "    }\n",
              "  </style>\n",
              "\n",
              "      <script>\n",
              "        const buttonEl =\n",
              "          document.querySelector('#df-f67a84c5-04d5-49a8-b9b0-e7055da11c3a button.colab-df-convert');\n",
              "        buttonEl.style.display =\n",
              "          google.colab.kernel.accessAllowed ? 'block' : 'none';\n",
              "\n",
              "        async function convertToInteractive(key) {\n",
              "          const element = document.querySelector('#df-f67a84c5-04d5-49a8-b9b0-e7055da11c3a');\n",
              "          const dataTable =\n",
              "            await google.colab.kernel.invokeFunction('convertToInteractive',\n",
              "                                                     [key], {});\n",
              "          if (!dataTable) return;\n",
              "\n",
              "          const docLinkHtml = 'Like what you see? Visit the ' +\n",
              "            '<a target=\"_blank\" href=https://colab.research.google.com/notebooks/data_table.ipynb>data table notebook</a>'\n",
              "            + ' to learn more about interactive tables.';\n",
              "          element.innerHTML = '';\n",
              "          dataTable['output_type'] = 'display_data';\n",
              "          await google.colab.output.renderOutput(dataTable, element);\n",
              "          const docLink = document.createElement('div');\n",
              "          docLink.innerHTML = docLinkHtml;\n",
              "          element.appendChild(docLink);\n",
              "        }\n",
              "      </script>\n",
              "    </div>\n",
              "  </div>\n",
              "  "
            ]
          },
          "metadata": {},
          "execution_count": 85
        }
      ]
    },
    {
      "cell_type": "markdown",
      "source": [
        "### Single Feature Scaling\n",
        "\n",
        "converts every value of a column into a number between 0 and 1. The new value is calculated as the current value divided by the max value of the column. For example, if we consider the column **tamponi**, we can apply the single feature scaling by applying to the column the function **max()**, which calculates the maximum value of the column:"
      ],
      "metadata": {
        "id": "A-TJGJ0tydML"
      }
    },
    {
      "cell_type": "code",
      "source": [
        "df['tamponi'] = df['tamponi'] / df['tamponi'].max()\n",
        "df['tamponi']"
      ],
      "metadata": {
        "colab": {
          "base_uri": "https://localhost:8080/"
        },
        "id": "8BD_czZwyn6I",
        "outputId": "48185d17-24fc-42cb-d180-4961e468f7cb"
      },
      "execution_count": null,
      "outputs": [
        {
          "output_type": "execute_result",
          "data": {
            "text/plain": [
              "0        1.188131e-07\n",
              "1        0.000000e+00\n",
              "2        2.376262e-08\n",
              "3        2.376262e-07\n",
              "4        3.516868e-06\n",
              "             ...     \n",
              "20281    3.639001e-01\n",
              "20282    3.737871e-01\n",
              "20283    1.130530e-01\n",
              "20284    1.337111e-02\n",
              "20285    8.080992e-01\n",
              "Name: tamponi, Length: 20286, dtype: float64"
            ]
          },
          "metadata": {},
          "execution_count": 87
        }
      ]
    },
    {
      "cell_type": "markdown",
      "source": [
        "### Min Max\n",
        "\n",
        "Similarly to Single Feature Scaling, Min Max converts every value of a column into a number between 0 and 1. The new value is calculated as the difference between the current value and the min value, divided by the range of the column values. For example, we can apply the min max method to the column **totale_casi**."
      ],
      "metadata": {
        "id": "qTDDEBClyw8h"
      }
    },
    {
      "cell_type": "code",
      "source": [
        "df['totale_casi'] = (df['totale_casi'] - df['totale_casi'].min()) / (df['totale_casi'].max() - df['totale_casi'].min())\n",
        "df['totale_casi']"
      ],
      "metadata": {
        "colab": {
          "base_uri": "https://localhost:8080/"
        },
        "id": "NxS2HgIxy27A",
        "outputId": "b8ae356f-cbde-4b23-f9ad-a72a3785ed62"
      },
      "execution_count": null,
      "outputs": [
        {
          "output_type": "execute_result",
          "data": {
            "text/plain": [
              "0        0.000000\n",
              "1        0.000000\n",
              "2        0.000000\n",
              "3        0.000000\n",
              "4        0.000005\n",
              "           ...   \n",
              "20281    0.451960\n",
              "20282    0.390215\n",
              "20283    0.106060\n",
              "20284    0.012568\n",
              "20285    0.638993\n",
              "Name: totale_casi, Length: 20286, dtype: float64"
            ]
          },
          "metadata": {},
          "execution_count": 89
        }
      ]
    },
    {
      "cell_type": "markdown",
      "source": [
        "### z-score\n",
        "\n",
        "Z-Score converts every value of a column into a number around 0. Typical values obtained by a z-score transformation range from -3 and 3.\n",
        "\n",
        "* The new value is calculated as the difference between the current value and the average value, divided by the standard deviation. \n",
        "\n",
        "* The average value of a column can be obtained through the mean() function, while the standard deviation through the std() function. \n",
        "\n",
        "* For example, we can calculate the z-score of the column deceduti."
      ],
      "metadata": {
        "id": "RFSGqrxoy-0R"
      }
    },
    {
      "cell_type": "code",
      "source": [
        "df['deceduti'] = (df['deceduti']-df['deceduti'].mean()) / df['deceduti'].std()\n",
        "df['deceduti']"
      ],
      "metadata": {
        "colab": {
          "base_uri": "https://localhost:8080/"
        },
        "id": "LKaf0IVxzMsJ",
        "outputId": "ba8ebe7e-9868-44fd-dc5b-499024373e45"
      },
      "execution_count": null,
      "outputs": [
        {
          "output_type": "execute_result",
          "data": {
            "text/plain": [
              "0       -0.693053\n",
              "1       -0.693053\n",
              "2       -0.693053\n",
              "3       -0.693053\n",
              "4       -0.693053\n",
              "           ...   \n",
              "20281    0.999198\n",
              "20282    0.813125\n",
              "20283   -0.394616\n",
              "20284   -0.616573\n",
              "20285    1.464726\n",
              "Name: deceduti, Length: 20286, dtype: float64"
            ]
          },
          "metadata": {},
          "execution_count": 90
        }
      ]
    },
    {
      "cell_type": "markdown",
      "source": [
        "* Now we can calculate the minimum and maximum value obtained by the z-score transformation:"
      ],
      "metadata": {
        "id": "Hfr1m7M4zTJ4"
      }
    },
    {
      "cell_type": "code",
      "source": [
        "df['deceduti'].min()"
      ],
      "metadata": {
        "colab": {
          "base_uri": "https://localhost:8080/"
        },
        "id": "BAk2hpPjzUfB",
        "outputId": "b7b7e18b-af24-4d24-ec83-fe33c98ff624"
      },
      "execution_count": null,
      "outputs": [
        {
          "output_type": "execute_result",
          "data": {
            "text/plain": [
              "-0.6930527613954283"
            ]
          },
          "metadata": {},
          "execution_count": 91
        }
      ]
    },
    {
      "cell_type": "code",
      "source": [
        "df['deceduti'].max()"
      ],
      "metadata": {
        "colab": {
          "base_uri": "https://localhost:8080/"
        },
        "id": "STSn4E_6zWa4",
        "outputId": "2a8c398d-00d7-4230-d684-890df6747c81"
      },
      "execution_count": null,
      "outputs": [
        {
          "output_type": "execute_result",
          "data": {
            "text/plain": [
              "5.235228392218876"
            ]
          },
          "metadata": {},
          "execution_count": 92
        }
      ]
    },
    {
      "cell_type": "markdown",
      "source": [
        "### Log Scaling\n",
        "\n",
        "Log Scaling involves the conversion of a column to the logarithmic scale. \n",
        "\n",
        "* If we want to use the natural logarithm, we can use the log() function of the numpy library. \n",
        "\n",
        "* For example, we can apply log scaling to the column dimessi_guariti. We must deal with log(0) because it does not exist. \n",
        "\n",
        "* We use the lambda operator to select the single rows of the column."
      ],
      "metadata": {
        "id": "kBejm6hmzxf5"
      }
    },
    {
      "cell_type": "code",
      "source": [
        "import numpy as np\n",
        "df['dimessi_guariti'] = df['dimessi_guariti'].apply(lambda x: np.log(x) if x != 0 else 0)\n",
        "df['dimessi_guariti']"
      ],
      "metadata": {
        "colab": {
          "base_uri": "https://localhost:8080/"
        },
        "id": "CM-2ENFIz6WI",
        "outputId": "8e46412d-2691-420b-c088-1b7188f7ca2d"
      },
      "execution_count": null,
      "outputs": [
        {
          "output_type": "execute_result",
          "data": {
            "text/plain": [
              "0         0.000000\n",
              "1         0.000000\n",
              "2         0.000000\n",
              "3         0.000000\n",
              "4         0.000000\n",
              "           ...    \n",
              "20281    14.310082\n",
              "20282    14.138012\n",
              "20283    12.851905\n",
              "20284    10.704435\n",
              "20285    14.640075\n",
              "Name: dimessi_guariti, Length: 20286, dtype: float64"
            ]
          },
          "metadata": {},
          "execution_count": 93
        }
      ]
    },
    {
      "cell_type": "markdown",
      "source": [
        "### Clipping\n",
        "\n",
        "Clipping involves the capping of all values below or above a certain value. Clipping is useful when a column contains some outliers. \n",
        "\n",
        "* We can set a maximum **vmax** and a minimum value **vmin** and set all outliers greater than the maximum value to **vmax** and all the outliers lower than the minimum value to **vmin**. \n",
        "\n",
        "* For example, we can consider the column **ricoverati_con_sintomi** and we can set **vmax** = 10000 and **vmin** = 10."
      ],
      "metadata": {
        "id": "e0FwPu3I0CYP"
      }
    },
    {
      "cell_type": "code",
      "source": [
        "vmax = 10000\n",
        "vmin = 10\n",
        "df['ricoverati_con_sintomi'] = df['ricoverati_con_sintomi'].apply(lambda x: vmax if x > vmax else vmin if x < vmin else x)\n",
        "df['ricoverati_con_sintomi']"
      ],
      "metadata": {
        "colab": {
          "base_uri": "https://localhost:8080/"
        },
        "id": "mCFSQFUX0E5p",
        "outputId": "d5982eb9-de98-4ca4-b57a-30bff36b5b07"
      },
      "execution_count": null,
      "outputs": [
        {
          "output_type": "execute_result",
          "data": {
            "text/plain": [
              "0         10\n",
              "1         10\n",
              "2         10\n",
              "3         10\n",
              "4         10\n",
              "        ... \n",
              "20281    238\n",
              "20282    441\n",
              "20283    192\n",
              "20284     40\n",
              "20285    717\n",
              "Name: ricoverati_con_sintomi, Length: 20286, dtype: int64"
            ]
          },
          "metadata": {},
          "execution_count": 94
        }
      ]
    },
    {
      "cell_type": "markdown",
      "source": [
        "### Final question?\n",
        "\n",
        "what is the best technique? Actually, there is not a technique better than the others, the choice of a method rather than another depends on what we want as output. Thus:\n",
        "\n",
        "* if you want an output between 0 and 1, you should use single feature scaling or min max\n",
        "* if you want an output around 0, which includes also negative values, you should use z-score\n",
        "* if your data contain many outliers, you can use clipping\n",
        "* if you want to change the scale of your data, you can use the log scaling."
      ],
      "metadata": {
        "id": "bSmi1Up50fUh"
      }
    },
    {
      "cell_type": "markdown",
      "source": [
        "## 5.Standardization\n",
        "\n",
        "Standardization is often confused with normalization, however they refer to different things. \n",
        "\n",
        "* Normalization involves adjusting values measured on different scales to a common scale, while standardization transforms data to have a mean of zero and a standard deviation of 1. \n",
        "* Standardization is also done through a z-score transformation, where the new value is calculated as the difference between the current value and the average value, divided by the standard deviation.\n",
        "\n"
      ],
      "metadata": {
        "id": "JciaLJKr0zNA"
      }
    },
    {
      "cell_type": "markdown",
      "source": [
        "* Z-score is a statistical measure that specifies how far is a single data point from the rest of the dataset. Z-score can be used to detect outliers in a dataset."
      ],
      "metadata": {
        "id": "OUDzNFPD1Ldw"
      }
    },
    {
      "cell_type": "code",
      "source": [
        "import pandas as pd\n",
        "df = pd.read_csv('https://raw.githubusercontent.com/thieu1995/csv-files/main/data/pandas/dpc-covid19-ita-regioni.csv')\n",
        "df.dropna(axis=1,inplace=True)\n",
        "df.head(10)"
      ],
      "metadata": {
        "colab": {
          "base_uri": "https://localhost:8080/",
          "height": 601
        },
        "id": "Ya3bS1CQ0jsm",
        "outputId": "164586a4-3acb-475b-8942-3c2eb1001044"
      },
      "execution_count": null,
      "outputs": [
        {
          "output_type": "execute_result",
          "data": {
            "text/plain": [
              "                  data stato  codice_regione  denominazione_regione  \\\n",
              "0  2020-02-24T18:00:00   ITA              13                Abruzzo   \n",
              "1  2020-02-24T18:00:00   ITA              17             Basilicata   \n",
              "2  2020-02-24T18:00:00   ITA              18               Calabria   \n",
              "3  2020-02-24T18:00:00   ITA              15               Campania   \n",
              "4  2020-02-24T18:00:00   ITA               8         Emilia-Romagna   \n",
              "5  2020-02-24T18:00:00   ITA               6  Friuli Venezia Giulia   \n",
              "6  2020-02-24T18:00:00   ITA              12                  Lazio   \n",
              "7  2020-02-24T18:00:00   ITA               7                Liguria   \n",
              "8  2020-02-24T18:00:00   ITA               3              Lombardia   \n",
              "9  2020-02-24T18:00:00   ITA              11                 Marche   \n",
              "\n",
              "         lat       long  ricoverati_con_sintomi  terapia_intensiva  \\\n",
              "0  42.351222  13.398438                       0                  0   \n",
              "1  40.639471  15.805148                       0                  0   \n",
              "2  38.905976  16.594402                       0                  0   \n",
              "3  40.839566  14.250850                       0                  0   \n",
              "4  44.494367  11.341721                      10                  2   \n",
              "5  45.649435  13.768136                       0                  0   \n",
              "6  41.892770  12.483667                       1                  1   \n",
              "7  44.411493   8.932699                       0                  0   \n",
              "8  45.466794   9.190347                      76                 19   \n",
              "9  43.616760  13.518875                       0                  0   \n",
              "\n",
              "   totale_ospedalizzati  isolamento_domiciliare  totale_positivi  \\\n",
              "0                     0                       0                0   \n",
              "1                     0                       0                0   \n",
              "2                     0                       0                0   \n",
              "3                     0                       0                0   \n",
              "4                    12                       6               18   \n",
              "5                     0                       0                0   \n",
              "6                     2                       0                2   \n",
              "7                     0                       0                0   \n",
              "8                    95                      71              166   \n",
              "9                     0                       0                0   \n",
              "\n",
              "   variazione_totale_positivi  nuovi_positivi  dimessi_guariti  deceduti  \\\n",
              "0                           0               0                0         0   \n",
              "1                           0               0                0         0   \n",
              "2                           0               0                0         0   \n",
              "3                           0               0                0         0   \n",
              "4                           0              18                0         0   \n",
              "5                           0               0                0         0   \n",
              "6                           0               2                1         0   \n",
              "7                           0               0                0         0   \n",
              "8                           0             166                0         6   \n",
              "9                           0               0                0         0   \n",
              "\n",
              "   totale_casi  tamponi  \n",
              "0            0        5  \n",
              "1            0        0  \n",
              "2            0        1  \n",
              "3            0       10  \n",
              "4           18      148  \n",
              "5            0       58  \n",
              "6            3      124  \n",
              "7            0        1  \n",
              "8          172     1463  \n",
              "9            0       16  "
            ],
            "text/html": [
              "\n",
              "  <div id=\"df-425e6499-0075-476e-b63a-bb8b852262c3\">\n",
              "    <div class=\"colab-df-container\">\n",
              "      <div>\n",
              "<style scoped>\n",
              "    .dataframe tbody tr th:only-of-type {\n",
              "        vertical-align: middle;\n",
              "    }\n",
              "\n",
              "    .dataframe tbody tr th {\n",
              "        vertical-align: top;\n",
              "    }\n",
              "\n",
              "    .dataframe thead th {\n",
              "        text-align: right;\n",
              "    }\n",
              "</style>\n",
              "<table border=\"1\" class=\"dataframe\">\n",
              "  <thead>\n",
              "    <tr style=\"text-align: right;\">\n",
              "      <th></th>\n",
              "      <th>data</th>\n",
              "      <th>stato</th>\n",
              "      <th>codice_regione</th>\n",
              "      <th>denominazione_regione</th>\n",
              "      <th>lat</th>\n",
              "      <th>long</th>\n",
              "      <th>ricoverati_con_sintomi</th>\n",
              "      <th>terapia_intensiva</th>\n",
              "      <th>totale_ospedalizzati</th>\n",
              "      <th>isolamento_domiciliare</th>\n",
              "      <th>totale_positivi</th>\n",
              "      <th>variazione_totale_positivi</th>\n",
              "      <th>nuovi_positivi</th>\n",
              "      <th>dimessi_guariti</th>\n",
              "      <th>deceduti</th>\n",
              "      <th>totale_casi</th>\n",
              "      <th>tamponi</th>\n",
              "    </tr>\n",
              "  </thead>\n",
              "  <tbody>\n",
              "    <tr>\n",
              "      <th>0</th>\n",
              "      <td>2020-02-24T18:00:00</td>\n",
              "      <td>ITA</td>\n",
              "      <td>13</td>\n",
              "      <td>Abruzzo</td>\n",
              "      <td>42.351222</td>\n",
              "      <td>13.398438</td>\n",
              "      <td>0</td>\n",
              "      <td>0</td>\n",
              "      <td>0</td>\n",
              "      <td>0</td>\n",
              "      <td>0</td>\n",
              "      <td>0</td>\n",
              "      <td>0</td>\n",
              "      <td>0</td>\n",
              "      <td>0</td>\n",
              "      <td>0</td>\n",
              "      <td>5</td>\n",
              "    </tr>\n",
              "    <tr>\n",
              "      <th>1</th>\n",
              "      <td>2020-02-24T18:00:00</td>\n",
              "      <td>ITA</td>\n",
              "      <td>17</td>\n",
              "      <td>Basilicata</td>\n",
              "      <td>40.639471</td>\n",
              "      <td>15.805148</td>\n",
              "      <td>0</td>\n",
              "      <td>0</td>\n",
              "      <td>0</td>\n",
              "      <td>0</td>\n",
              "      <td>0</td>\n",
              "      <td>0</td>\n",
              "      <td>0</td>\n",
              "      <td>0</td>\n",
              "      <td>0</td>\n",
              "      <td>0</td>\n",
              "      <td>0</td>\n",
              "    </tr>\n",
              "    <tr>\n",
              "      <th>2</th>\n",
              "      <td>2020-02-24T18:00:00</td>\n",
              "      <td>ITA</td>\n",
              "      <td>18</td>\n",
              "      <td>Calabria</td>\n",
              "      <td>38.905976</td>\n",
              "      <td>16.594402</td>\n",
              "      <td>0</td>\n",
              "      <td>0</td>\n",
              "      <td>0</td>\n",
              "      <td>0</td>\n",
              "      <td>0</td>\n",
              "      <td>0</td>\n",
              "      <td>0</td>\n",
              "      <td>0</td>\n",
              "      <td>0</td>\n",
              "      <td>0</td>\n",
              "      <td>1</td>\n",
              "    </tr>\n",
              "    <tr>\n",
              "      <th>3</th>\n",
              "      <td>2020-02-24T18:00:00</td>\n",
              "      <td>ITA</td>\n",
              "      <td>15</td>\n",
              "      <td>Campania</td>\n",
              "      <td>40.839566</td>\n",
              "      <td>14.250850</td>\n",
              "      <td>0</td>\n",
              "      <td>0</td>\n",
              "      <td>0</td>\n",
              "      <td>0</td>\n",
              "      <td>0</td>\n",
              "      <td>0</td>\n",
              "      <td>0</td>\n",
              "      <td>0</td>\n",
              "      <td>0</td>\n",
              "      <td>0</td>\n",
              "      <td>10</td>\n",
              "    </tr>\n",
              "    <tr>\n",
              "      <th>4</th>\n",
              "      <td>2020-02-24T18:00:00</td>\n",
              "      <td>ITA</td>\n",
              "      <td>8</td>\n",
              "      <td>Emilia-Romagna</td>\n",
              "      <td>44.494367</td>\n",
              "      <td>11.341721</td>\n",
              "      <td>10</td>\n",
              "      <td>2</td>\n",
              "      <td>12</td>\n",
              "      <td>6</td>\n",
              "      <td>18</td>\n",
              "      <td>0</td>\n",
              "      <td>18</td>\n",
              "      <td>0</td>\n",
              "      <td>0</td>\n",
              "      <td>18</td>\n",
              "      <td>148</td>\n",
              "    </tr>\n",
              "    <tr>\n",
              "      <th>5</th>\n",
              "      <td>2020-02-24T18:00:00</td>\n",
              "      <td>ITA</td>\n",
              "      <td>6</td>\n",
              "      <td>Friuli Venezia Giulia</td>\n",
              "      <td>45.649435</td>\n",
              "      <td>13.768136</td>\n",
              "      <td>0</td>\n",
              "      <td>0</td>\n",
              "      <td>0</td>\n",
              "      <td>0</td>\n",
              "      <td>0</td>\n",
              "      <td>0</td>\n",
              "      <td>0</td>\n",
              "      <td>0</td>\n",
              "      <td>0</td>\n",
              "      <td>0</td>\n",
              "      <td>58</td>\n",
              "    </tr>\n",
              "    <tr>\n",
              "      <th>6</th>\n",
              "      <td>2020-02-24T18:00:00</td>\n",
              "      <td>ITA</td>\n",
              "      <td>12</td>\n",
              "      <td>Lazio</td>\n",
              "      <td>41.892770</td>\n",
              "      <td>12.483667</td>\n",
              "      <td>1</td>\n",
              "      <td>1</td>\n",
              "      <td>2</td>\n",
              "      <td>0</td>\n",
              "      <td>2</td>\n",
              "      <td>0</td>\n",
              "      <td>2</td>\n",
              "      <td>1</td>\n",
              "      <td>0</td>\n",
              "      <td>3</td>\n",
              "      <td>124</td>\n",
              "    </tr>\n",
              "    <tr>\n",
              "      <th>7</th>\n",
              "      <td>2020-02-24T18:00:00</td>\n",
              "      <td>ITA</td>\n",
              "      <td>7</td>\n",
              "      <td>Liguria</td>\n",
              "      <td>44.411493</td>\n",
              "      <td>8.932699</td>\n",
              "      <td>0</td>\n",
              "      <td>0</td>\n",
              "      <td>0</td>\n",
              "      <td>0</td>\n",
              "      <td>0</td>\n",
              "      <td>0</td>\n",
              "      <td>0</td>\n",
              "      <td>0</td>\n",
              "      <td>0</td>\n",
              "      <td>0</td>\n",
              "      <td>1</td>\n",
              "    </tr>\n",
              "    <tr>\n",
              "      <th>8</th>\n",
              "      <td>2020-02-24T18:00:00</td>\n",
              "      <td>ITA</td>\n",
              "      <td>3</td>\n",
              "      <td>Lombardia</td>\n",
              "      <td>45.466794</td>\n",
              "      <td>9.190347</td>\n",
              "      <td>76</td>\n",
              "      <td>19</td>\n",
              "      <td>95</td>\n",
              "      <td>71</td>\n",
              "      <td>166</td>\n",
              "      <td>0</td>\n",
              "      <td>166</td>\n",
              "      <td>0</td>\n",
              "      <td>6</td>\n",
              "      <td>172</td>\n",
              "      <td>1463</td>\n",
              "    </tr>\n",
              "    <tr>\n",
              "      <th>9</th>\n",
              "      <td>2020-02-24T18:00:00</td>\n",
              "      <td>ITA</td>\n",
              "      <td>11</td>\n",
              "      <td>Marche</td>\n",
              "      <td>43.616760</td>\n",
              "      <td>13.518875</td>\n",
              "      <td>0</td>\n",
              "      <td>0</td>\n",
              "      <td>0</td>\n",
              "      <td>0</td>\n",
              "      <td>0</td>\n",
              "      <td>0</td>\n",
              "      <td>0</td>\n",
              "      <td>0</td>\n",
              "      <td>0</td>\n",
              "      <td>0</td>\n",
              "      <td>16</td>\n",
              "    </tr>\n",
              "  </tbody>\n",
              "</table>\n",
              "</div>\n",
              "      <button class=\"colab-df-convert\" onclick=\"convertToInteractive('df-425e6499-0075-476e-b63a-bb8b852262c3')\"\n",
              "              title=\"Convert this dataframe to an interactive table.\"\n",
              "              style=\"display:none;\">\n",
              "        \n",
              "  <svg xmlns=\"http://www.w3.org/2000/svg\" height=\"24px\"viewBox=\"0 0 24 24\"\n",
              "       width=\"24px\">\n",
              "    <path d=\"M0 0h24v24H0V0z\" fill=\"none\"/>\n",
              "    <path d=\"M18.56 5.44l.94 2.06.94-2.06 2.06-.94-2.06-.94-.94-2.06-.94 2.06-2.06.94zm-11 1L8.5 8.5l.94-2.06 2.06-.94-2.06-.94L8.5 2.5l-.94 2.06-2.06.94zm10 10l.94 2.06.94-2.06 2.06-.94-2.06-.94-.94-2.06-.94 2.06-2.06.94z\"/><path d=\"M17.41 7.96l-1.37-1.37c-.4-.4-.92-.59-1.43-.59-.52 0-1.04.2-1.43.59L10.3 9.45l-7.72 7.72c-.78.78-.78 2.05 0 2.83L4 21.41c.39.39.9.59 1.41.59.51 0 1.02-.2 1.41-.59l7.78-7.78 2.81-2.81c.8-.78.8-2.07 0-2.86zM5.41 20L4 18.59l7.72-7.72 1.47 1.35L5.41 20z\"/>\n",
              "  </svg>\n",
              "      </button>\n",
              "      \n",
              "  <style>\n",
              "    .colab-df-container {\n",
              "      display:flex;\n",
              "      flex-wrap:wrap;\n",
              "      gap: 12px;\n",
              "    }\n",
              "\n",
              "    .colab-df-convert {\n",
              "      background-color: #E8F0FE;\n",
              "      border: none;\n",
              "      border-radius: 50%;\n",
              "      cursor: pointer;\n",
              "      display: none;\n",
              "      fill: #1967D2;\n",
              "      height: 32px;\n",
              "      padding: 0 0 0 0;\n",
              "      width: 32px;\n",
              "    }\n",
              "\n",
              "    .colab-df-convert:hover {\n",
              "      background-color: #E2EBFA;\n",
              "      box-shadow: 0px 1px 2px rgba(60, 64, 67, 0.3), 0px 1px 3px 1px rgba(60, 64, 67, 0.15);\n",
              "      fill: #174EA6;\n",
              "    }\n",
              "\n",
              "    [theme=dark] .colab-df-convert {\n",
              "      background-color: #3B4455;\n",
              "      fill: #D2E3FC;\n",
              "    }\n",
              "\n",
              "    [theme=dark] .colab-df-convert:hover {\n",
              "      background-color: #434B5C;\n",
              "      box-shadow: 0px 1px 3px 1px rgba(0, 0, 0, 0.15);\n",
              "      filter: drop-shadow(0px 1px 2px rgba(0, 0, 0, 0.3));\n",
              "      fill: #FFFFFF;\n",
              "    }\n",
              "  </style>\n",
              "\n",
              "      <script>\n",
              "        const buttonEl =\n",
              "          document.querySelector('#df-425e6499-0075-476e-b63a-bb8b852262c3 button.colab-df-convert');\n",
              "        buttonEl.style.display =\n",
              "          google.colab.kernel.accessAllowed ? 'block' : 'none';\n",
              "\n",
              "        async function convertToInteractive(key) {\n",
              "          const element = document.querySelector('#df-425e6499-0075-476e-b63a-bb8b852262c3');\n",
              "          const dataTable =\n",
              "            await google.colab.kernel.invokeFunction('convertToInteractive',\n",
              "                                                     [key], {});\n",
              "          if (!dataTable) return;\n",
              "\n",
              "          const docLinkHtml = 'Like what you see? Visit the ' +\n",
              "            '<a target=\"_blank\" href=https://colab.research.google.com/notebooks/data_table.ipynb>data table notebook</a>'\n",
              "            + ' to learn more about interactive tables.';\n",
              "          element.innerHTML = '';\n",
              "          dataTable['output_type'] = 'display_data';\n",
              "          await google.colab.output.renderOutput(dataTable, element);\n",
              "          const docLink = document.createElement('div');\n",
              "          docLink.innerHTML = docLinkHtml;\n",
              "          element.appendChild(docLink);\n",
              "        }\n",
              "      </script>\n",
              "    </div>\n",
              "  </div>\n",
              "  "
            ]
          },
          "metadata": {},
          "execution_count": 95
        }
      ]
    },
    {
      "cell_type": "markdown",
      "source": [
        "### z-score\n",
        "\n",
        "The new value is calculated as the difference between the current value and the average value, divided by the standard deviation. For example, we can calculate the z-score of the column deceduti. We can use the **zscore()** function of the **scipy.stats** library.\n"
      ],
      "metadata": {
        "id": "sdzttT4F1XoY"
      }
    },
    {
      "cell_type": "code",
      "source": [
        "from scipy.stats import zscore\n",
        "df['zscore-deceduti'] = zscore(df['deceduti'])\n",
        "df['zscore-deceduti']"
      ],
      "metadata": {
        "colab": {
          "base_uri": "https://localhost:8080/"
        },
        "id": "I0HKZR281QTZ",
        "outputId": "0d0ad770-2959-4b75-8f05-a6eb1a130f21"
      },
      "execution_count": null,
      "outputs": [
        {
          "output_type": "execute_result",
          "data": {
            "text/plain": [
              "0       -0.693070\n",
              "1       -0.693070\n",
              "2       -0.693070\n",
              "3       -0.693070\n",
              "4       -0.693070\n",
              "           ...   \n",
              "20281    0.999223\n",
              "20282    0.813145\n",
              "20283   -0.394626\n",
              "20284   -0.616588\n",
              "20285    1.464762\n",
              "Name: zscore-deceduti, Length: 20286, dtype: float64"
            ]
          },
          "metadata": {},
          "execution_count": 96
        }
      ]
    },
    {
      "cell_type": "markdown",
      "source": [
        "### z-map \n",
        "The new value is calculated as the difference between the current value and the average value of a comparison array, divided by the standard deviation of a comparison array. \n",
        "\n",
        "* For example, we can calculate the z-map of the column deceduti, using the column **terapia_intensiva** as comparison array. \n",
        "* We can use the **zmap()** function of the **scipy.stats** library.\n"
      ],
      "metadata": {
        "id": "Y0mGVezM1jvo"
      }
    },
    {
      "cell_type": "code",
      "source": [
        "from scipy.stats import zmap\n",
        "zmap(df['deceduti'], df['terapia_intensiva'])\n"
      ],
      "metadata": {
        "colab": {
          "base_uri": "https://localhost:8080/"
        },
        "id": "x6WqOF-H1xn_",
        "outputId": "87f38413-7a0a-4bec-d029-09d92a316308"
      },
      "execution_count": null,
      "outputs": [
        {
          "output_type": "execute_result",
          "data": {
            "text/plain": [
              "0         -0.498440\n",
              "1         -0.498440\n",
              "2         -0.498440\n",
              "3         -0.498440\n",
              "4         -0.498440\n",
              "            ...    \n",
              "20281    116.390182\n",
              "20282    103.537601\n",
              "20283     20.115453\n",
              "20284      4.784229\n",
              "20285    148.545558\n",
              "Name: deceduti, Length: 20286, dtype: float64"
            ]
          },
          "metadata": {},
          "execution_count": 97
        }
      ]
    },
    {
      "cell_type": "markdown",
      "source": [
        "### Detect outliers\n",
        "\n",
        "Standardization can be used to detect and delete outliers. \n",
        "* For example, a threshold can be defined to specify which values can be considered as outliers.\n",
        "* In this example, we set **threshold = 2.** We can add a new column to the dataframe, called outliers which is set to True if the value is less than -2 or greater than 2. \n",
        "* We use the numpy function **where()** to perform comparisons.\n"
      ],
      "metadata": {
        "id": "rIraZzXP15IH"
      }
    },
    {
      "cell_type": "code",
      "source": [
        "threshold = 2\n",
        "df['outliers'] = np.where((df['zscore-deceduti'] - threshold > 0), True, np.where(df['zscore-deceduti'] + threshold < 0, True, False))\n",
        "df['outliers']"
      ],
      "metadata": {
        "colab": {
          "base_uri": "https://localhost:8080/"
        },
        "id": "rdSGIkPh2EeA",
        "outputId": "9def8014-7df0-4169-9a70-b392897b212c"
      },
      "execution_count": null,
      "outputs": [
        {
          "output_type": "execute_result",
          "data": {
            "text/plain": [
              "0        False\n",
              "1        False\n",
              "2        False\n",
              "3        False\n",
              "4        False\n",
              "         ...  \n",
              "20281    False\n",
              "20282    False\n",
              "20283    False\n",
              "20284    False\n",
              "20285    False\n",
              "Name: outliers, Length: 20286, dtype: bool"
            ]
          },
          "metadata": {},
          "execution_count": 98
        }
      ]
    },
    {
      "cell_type": "code",
      "source": [
        "df.drop(df[df['outliers'] == True].index, inplace=True)\n",
        "df['zscore-deceduti']"
      ],
      "metadata": {
        "colab": {
          "base_uri": "https://localhost:8080/"
        },
        "id": "mmm_tKq52Q4H",
        "outputId": "76809b85-7abb-45ad-c798-35d08d793a4b"
      },
      "execution_count": null,
      "outputs": [
        {
          "output_type": "execute_result",
          "data": {
            "text/plain": [
              "0       -0.693070\n",
              "1       -0.693070\n",
              "2       -0.693070\n",
              "3       -0.693070\n",
              "4       -0.693070\n",
              "           ...   \n",
              "20281    0.999223\n",
              "20282    0.813145\n",
              "20283   -0.394626\n",
              "20284   -0.616588\n",
              "20285    1.464762\n",
              "Name: zscore-deceduti, Length: 19586, dtype: float64"
            ]
          },
          "metadata": {},
          "execution_count": 101
        }
      ]
    },
    {
      "cell_type": "markdown",
      "source": [
        "## 6.Data Binning\n",
        "\n",
        "Data binning (or bucketing) groups data in bins (or buckets), in the sense that it replaces values contained into a small interval with a single representative value for that interval. Sometimes binning improves accuracy in predictive models.\n",
        "\n",
        "Binning can be applied to convert numeric values to categorical or to sample (quantise) numeric values.\n",
        "\n",
        "* Convert numeric to categorical includes binning by distance and binning by frequency\n",
        "* Reduce numeric values includes quantisation (or sampling).\n",
        "\n",
        "Binning is a technique for data smoothing. Data smoothing is employed to remove noise from data. Three techniques for data smoothing:\n",
        "\n",
        "\n",
        "* binning\n",
        "* regression\n",
        "* outlier analysis.\n",
        "\n",
        "Data binning is very useful when discretization is needed.\n"
      ],
      "metadata": {
        "id": "VrjRnaQpLFMP"
      }
    },
    {
      "cell_type": "code",
      "source": [
        "import pandas as pd\n",
        "df = pd.read_csv('https://raw.githubusercontent.com/thieu1995/csv-files/main/data/pandas/cupcake_duplicates.csv')\n",
        "df.head()"
      ],
      "metadata": {
        "colab": {
          "base_uri": "https://localhost:8080/",
          "height": 206
        },
        "id": "juoSz6rBLEvV",
        "outputId": "ed00c991-3500-4931-bd63-6cc3c74df244"
      },
      "execution_count": null,
      "outputs": [
        {
          "output_type": "execute_result",
          "data": {
            "text/plain": [
              "      Mese  Cupcake\n",
              "0  2004-01        5\n",
              "1  2004-01        5\n",
              "2  2004-01        5\n",
              "3  2004-02        5\n",
              "4  2004-03        4"
            ],
            "text/html": [
              "\n",
              "  <div id=\"df-84dfce56-c70e-468d-a374-00bb6b053bee\">\n",
              "    <div class=\"colab-df-container\">\n",
              "      <div>\n",
              "<style scoped>\n",
              "    .dataframe tbody tr th:only-of-type {\n",
              "        vertical-align: middle;\n",
              "    }\n",
              "\n",
              "    .dataframe tbody tr th {\n",
              "        vertical-align: top;\n",
              "    }\n",
              "\n",
              "    .dataframe thead th {\n",
              "        text-align: right;\n",
              "    }\n",
              "</style>\n",
              "<table border=\"1\" class=\"dataframe\">\n",
              "  <thead>\n",
              "    <tr style=\"text-align: right;\">\n",
              "      <th></th>\n",
              "      <th>Mese</th>\n",
              "      <th>Cupcake</th>\n",
              "    </tr>\n",
              "  </thead>\n",
              "  <tbody>\n",
              "    <tr>\n",
              "      <th>0</th>\n",
              "      <td>2004-01</td>\n",
              "      <td>5</td>\n",
              "    </tr>\n",
              "    <tr>\n",
              "      <th>1</th>\n",
              "      <td>2004-01</td>\n",
              "      <td>5</td>\n",
              "    </tr>\n",
              "    <tr>\n",
              "      <th>2</th>\n",
              "      <td>2004-01</td>\n",
              "      <td>5</td>\n",
              "    </tr>\n",
              "    <tr>\n",
              "      <th>3</th>\n",
              "      <td>2004-02</td>\n",
              "      <td>5</td>\n",
              "    </tr>\n",
              "    <tr>\n",
              "      <th>4</th>\n",
              "      <td>2004-03</td>\n",
              "      <td>4</td>\n",
              "    </tr>\n",
              "  </tbody>\n",
              "</table>\n",
              "</div>\n",
              "      <button class=\"colab-df-convert\" onclick=\"convertToInteractive('df-84dfce56-c70e-468d-a374-00bb6b053bee')\"\n",
              "              title=\"Convert this dataframe to an interactive table.\"\n",
              "              style=\"display:none;\">\n",
              "        \n",
              "  <svg xmlns=\"http://www.w3.org/2000/svg\" height=\"24px\"viewBox=\"0 0 24 24\"\n",
              "       width=\"24px\">\n",
              "    <path d=\"M0 0h24v24H0V0z\" fill=\"none\"/>\n",
              "    <path d=\"M18.56 5.44l.94 2.06.94-2.06 2.06-.94-2.06-.94-.94-2.06-.94 2.06-2.06.94zm-11 1L8.5 8.5l.94-2.06 2.06-.94-2.06-.94L8.5 2.5l-.94 2.06-2.06.94zm10 10l.94 2.06.94-2.06 2.06-.94-2.06-.94-.94-2.06-.94 2.06-2.06.94z\"/><path d=\"M17.41 7.96l-1.37-1.37c-.4-.4-.92-.59-1.43-.59-.52 0-1.04.2-1.43.59L10.3 9.45l-7.72 7.72c-.78.78-.78 2.05 0 2.83L4 21.41c.39.39.9.59 1.41.59.51 0 1.02-.2 1.41-.59l7.78-7.78 2.81-2.81c.8-.78.8-2.07 0-2.86zM5.41 20L4 18.59l7.72-7.72 1.47 1.35L5.41 20z\"/>\n",
              "  </svg>\n",
              "      </button>\n",
              "      \n",
              "  <style>\n",
              "    .colab-df-container {\n",
              "      display:flex;\n",
              "      flex-wrap:wrap;\n",
              "      gap: 12px;\n",
              "    }\n",
              "\n",
              "    .colab-df-convert {\n",
              "      background-color: #E8F0FE;\n",
              "      border: none;\n",
              "      border-radius: 50%;\n",
              "      cursor: pointer;\n",
              "      display: none;\n",
              "      fill: #1967D2;\n",
              "      height: 32px;\n",
              "      padding: 0 0 0 0;\n",
              "      width: 32px;\n",
              "    }\n",
              "\n",
              "    .colab-df-convert:hover {\n",
              "      background-color: #E2EBFA;\n",
              "      box-shadow: 0px 1px 2px rgba(60, 64, 67, 0.3), 0px 1px 3px 1px rgba(60, 64, 67, 0.15);\n",
              "      fill: #174EA6;\n",
              "    }\n",
              "\n",
              "    [theme=dark] .colab-df-convert {\n",
              "      background-color: #3B4455;\n",
              "      fill: #D2E3FC;\n",
              "    }\n",
              "\n",
              "    [theme=dark] .colab-df-convert:hover {\n",
              "      background-color: #434B5C;\n",
              "      box-shadow: 0px 1px 3px 1px rgba(0, 0, 0, 0.15);\n",
              "      filter: drop-shadow(0px 1px 2px rgba(0, 0, 0, 0.3));\n",
              "      fill: #FFFFFF;\n",
              "    }\n",
              "  </style>\n",
              "\n",
              "      <script>\n",
              "        const buttonEl =\n",
              "          document.querySelector('#df-84dfce56-c70e-468d-a374-00bb6b053bee button.colab-df-convert');\n",
              "        buttonEl.style.display =\n",
              "          google.colab.kernel.accessAllowed ? 'block' : 'none';\n",
              "\n",
              "        async function convertToInteractive(key) {\n",
              "          const element = document.querySelector('#df-84dfce56-c70e-468d-a374-00bb6b053bee');\n",
              "          const dataTable =\n",
              "            await google.colab.kernel.invokeFunction('convertToInteractive',\n",
              "                                                     [key], {});\n",
              "          if (!dataTable) return;\n",
              "\n",
              "          const docLinkHtml = 'Like what you see? Visit the ' +\n",
              "            '<a target=\"_blank\" href=https://colab.research.google.com/notebooks/data_table.ipynb>data table notebook</a>'\n",
              "            + ' to learn more about interactive tables.';\n",
              "          element.innerHTML = '';\n",
              "          dataTable['output_type'] = 'display_data';\n",
              "          await google.colab.output.renderOutput(dataTable, element);\n",
              "          const docLink = document.createElement('div');\n",
              "          docLink.innerHTML = docLinkHtml;\n",
              "          element.appendChild(docLink);\n",
              "        }\n",
              "      </script>\n",
              "    </div>\n",
              "  </div>\n",
              "  "
            ]
          },
          "metadata": {},
          "execution_count": 1
        }
      ]
    },
    {
      "cell_type": "markdown",
      "source": [
        "### Binning by distance\n",
        "\n",
        "In this case we define the edges of each bin. Pandas binning by distance is achieved by **thecut()** function.\n",
        "\n",
        "We group values related to the column **Cupcake** into three groups: **small**, **medium** and **big**. \n",
        "\n",
        "* In order to do it, we need to calculate the intervals within each group falls. We calculate the interval range as the difference between the maximum and minimum value and then we split this interval into three parts, one for each group. \n",
        "\n",
        "* We exploit the functions min() and max() of dataframe to calculate the minimum value and the maximum value of the column Cupcake.\n"
      ],
      "metadata": {
        "id": "UuEjOokkLrJI"
      }
    },
    {
      "cell_type": "code",
      "source": [
        "min_value = df['Cupcake'].min()\n",
        "max_value = df['Cupcake'].max()\n",
        "print(min_value)\n",
        "print(max_value)"
      ],
      "metadata": {
        "colab": {
          "base_uri": "https://localhost:8080/"
        },
        "id": "qlCHtEjRLEx2",
        "outputId": "d399baed-3621-4625-907e-a11639ca0477"
      },
      "execution_count": null,
      "outputs": [
        {
          "output_type": "stream",
          "name": "stdout",
          "text": [
            "4\n",
            "100\n"
          ]
        }
      ]
    },
    {
      "cell_type": "markdown",
      "source": [
        "Now we can calculate the range of each interval, i.e. the minimum and maximum value of each interval. \n",
        "\n",
        "Since we have 3 groups, we need 4 edges of intervals (bins):\n",
        "\n",
        "* small — (edge1, edge2)\n",
        "* medium — (edge2, edge3)\n",
        "* big — (edge3, edge4)\n",
        "\n",
        "We can use the **linspace()** function of the numpy package to calculate the 4 bins, equally distributed."
      ],
      "metadata": {
        "id": "ViLPsNo-MGs1"
      }
    },
    {
      "cell_type": "code",
      "source": [
        "import numpy as np\n",
        "bins = np.linspace(min_value, max_value, 4)\n",
        "bins"
      ],
      "metadata": {
        "colab": {
          "base_uri": "https://localhost:8080/"
        },
        "id": "THr1CnY6LE0U",
        "outputId": "eaf1f581-66d1-406a-b984-ac28baafcb7b"
      },
      "execution_count": null,
      "outputs": [
        {
          "output_type": "execute_result",
          "data": {
            "text/plain": [
              "array([  4.,  36.,  68., 100.])"
            ]
          },
          "metadata": {},
          "execution_count": 3
        }
      ]
    },
    {
      "cell_type": "code",
      "source": [
        "labels = ['small', 'medium', 'big']"
      ],
      "metadata": {
        "id": "G0jXcGa2LE2o"
      },
      "execution_count": null,
      "outputs": []
    },
    {
      "cell_type": "markdown",
      "source": [
        "We can use the **cut()** function to convert the numeric values of the column **Cupcake** into the categorical values. \n",
        "\n",
        "We need to specify the **bins** and the **labels**. In addition, we set the parameter **include_lowest** to **True** in order to include also the minimum value."
      ],
      "metadata": {
        "id": "KDBZR_MHMZC5"
      }
    },
    {
      "cell_type": "code",
      "source": [
        "df['bins'] = pd.cut(df['Cupcake'], bins=bins, labels=labels, include_lowest=True)\n",
        "df['bins']"
      ],
      "metadata": {
        "colab": {
          "base_uri": "https://localhost:8080/"
        },
        "id": "fPZJ0U4iMfAC",
        "outputId": "57f2ac51-dd29-41a1-ec66-b5bfddaa655e"
      },
      "execution_count": null,
      "outputs": [
        {
          "output_type": "execute_result",
          "data": {
            "text/plain": [
              "0       small\n",
              "1       small\n",
              "2       small\n",
              "3       small\n",
              "4       small\n",
              "        ...  \n",
              "205    medium\n",
              "206    medium\n",
              "207    medium\n",
              "208    medium\n",
              "209    medium\n",
              "Name: bins, Length: 210, dtype: category\n",
              "Categories (3, object): ['small' < 'medium' < 'big']"
            ]
          },
          "metadata": {},
          "execution_count": 5
        }
      ]
    },
    {
      "cell_type": "code",
      "source": [
        "import matplotlib.pyplot as plt\n",
        "plt.hist(df['bins'], bins=3)"
      ],
      "metadata": {
        "colab": {
          "base_uri": "https://localhost:8080/",
          "height": 317
        },
        "id": "vU3oezT0MrY5",
        "outputId": "714ad4b4-0c2f-4e4f-cc60-16e14f6b0f10"
      },
      "execution_count": null,
      "outputs": [
        {
          "output_type": "execute_result",
          "data": {
            "text/plain": [
              "(array([74., 74., 62.]),\n",
              " array([0.        , 0.66666667, 1.33333333, 2.        ]),\n",
              " <a list of 3 Patch objects>)"
            ]
          },
          "metadata": {},
          "execution_count": 6
        },
        {
          "output_type": "display_data",
          "data": {
            "text/plain": [
              "<Figure size 432x288 with 1 Axes>"
            ],
            "image/png": "[encoded data removed]"
          },
          "metadata": {
            "needs_background": "light"
          }
        }
      ]
    },
    {
      "cell_type": "markdown",
      "source": [
        "**Alternatively, we can set the edges of each bin manually.**"
      ],
      "metadata": {
        "id": "B1YPDwWpMz2r"
      }
    },
    {
      "cell_type": "code",
      "source": [
        "bins = [ 0, 10, 50, 100 ]\n",
        "df['bin_cut_manual'] = pd.cut(df['Cupcake'] , bins=bins, labels=labels, include_lowest=True)\n",
        "plt.hist(df['bin_cut_manual'], bins=3)\n",
        "plt.show()"
      ],
      "metadata": {
        "colab": {
          "base_uri": "https://localhost:8080/",
          "height": 265
        },
        "id": "qXP2aXeLM2EI",
        "outputId": "8b5bc8cf-1946-4974-d1f0-b5609555d9ce"
      },
      "execution_count": null,
      "outputs": [
        {
          "output_type": "display_data",
          "data": {
            "text/plain": [
              "<Figure size 432x288 with 1 Axes>"
            ],
            "image/png": "[encoded data removed]"
          },
          "metadata": {
            "needs_background": "light"
          }
        }
      ]
    },
    {
      "cell_type": "markdown",
      "source": [
        "### Binning by frequency\n",
        "\n",
        "Binning by frequency calculates the size of each bin so that each bin contains the (almost) same number of observations, but the bin range will vary. \n",
        "\n",
        "We can use the Python pandas **qcut()** function. We can set the **precision** parameter to define the number of decimal points.\n"
      ],
      "metadata": {
        "id": "qlXZM306M7If"
      }
    },
    {
      "cell_type": "code",
      "source": [
        "df['bin_qcut'] = pd.qcut(df['Cupcake'], q=3, precision=1, labels=labels)\n",
        "print(df['bin_qcut'].head(10))\n",
        "print(df['bin_qcut'].unique())\n",
        "print(\"\\n\")\n",
        "print(df['bin_qcut'].value_counts())"
      ],
      "metadata": {
        "colab": {
          "base_uri": "https://localhost:8080/"
        },
        "id": "bM-RUpj5NDat",
        "outputId": "aaeced80-c6af-4f79-9e36-430cff5c642d"
      },
      "execution_count": null,
      "outputs": [
        {
          "output_type": "stream",
          "name": "stdout",
          "text": [
            "0    small\n",
            "1    small\n",
            "2    small\n",
            "3    small\n",
            "4    small\n",
            "5    small\n",
            "6    small\n",
            "7    small\n",
            "8    small\n",
            "9    small\n",
            "Name: bin_qcut, dtype: category\n",
            "Categories (3, object): ['small' < 'medium' < 'big']\n",
            "['small', 'medium', 'big']\n",
            "Categories (3, object): ['small' < 'medium' < 'big']\n",
            "\n",
            "\n",
            "small     74\n",
            "big       70\n",
            "medium    66\n",
            "Name: bin_qcut, dtype: int64\n"
          ]
        }
      ]
    },
    {
      "cell_type": "markdown",
      "source": [
        "### Sampling\n",
        "\n",
        "It permits to reduce the number of samples, by grouping similar values or contiguous values. There are three approaches to perform sampling:\n",
        "\n",
        "* by bin means: each value in a bin is replaced by the mean value of the bin.\n",
        "* by bin median: each bin value is replaced by its bin median value.\n",
        "* by bin boundary: each bin value is replaced by the closest boundary value, i.e. maximum or minimum value of the bin.\n",
        "\n"
      ],
      "metadata": {
        "id": "9z3daf1vNqn7"
      }
    },
    {
      "cell_type": "markdown",
      "source": [
        "In order to perform sampling, the **binned_statistic()** function of the **scipy.stats** package can be used. \n",
        "\n",
        "* This function receives two arrays as input, **x_data** and **y_data**, as well as the **statistics** to be used (e.g. median or mean) and the **number of bins** to be created. \n",
        "\n",
        "* The function returns the v**alues of the bins** as well as **the edges of each bin.**"
      ],
      "metadata": {
        "id": "FLvU-bP4N5FL"
      }
    },
    {
      "cell_type": "code",
      "source": [
        "from scipy.stats import binned_statistic\n",
        "\n",
        "x_data = np.arange(0, len(df))\n",
        "y_data = df['Cupcake']\n",
        "x_bins, bin_edges, misc = binned_statistic(y_data, x_data, statistic=\"median\", bins=2)\n"
      ],
      "metadata": {
        "id": "239D_qmyNDfi"
      },
      "execution_count": null,
      "outputs": []
    },
    {
      "cell_type": "code",
      "source": [
        "x_bins"
      ],
      "metadata": {
        "colab": {
          "base_uri": "https://localhost:8080/"
        },
        "id": "eyQBxPFwNDko",
        "outputId": "c3293fe9-b2fe-47cb-bb01-80b2b8334667"
      },
      "execution_count": null,
      "outputs": [
        {
          "output_type": "execute_result",
          "data": {
            "text/plain": [
              "array([ 56., 132.])"
            ]
          },
          "metadata": {},
          "execution_count": 15
        }
      ]
    },
    {
      "cell_type": "code",
      "source": [
        "bin_edges"
      ],
      "metadata": {
        "colab": {
          "base_uri": "https://localhost:8080/"
        },
        "id": "HNFDKN88OajR",
        "outputId": "b1332efd-9411-45b9-de99-b9f83eaaed40"
      },
      "execution_count": null,
      "outputs": [
        {
          "output_type": "execute_result",
          "data": {
            "text/plain": [
              "array([  4.,  52., 100.])"
            ]
          },
          "metadata": {},
          "execution_count": 16
        }
      ]
    },
    {
      "cell_type": "code",
      "source": [
        "misc"
      ],
      "metadata": {
        "colab": {
          "base_uri": "https://localhost:8080/"
        },
        "id": "j9MkpyiaOapc",
        "outputId": "4b1ec844-8d99-4cb9-cfda-f084db18cb4b"
      },
      "execution_count": null,
      "outputs": [
        {
          "output_type": "execute_result",
          "data": {
            "text/plain": [
              "array([1, 1, 1, 1, 1, 1, 1, 1, 1, 1, 1, 1, 1, 1, 1, 1, 1, 1, 1, 1, 1, 1,\n",
              "       1, 1, 1, 1, 1, 1, 1, 1, 1, 1, 1, 1, 1, 1, 1, 1, 1, 1, 1, 1, 1, 1,\n",
              "       1, 1, 1, 1, 1, 1, 1, 1, 1, 1, 1, 1, 1, 1, 1, 1, 1, 1, 1, 1, 1, 1,\n",
              "       1, 1, 1, 1, 1, 1, 1, 1, 1, 1, 1, 1, 1, 1, 1, 1, 1, 1, 2, 2, 2, 2,\n",
              "       2, 2, 2, 2, 2, 2, 2, 2, 2, 2, 2, 2, 2, 2, 2, 2, 2, 2, 2, 2, 2, 2,\n",
              "       2, 2, 2, 2, 2, 2, 2, 2, 2, 2, 2, 2, 2, 2, 2, 2, 2, 2, 2, 2, 2, 2,\n",
              "       2, 2, 2, 2, 2, 2, 2, 2, 2, 2, 2, 2, 2, 2, 2, 2, 2, 2, 2, 2, 2, 2,\n",
              "       2, 2, 2, 2, 2, 2, 2, 2, 2, 2, 2, 2, 2, 2, 2, 2, 2, 2, 2, 1, 1, 2,\n",
              "       2, 1, 1, 1, 1, 1, 1, 2, 1, 1, 1, 2, 1, 1, 1, 1, 1, 1, 1, 2, 1, 1,\n",
              "       1, 1, 1, 2, 2, 2, 1, 1, 1, 1, 1, 1])"
            ]
          },
          "metadata": {},
          "execution_count": 17
        }
      ]
    },
    {
      "cell_type": "markdown",
      "source": [
        "Now we should approximate each value of the **df['Cupcake']** column to the median value of the corresponding bin. \n",
        "\n",
        "* Thus we convert the **bin edges** to an **IntervalIndex**, which receives as index the left and right edges of each interval. \n",
        "\n",
        "* In our case, the left edges starts from the beginning of the bin edges and do not contain the last value of the bin edges. \n",
        "\n",
        "* The right edges instead, start from the second value of the bin edges and last until the last value."
      ],
      "metadata": {
        "id": "8qIwA-UZOp7V"
      }
    },
    {
      "cell_type": "code",
      "source": [
        "bin_intervals = pd.IntervalIndex.from_arrays(bin_edges[:-1], bin_edges[1:])\n",
        "bin_intervals"
      ],
      "metadata": {
        "colab": {
          "base_uri": "https://localhost:8080/"
        },
        "id": "vLqHGTeLO7EY",
        "outputId": "9031da38-ff20-48ab-d5f2-61a096ee11a8"
      },
      "execution_count": null,
      "outputs": [
        {
          "output_type": "execute_result",
          "data": {
            "text/plain": [
              "IntervalIndex([(4.0, 52.0], (52.0, 100.0]], dtype='interval[float64, right]')"
            ]
          },
          "metadata": {},
          "execution_count": 19
        }
      ]
    },
    {
      "cell_type": "markdown",
      "source": [
        "We can **quantise** the **Cupcake** column by defining a **set_to_median()** function which loops through the intervals and when it finds the correct interval, it returns the mid value."
      ],
      "metadata": {
        "id": "av3YgQzjPI4g"
      }
    },
    {
      "cell_type": "code",
      "source": [
        "def set_to_median(x, bin_intervals):\n",
        "    for interval in bin_intervals:\n",
        "        if x in interval:\n",
        "            return interval.mid"
      ],
      "metadata": {
        "id": "ZgMyaGOwPNFV"
      },
      "execution_count": null,
      "outputs": []
    },
    {
      "cell_type": "markdown",
      "source": [
        "* We use the **apply()** function to apply the **set_to_median()** to the **Cupcake** column."
      ],
      "metadata": {
        "id": "Dc-aEiDgPTH5"
      }
    },
    {
      "cell_type": "code",
      "source": [
        "df['sampled_cupcake'] = df['Cupcake'].apply(lambda x: set_to_median(x, bin_intervals))\n",
        "df['sampled_cupcake']"
      ],
      "metadata": {
        "colab": {
          "base_uri": "https://localhost:8080/"
        },
        "id": "DlZIqzn3PWCp",
        "outputId": "8431cc83-be2a-46c3-bae7-a41f19467f88"
      },
      "execution_count": null,
      "outputs": [
        {
          "output_type": "execute_result",
          "data": {
            "text/plain": [
              "0      28.0\n",
              "1      28.0\n",
              "2      28.0\n",
              "3      28.0\n",
              "4       NaN\n",
              "       ... \n",
              "205    28.0\n",
              "206    28.0\n",
              "207    28.0\n",
              "208    28.0\n",
              "209    28.0\n",
              "Name: sampled_cupcake, Length: 210, dtype: float64"
            ]
          },
          "metadata": {},
          "execution_count": 21
        }
      ]
    },
    {
      "cell_type": "code",
      "source": [
        "plt.plot(df['Cupcake'], label='original')\n",
        "plt.plot(df['sampled_cupcake'], color='red', label='sampled')\n",
        "plt.legend()\n",
        "plt.show()"
      ],
      "metadata": {
        "colab": {
          "base_uri": "https://localhost:8080/",
          "height": 265
        },
        "id": "x0mvvkrQO7Ob",
        "outputId": "27a071a5-3bed-4d7d-fb37-936540c904ac"
      },
      "execution_count": null,
      "outputs": [
        {
          "output_type": "display_data",
          "data": {
            "text/plain": [
              "<Figure size 432x288 with 1 Axes>"
            ],
            "image/png": "[encoded data removed]"
          },
          "metadata": {
            "needs_background": "light"
          }
        }
      ]
    },
    {
      "cell_type": "markdown",
      "source": [
        "**We see that there is the loss of information.**"
      ],
      "metadata": {
        "id": "IRIPmJARPqQU"
      }
    },
    {
      "cell_type": "markdown",
      "source": [
        "Now, we can plot the **median** values. We can calculate the y values (**y_bins**) corresponding to the binned values (**x_bins**) as the values at the center of the bin range."
      ],
      "metadata": {
        "id": "ZJy_8Y1kPvwM"
      }
    },
    {
      "cell_type": "code",
      "source": [
        "y_bins = (bin_edges[:-1]+ bin_edges[1:]) / 2\n",
        "y_bins"
      ],
      "metadata": {
        "colab": {
          "base_uri": "https://localhost:8080/"
        },
        "id": "h-nsQlczP1a0",
        "outputId": "5f45e004-ed15-484c-ebd1-d116e64f7e38"
      },
      "execution_count": null,
      "outputs": [
        {
          "output_type": "execute_result",
          "data": {
            "text/plain": [
              "array([28., 76.])"
            ]
          },
          "metadata": {},
          "execution_count": 23
        }
      ]
    },
    {
      "cell_type": "code",
      "source": [
        "plt.plot(x_data,y_data)\n",
        "plt.xlabel(\"X\"); \n",
        "plt.ylabel(\"Y\")\n",
        "plt.scatter(x_bins, y_bins,  color= 'red', linewidth=5)\n",
        "plt.show()"
      ],
      "metadata": {
        "colab": {
          "base_uri": "https://localhost:8080/",
          "height": 279
        },
        "id": "w30LG0GJP6ms",
        "outputId": "ea3bf615-8373-4a12-a8c7-8b530c4a5437"
      },
      "execution_count": null,
      "outputs": [
        {
          "output_type": "display_data",
          "data": {
            "text/plain": [
              "<Figure size 432x288 with 1 Axes>"
            ],
            "image/png": "[encoded data removed]"
          },
          "metadata": {
            "needs_background": "light"
          }
        }
      ]
    },
    {
      "cell_type": "markdown",
      "source": [
        "## 7.Load huge CSV data\n",
        "\n",
        "It may happen that you have a huge CSV dataset which occupies 4 or 5 GBytes (or even more) in your hard disk and you want to process it with Python pandas. \n",
        "\n",
        "Maybe you don't need all the data contained in the dataset, but only some records satisfying some criteria. We can apply four strategies:\n",
        "\n",
        "* vertical filter\n",
        "* horizontal filter\n",
        "* memory\n",
        "* bursts\n"
      ],
      "metadata": {
        "id": "AplaEbFjSgqJ"
      }
    },
    {
      "cell_type": "markdown",
      "source": [
        "### Vertical Filter\n",
        "\n",
        "In this case we load only some columns of the whole dataset. We can use the parameter usecols of the read_csv() function to select only some columns."
      ],
      "metadata": {
        "id": "Aw169l_jSyTq"
      }
    },
    {
      "cell_type": "code",
      "source": [
        "import pandas as pd\n",
        "df = pd.read_csv('https://raw.githubusercontent.com/thieu1995/csv-files/main/data/pandas/hepatitis.csv', usecols=['age','sex'])\n",
        "df.head()"
      ],
      "metadata": {
        "colab": {
          "base_uri": "https://localhost:8080/",
          "height": 206
        },
        "id": "KZ0eBhXNe_bi",
        "outputId": "1f3bf103-03a0-4171-f903-eef5fdda918c"
      },
      "execution_count": null,
      "outputs": [
        {
          "output_type": "execute_result",
          "data": {
            "text/plain": [
              "   age     sex\n",
              "0   30    male\n",
              "1   50  female\n",
              "2   78  female\n",
              "3   31  female\n",
              "4   34  female"
            ],
            "text/html": [
              "\n",
              "  <div id=\"df-31957379-11e0-4ecc-a192-641560c9d2cf\">\n",
              "    <div class=\"colab-df-container\">\n",
              "      <div>\n",
              "<style scoped>\n",
              "    .dataframe tbody tr th:only-of-type {\n",
              "        vertical-align: middle;\n",
              "    }\n",
              "\n",
              "    .dataframe tbody tr th {\n",
              "        vertical-align: top;\n",
              "    }\n",
              "\n",
              "    .dataframe thead th {\n",
              "        text-align: right;\n",
              "    }\n",
              "</style>\n",
              "<table border=\"1\" class=\"dataframe\">\n",
              "  <thead>\n",
              "    <tr style=\"text-align: right;\">\n",
              "      <th></th>\n",
              "      <th>age</th>\n",
              "      <th>sex</th>\n",
              "    </tr>\n",
              "  </thead>\n",
              "  <tbody>\n",
              "    <tr>\n",
              "      <th>0</th>\n",
              "      <td>30</td>\n",
              "      <td>male</td>\n",
              "    </tr>\n",
              "    <tr>\n",
              "      <th>1</th>\n",
              "      <td>50</td>\n",
              "      <td>female</td>\n",
              "    </tr>\n",
              "    <tr>\n",
              "      <th>2</th>\n",
              "      <td>78</td>\n",
              "      <td>female</td>\n",
              "    </tr>\n",
              "    <tr>\n",
              "      <th>3</th>\n",
              "      <td>31</td>\n",
              "      <td>female</td>\n",
              "    </tr>\n",
              "    <tr>\n",
              "      <th>4</th>\n",
              "      <td>34</td>\n",
              "      <td>female</td>\n",
              "    </tr>\n",
              "  </tbody>\n",
              "</table>\n",
              "</div>\n",
              "      <button class=\"colab-df-convert\" onclick=\"convertToInteractive('df-31957379-11e0-4ecc-a192-641560c9d2cf')\"\n",
              "              title=\"Convert this dataframe to an interactive table.\"\n",
              "              style=\"display:none;\">\n",
              "        \n",
              "  <svg xmlns=\"http://www.w3.org/2000/svg\" height=\"24px\"viewBox=\"0 0 24 24\"\n",
              "       width=\"24px\">\n",
              "    <path d=\"M0 0h24v24H0V0z\" fill=\"none\"/>\n",
              "    <path d=\"M18.56 5.44l.94 2.06.94-2.06 2.06-.94-2.06-.94-.94-2.06-.94 2.06-2.06.94zm-11 1L8.5 8.5l.94-2.06 2.06-.94-2.06-.94L8.5 2.5l-.94 2.06-2.06.94zm10 10l.94 2.06.94-2.06 2.06-.94-2.06-.94-.94-2.06-.94 2.06-2.06.94z\"/><path d=\"M17.41 7.96l-1.37-1.37c-.4-.4-.92-.59-1.43-.59-.52 0-1.04.2-1.43.59L10.3 9.45l-7.72 7.72c-.78.78-.78 2.05 0 2.83L4 21.41c.39.39.9.59 1.41.59.51 0 1.02-.2 1.41-.59l7.78-7.78 2.81-2.81c.8-.78.8-2.07 0-2.86zM5.41 20L4 18.59l7.72-7.72 1.47 1.35L5.41 20z\"/>\n",
              "  </svg>\n",
              "      </button>\n",
              "      \n",
              "  <style>\n",
              "    .colab-df-container {\n",
              "      display:flex;\n",
              "      flex-wrap:wrap;\n",
              "      gap: 12px;\n",
              "    }\n",
              "\n",
              "    .colab-df-convert {\n",
              "      background-color: #E8F0FE;\n",
              "      border: none;\n",
              "      border-radius: 50%;\n",
              "      cursor: pointer;\n",
              "      display: none;\n",
              "      fill: #1967D2;\n",
              "      height: 32px;\n",
              "      padding: 0 0 0 0;\n",
              "      width: 32px;\n",
              "    }\n",
              "\n",
              "    .colab-df-convert:hover {\n",
              "      background-color: #E2EBFA;\n",
              "      box-shadow: 0px 1px 2px rgba(60, 64, 67, 0.3), 0px 1px 3px 1px rgba(60, 64, 67, 0.15);\n",
              "      fill: #174EA6;\n",
              "    }\n",
              "\n",
              "    [theme=dark] .colab-df-convert {\n",
              "      background-color: #3B4455;\n",
              "      fill: #D2E3FC;\n",
              "    }\n",
              "\n",
              "    [theme=dark] .colab-df-convert:hover {\n",
              "      background-color: #434B5C;\n",
              "      box-shadow: 0px 1px 3px 1px rgba(0, 0, 0, 0.15);\n",
              "      filter: drop-shadow(0px 1px 2px rgba(0, 0, 0, 0.3));\n",
              "      fill: #FFFFFF;\n",
              "    }\n",
              "  </style>\n",
              "\n",
              "      <script>\n",
              "        const buttonEl =\n",
              "          document.querySelector('#df-31957379-11e0-4ecc-a192-641560c9d2cf button.colab-df-convert');\n",
              "        buttonEl.style.display =\n",
              "          google.colab.kernel.accessAllowed ? 'block' : 'none';\n",
              "\n",
              "        async function convertToInteractive(key) {\n",
              "          const element = document.querySelector('#df-31957379-11e0-4ecc-a192-641560c9d2cf');\n",
              "          const dataTable =\n",
              "            await google.colab.kernel.invokeFunction('convertToInteractive',\n",
              "                                                     [key], {});\n",
              "          if (!dataTable) return;\n",
              "\n",
              "          const docLinkHtml = 'Like what you see? Visit the ' +\n",
              "            '<a target=\"_blank\" href=https://colab.research.google.com/notebooks/data_table.ipynb>data table notebook</a>'\n",
              "            + ' to learn more about interactive tables.';\n",
              "          element.innerHTML = '';\n",
              "          dataTable['output_type'] = 'display_data';\n",
              "          await google.colab.output.renderOutput(dataTable, element);\n",
              "          const docLink = document.createElement('div');\n",
              "          docLink.innerHTML = docLinkHtml;\n",
              "          element.appendChild(docLink);\n",
              "        }\n",
              "      </script>\n",
              "    </div>\n",
              "  </div>\n",
              "  "
            ]
          },
          "metadata": {},
          "execution_count": 27
        }
      ]
    },
    {
      "cell_type": "markdown",
      "source": [
        "### Horizontal Filter\n",
        "\n",
        "In this case we load only some rows of the dataset. We can choose the starting row and how many rows we must load. Keep in mind that if we skip the first row, we must pass the names of the columns as further parameter."
      ],
      "metadata": {
        "id": "XlG7TiCbe-0z"
      }
    },
    {
      "cell_type": "code",
      "source": [
        "srow = 5\n",
        "nrows = 50\n",
        "columns = ['age','sex','steroid','antivirals','fatigue','malaise','anorexia',\n",
        "           'liver_big','liver_firm','spleen_palpable','spiders','ascites','varices',\n",
        "           'bilirubin','alk_phosphate','sgot','albumin','protime','histology','class']\n",
        "\n",
        "df = pd.read_csv('https://raw.githubusercontent.com/thieu1995/csv-files/main/data/pandas/hepatitis.csv', \n",
        "                 skiprows=srow, nrows=nrows, names=columns)\n",
        "df.head()"
      ],
      "metadata": {
        "colab": {
          "base_uri": "https://localhost:8080/",
          "height": 270
        },
        "id": "bfFNmdkFfmPH",
        "outputId": "69a89aa5-97e0-4a93-825a-b464cafb18bd"
      },
      "execution_count": null,
      "outputs": [
        {
          "output_type": "execute_result",
          "data": {
            "text/plain": [
              "   age     sex  steroid  antivirals  fatigue  malaise  anorexia liver_big  \\\n",
              "0   34  female     True       False    False    False     False      True   \n",
              "1   34  female     True       False    False    False     False      True   \n",
              "2   51  female    False       False     True    False      True      True   \n",
              "3   23  female     True       False    False    False     False      True   \n",
              "4   39  female     True       False     True    False     False      True   \n",
              "\n",
              "  liver_firm spleen_palpable spiders ascites varices  bilirubin  \\\n",
              "0      False           False   False   False   False        1.0   \n",
              "1      False           False   False   False   False        0.9   \n",
              "2      False            True    True   False   False        NaN   \n",
              "3      False           False   False   False   False        1.0   \n",
              "4       True           False   False   False   False        0.7   \n",
              "\n",
              "   alk_phosphate   sgot  albumin  protime  histology class  \n",
              "0            NaN  200.0      4.0      NaN      False  live  \n",
              "1           95.0   28.0      4.0     75.0      False  live  \n",
              "2            NaN    NaN      NaN      NaN      False   die  \n",
              "3            NaN    NaN      NaN      NaN      False  live  \n",
              "4            NaN   48.0      4.4      NaN      False  live  "
            ],
            "text/html": [
              "\n",
              "  <div id=\"df-2f0b95ba-fcb4-4929-a949-0e731cb7bd91\">\n",
              "    <div class=\"colab-df-container\">\n",
              "      <div>\n",
              "<style scoped>\n",
              "    .dataframe tbody tr th:only-of-type {\n",
              "        vertical-align: middle;\n",
              "    }\n",
              "\n",
              "    .dataframe tbody tr th {\n",
              "        vertical-align: top;\n",
              "    }\n",
              "\n",
              "    .dataframe thead th {\n",
              "        text-align: right;\n",
              "    }\n",
              "</style>\n",
              "<table border=\"1\" class=\"dataframe\">\n",
              "  <thead>\n",
              "    <tr style=\"text-align: right;\">\n",
              "      <th></th>\n",
              "      <th>age</th>\n",
              "      <th>sex</th>\n",
              "      <th>steroid</th>\n",
              "      <th>antivirals</th>\n",
              "      <th>fatigue</th>\n",
              "      <th>malaise</th>\n",
              "      <th>anorexia</th>\n",
              "      <th>liver_big</th>\n",
              "      <th>liver_firm</th>\n",
              "      <th>spleen_palpable</th>\n",
              "      <th>spiders</th>\n",
              "      <th>ascites</th>\n",
              "      <th>varices</th>\n",
              "      <th>bilirubin</th>\n",
              "      <th>alk_phosphate</th>\n",
              "      <th>sgot</th>\n",
              "      <th>albumin</th>\n",
              "      <th>protime</th>\n",
              "      <th>histology</th>\n",
              "      <th>class</th>\n",
              "    </tr>\n",
              "  </thead>\n",
              "  <tbody>\n",
              "    <tr>\n",
              "      <th>0</th>\n",
              "      <td>34</td>\n",
              "      <td>female</td>\n",
              "      <td>True</td>\n",
              "      <td>False</td>\n",
              "      <td>False</td>\n",
              "      <td>False</td>\n",
              "      <td>False</td>\n",
              "      <td>True</td>\n",
              "      <td>False</td>\n",
              "      <td>False</td>\n",
              "      <td>False</td>\n",
              "      <td>False</td>\n",
              "      <td>False</td>\n",
              "      <td>1.0</td>\n",
              "      <td>NaN</td>\n",
              "      <td>200.0</td>\n",
              "      <td>4.0</td>\n",
              "      <td>NaN</td>\n",
              "      <td>False</td>\n",
              "      <td>live</td>\n",
              "    </tr>\n",
              "    <tr>\n",
              "      <th>1</th>\n",
              "      <td>34</td>\n",
              "      <td>female</td>\n",
              "      <td>True</td>\n",
              "      <td>False</td>\n",
              "      <td>False</td>\n",
              "      <td>False</td>\n",
              "      <td>False</td>\n",
              "      <td>True</td>\n",
              "      <td>False</td>\n",
              "      <td>False</td>\n",
              "      <td>False</td>\n",
              "      <td>False</td>\n",
              "      <td>False</td>\n",
              "      <td>0.9</td>\n",
              "      <td>95.0</td>\n",
              "      <td>28.0</td>\n",
              "      <td>4.0</td>\n",
              "      <td>75.0</td>\n",
              "      <td>False</td>\n",
              "      <td>live</td>\n",
              "    </tr>\n",
              "    <tr>\n",
              "      <th>2</th>\n",
              "      <td>51</td>\n",
              "      <td>female</td>\n",
              "      <td>False</td>\n",
              "      <td>False</td>\n",
              "      <td>True</td>\n",
              "      <td>False</td>\n",
              "      <td>True</td>\n",
              "      <td>True</td>\n",
              "      <td>False</td>\n",
              "      <td>True</td>\n",
              "      <td>True</td>\n",
              "      <td>False</td>\n",
              "      <td>False</td>\n",
              "      <td>NaN</td>\n",
              "      <td>NaN</td>\n",
              "      <td>NaN</td>\n",
              "      <td>NaN</td>\n",
              "      <td>NaN</td>\n",
              "      <td>False</td>\n",
              "      <td>die</td>\n",
              "    </tr>\n",
              "    <tr>\n",
              "      <th>3</th>\n",
              "      <td>23</td>\n",
              "      <td>female</td>\n",
              "      <td>True</td>\n",
              "      <td>False</td>\n",
              "      <td>False</td>\n",
              "      <td>False</td>\n",
              "      <td>False</td>\n",
              "      <td>True</td>\n",
              "      <td>False</td>\n",
              "      <td>False</td>\n",
              "      <td>False</td>\n",
              "      <td>False</td>\n",
              "      <td>False</td>\n",
              "      <td>1.0</td>\n",
              "      <td>NaN</td>\n",
              "      <td>NaN</td>\n",
              "      <td>NaN</td>\n",
              "      <td>NaN</td>\n",
              "      <td>False</td>\n",
              "      <td>live</td>\n",
              "    </tr>\n",
              "    <tr>\n",
              "      <th>4</th>\n",
              "      <td>39</td>\n",
              "      <td>female</td>\n",
              "      <td>True</td>\n",
              "      <td>False</td>\n",
              "      <td>True</td>\n",
              "      <td>False</td>\n",
              "      <td>False</td>\n",
              "      <td>True</td>\n",
              "      <td>True</td>\n",
              "      <td>False</td>\n",
              "      <td>False</td>\n",
              "      <td>False</td>\n",
              "      <td>False</td>\n",
              "      <td>0.7</td>\n",
              "      <td>NaN</td>\n",
              "      <td>48.0</td>\n",
              "      <td>4.4</td>\n",
              "      <td>NaN</td>\n",
              "      <td>False</td>\n",
              "      <td>live</td>\n",
              "    </tr>\n",
              "  </tbody>\n",
              "</table>\n",
              "</div>\n",
              "      <button class=\"colab-df-convert\" onclick=\"convertToInteractive('df-2f0b95ba-fcb4-4929-a949-0e731cb7bd91')\"\n",
              "              title=\"Convert this dataframe to an interactive table.\"\n",
              "              style=\"display:none;\">\n",
              "        \n",
              "  <svg xmlns=\"http://www.w3.org/2000/svg\" height=\"24px\"viewBox=\"0 0 24 24\"\n",
              "       width=\"24px\">\n",
              "    <path d=\"M0 0h24v24H0V0z\" fill=\"none\"/>\n",
              "    <path d=\"M18.56 5.44l.94 2.06.94-2.06 2.06-.94-2.06-.94-.94-2.06-.94 2.06-2.06.94zm-11 1L8.5 8.5l.94-2.06 2.06-.94-2.06-.94L8.5 2.5l-.94 2.06-2.06.94zm10 10l.94 2.06.94-2.06 2.06-.94-2.06-.94-.94-2.06-.94 2.06-2.06.94z\"/><path d=\"M17.41 7.96l-1.37-1.37c-.4-.4-.92-.59-1.43-.59-.52 0-1.04.2-1.43.59L10.3 9.45l-7.72 7.72c-.78.78-.78 2.05 0 2.83L4 21.41c.39.39.9.59 1.41.59.51 0 1.02-.2 1.41-.59l7.78-7.78 2.81-2.81c.8-.78.8-2.07 0-2.86zM5.41 20L4 18.59l7.72-7.72 1.47 1.35L5.41 20z\"/>\n",
              "  </svg>\n",
              "      </button>\n",
              "      \n",
              "  <style>\n",
              "    .colab-df-container {\n",
              "      display:flex;\n",
              "      flex-wrap:wrap;\n",
              "      gap: 12px;\n",
              "    }\n",
              "\n",
              "    .colab-df-convert {\n",
              "      background-color: #E8F0FE;\n",
              "      border: none;\n",
              "      border-radius: 50%;\n",
              "      cursor: pointer;\n",
              "      display: none;\n",
              "      fill: #1967D2;\n",
              "      height: 32px;\n",
              "      padding: 0 0 0 0;\n",
              "      width: 32px;\n",
              "    }\n",
              "\n",
              "    .colab-df-convert:hover {\n",
              "      background-color: #E2EBFA;\n",
              "      box-shadow: 0px 1px 2px rgba(60, 64, 67, 0.3), 0px 1px 3px 1px rgba(60, 64, 67, 0.15);\n",
              "      fill: #174EA6;\n",
              "    }\n",
              "\n",
              "    [theme=dark] .colab-df-convert {\n",
              "      background-color: #3B4455;\n",
              "      fill: #D2E3FC;\n",
              "    }\n",
              "\n",
              "    [theme=dark] .colab-df-convert:hover {\n",
              "      background-color: #434B5C;\n",
              "      box-shadow: 0px 1px 3px 1px rgba(0, 0, 0, 0.15);\n",
              "      filter: drop-shadow(0px 1px 2px rgba(0, 0, 0, 0.3));\n",
              "      fill: #FFFFFF;\n",
              "    }\n",
              "  </style>\n",
              "\n",
              "      <script>\n",
              "        const buttonEl =\n",
              "          document.querySelector('#df-2f0b95ba-fcb4-4929-a949-0e731cb7bd91 button.colab-df-convert');\n",
              "        buttonEl.style.display =\n",
              "          google.colab.kernel.accessAllowed ? 'block' : 'none';\n",
              "\n",
              "        async function convertToInteractive(key) {\n",
              "          const element = document.querySelector('#df-2f0b95ba-fcb4-4929-a949-0e731cb7bd91');\n",
              "          const dataTable =\n",
              "            await google.colab.kernel.invokeFunction('convertToInteractive',\n",
              "                                                     [key], {});\n",
              "          if (!dataTable) return;\n",
              "\n",
              "          const docLinkHtml = 'Like what you see? Visit the ' +\n",
              "            '<a target=\"_blank\" href=https://colab.research.google.com/notebooks/data_table.ipynb>data table notebook</a>'\n",
              "            + ' to learn more about interactive tables.';\n",
              "          element.innerHTML = '';\n",
              "          dataTable['output_type'] = 'display_data';\n",
              "          await google.colab.output.renderOutput(dataTable, element);\n",
              "          const docLink = document.createElement('div');\n",
              "          docLink.innerHTML = docLinkHtml;\n",
              "          element.appendChild(docLink);\n",
              "        }\n",
              "      </script>\n",
              "    </div>\n",
              "  </div>\n",
              "  "
            ]
          },
          "metadata": {},
          "execution_count": 29
        }
      ]
    },
    {
      "cell_type": "markdown",
      "source": [
        "### Memory Configuration\n",
        "\n",
        "Another option while reading huge datasets in Python pandas could be increasing the memory associated to the reading operation. This can be done through the **low_memory** parameter.\n"
      ],
      "metadata": {
        "id": "_rnOW1XUfyKF"
      }
    },
    {
      "cell_type": "code",
      "source": [
        "df = pd.read_csv('https://raw.githubusercontent.com/thieu1995/csv-files/main/data/pandas/hepatitis.csv', \n",
        "                 low_memory=False)\n",
        "df.head()"
      ],
      "metadata": {
        "colab": {
          "base_uri": "https://localhost:8080/",
          "height": 270
        },
        "id": "7HlCr4Mwe-9v",
        "outputId": "9c474bdc-658f-45cc-c7bc-b34a0a482881"
      },
      "execution_count": null,
      "outputs": [
        {
          "output_type": "execute_result",
          "data": {
            "text/plain": [
              "   age     sex steroid  antivirals fatigue malaise anorexia liver_big  \\\n",
              "0   30    male   False       False   False   False    False     False   \n",
              "1   50  female   False       False    True   False    False     False   \n",
              "2   78  female    True       False    True   False    False      True   \n",
              "3   31  female     NaN        True   False   False    False      True   \n",
              "4   34  female    True       False   False   False    False      True   \n",
              "\n",
              "  liver_firm spleen_palpable spiders ascites varices  bilirubin  \\\n",
              "0      False           False   False   False   False        1.0   \n",
              "1      False           False   False   False   False        0.9   \n",
              "2      False           False   False   False   False        0.7   \n",
              "3      False           False   False   False   False        0.7   \n",
              "4      False           False   False   False   False        1.0   \n",
              "\n",
              "   alk_phosphate   sgot  albumin  protime  histology class  \n",
              "0           85.0   18.0      4.0      NaN      False  live  \n",
              "1          135.0   42.0      3.5      NaN      False  live  \n",
              "2           96.0   32.0      4.0      NaN      False  live  \n",
              "3           46.0   52.0      4.0     80.0      False  live  \n",
              "4            NaN  200.0      4.0      NaN      False  live  "
            ],
            "text/html": [
              "\n",
              "  <div id=\"df-14f479cb-aa4d-4519-b6cf-1b61bd0468e9\">\n",
              "    <div class=\"colab-df-container\">\n",
              "      <div>\n",
              "<style scoped>\n",
              "    .dataframe tbody tr th:only-of-type {\n",
              "        vertical-align: middle;\n",
              "    }\n",
              "\n",
              "    .dataframe tbody tr th {\n",
              "        vertical-align: top;\n",
              "    }\n",
              "\n",
              "    .dataframe thead th {\n",
              "        text-align: right;\n",
              "    }\n",
              "</style>\n",
              "<table border=\"1\" class=\"dataframe\">\n",
              "  <thead>\n",
              "    <tr style=\"text-align: right;\">\n",
              "      <th></th>\n",
              "      <th>age</th>\n",
              "      <th>sex</th>\n",
              "      <th>steroid</th>\n",
              "      <th>antivirals</th>\n",
              "      <th>fatigue</th>\n",
              "      <th>malaise</th>\n",
              "      <th>anorexia</th>\n",
              "      <th>liver_big</th>\n",
              "      <th>liver_firm</th>\n",
              "      <th>spleen_palpable</th>\n",
              "      <th>spiders</th>\n",
              "      <th>ascites</th>\n",
              "      <th>varices</th>\n",
              "      <th>bilirubin</th>\n",
              "      <th>alk_phosphate</th>\n",
              "      <th>sgot</th>\n",
              "      <th>albumin</th>\n",
              "      <th>protime</th>\n",
              "      <th>histology</th>\n",
              "      <th>class</th>\n",
              "    </tr>\n",
              "  </thead>\n",
              "  <tbody>\n",
              "    <tr>\n",
              "      <th>0</th>\n",
              "      <td>30</td>\n",
              "      <td>male</td>\n",
              "      <td>False</td>\n",
              "      <td>False</td>\n",
              "      <td>False</td>\n",
              "      <td>False</td>\n",
              "      <td>False</td>\n",
              "      <td>False</td>\n",
              "      <td>False</td>\n",
              "      <td>False</td>\n",
              "      <td>False</td>\n",
              "      <td>False</td>\n",
              "      <td>False</td>\n",
              "      <td>1.0</td>\n",
              "      <td>85.0</td>\n",
              "      <td>18.0</td>\n",
              "      <td>4.0</td>\n",
              "      <td>NaN</td>\n",
              "      <td>False</td>\n",
              "      <td>live</td>\n",
              "    </tr>\n",
              "    <tr>\n",
              "      <th>1</th>\n",
              "      <td>50</td>\n",
              "      <td>female</td>\n",
              "      <td>False</td>\n",
              "      <td>False</td>\n",
              "      <td>True</td>\n",
              "      <td>False</td>\n",
              "      <td>False</td>\n",
              "      <td>False</td>\n",
              "      <td>False</td>\n",
              "      <td>False</td>\n",
              "      <td>False</td>\n",
              "      <td>False</td>\n",
              "      <td>False</td>\n",
              "      <td>0.9</td>\n",
              "      <td>135.0</td>\n",
              "      <td>42.0</td>\n",
              "      <td>3.5</td>\n",
              "      <td>NaN</td>\n",
              "      <td>False</td>\n",
              "      <td>live</td>\n",
              "    </tr>\n",
              "    <tr>\n",
              "      <th>2</th>\n",
              "      <td>78</td>\n",
              "      <td>female</td>\n",
              "      <td>True</td>\n",
              "      <td>False</td>\n",
              "      <td>True</td>\n",
              "      <td>False</td>\n",
              "      <td>False</td>\n",
              "      <td>True</td>\n",
              "      <td>False</td>\n",
              "      <td>False</td>\n",
              "      <td>False</td>\n",
              "      <td>False</td>\n",
              "      <td>False</td>\n",
              "      <td>0.7</td>\n",
              "      <td>96.0</td>\n",
              "      <td>32.0</td>\n",
              "      <td>4.0</td>\n",
              "      <td>NaN</td>\n",
              "      <td>False</td>\n",
              "      <td>live</td>\n",
              "    </tr>\n",
              "    <tr>\n",
              "      <th>3</th>\n",
              "      <td>31</td>\n",
              "      <td>female</td>\n",
              "      <td>NaN</td>\n",
              "      <td>True</td>\n",
              "      <td>False</td>\n",
              "      <td>False</td>\n",
              "      <td>False</td>\n",
              "      <td>True</td>\n",
              "      <td>False</td>\n",
              "      <td>False</td>\n",
              "      <td>False</td>\n",
              "      <td>False</td>\n",
              "      <td>False</td>\n",
              "      <td>0.7</td>\n",
              "      <td>46.0</td>\n",
              "      <td>52.0</td>\n",
              "      <td>4.0</td>\n",
              "      <td>80.0</td>\n",
              "      <td>False</td>\n",
              "      <td>live</td>\n",
              "    </tr>\n",
              "    <tr>\n",
              "      <th>4</th>\n",
              "      <td>34</td>\n",
              "      <td>female</td>\n",
              "      <td>True</td>\n",
              "      <td>False</td>\n",
              "      <td>False</td>\n",
              "      <td>False</td>\n",
              "      <td>False</td>\n",
              "      <td>True</td>\n",
              "      <td>False</td>\n",
              "      <td>False</td>\n",
              "      <td>False</td>\n",
              "      <td>False</td>\n",
              "      <td>False</td>\n",
              "      <td>1.0</td>\n",
              "      <td>NaN</td>\n",
              "      <td>200.0</td>\n",
              "      <td>4.0</td>\n",
              "      <td>NaN</td>\n",
              "      <td>False</td>\n",
              "      <td>live</td>\n",
              "    </tr>\n",
              "  </tbody>\n",
              "</table>\n",
              "</div>\n",
              "      <button class=\"colab-df-convert\" onclick=\"convertToInteractive('df-14f479cb-aa4d-4519-b6cf-1b61bd0468e9')\"\n",
              "              title=\"Convert this dataframe to an interactive table.\"\n",
              "              style=\"display:none;\">\n",
              "        \n",
              "  <svg xmlns=\"http://www.w3.org/2000/svg\" height=\"24px\"viewBox=\"0 0 24 24\"\n",
              "       width=\"24px\">\n",
              "    <path d=\"M0 0h24v24H0V0z\" fill=\"none\"/>\n",
              "    <path d=\"M18.56 5.44l.94 2.06.94-2.06 2.06-.94-2.06-.94-.94-2.06-.94 2.06-2.06.94zm-11 1L8.5 8.5l.94-2.06 2.06-.94-2.06-.94L8.5 2.5l-.94 2.06-2.06.94zm10 10l.94 2.06.94-2.06 2.06-.94-2.06-.94-.94-2.06-.94 2.06-2.06.94z\"/><path d=\"M17.41 7.96l-1.37-1.37c-.4-.4-.92-.59-1.43-.59-.52 0-1.04.2-1.43.59L10.3 9.45l-7.72 7.72c-.78.78-.78 2.05 0 2.83L4 21.41c.39.39.9.59 1.41.59.51 0 1.02-.2 1.41-.59l7.78-7.78 2.81-2.81c.8-.78.8-2.07 0-2.86zM5.41 20L4 18.59l7.72-7.72 1.47 1.35L5.41 20z\"/>\n",
              "  </svg>\n",
              "      </button>\n",
              "      \n",
              "  <style>\n",
              "    .colab-df-container {\n",
              "      display:flex;\n",
              "      flex-wrap:wrap;\n",
              "      gap: 12px;\n",
              "    }\n",
              "\n",
              "    .colab-df-convert {\n",
              "      background-color: #E8F0FE;\n",
              "      border: none;\n",
              "      border-radius: 50%;\n",
              "      cursor: pointer;\n",
              "      display: none;\n",
              "      fill: #1967D2;\n",
              "      height: 32px;\n",
              "      padding: 0 0 0 0;\n",
              "      width: 32px;\n",
              "    }\n",
              "\n",
              "    .colab-df-convert:hover {\n",
              "      background-color: #E2EBFA;\n",
              "      box-shadow: 0px 1px 2px rgba(60, 64, 67, 0.3), 0px 1px 3px 1px rgba(60, 64, 67, 0.15);\n",
              "      fill: #174EA6;\n",
              "    }\n",
              "\n",
              "    [theme=dark] .colab-df-convert {\n",
              "      background-color: #3B4455;\n",
              "      fill: #D2E3FC;\n",
              "    }\n",
              "\n",
              "    [theme=dark] .colab-df-convert:hover {\n",
              "      background-color: #434B5C;\n",
              "      box-shadow: 0px 1px 3px 1px rgba(0, 0, 0, 0.15);\n",
              "      filter: drop-shadow(0px 1px 2px rgba(0, 0, 0, 0.3));\n",
              "      fill: #FFFFFF;\n",
              "    }\n",
              "  </style>\n",
              "\n",
              "      <script>\n",
              "        const buttonEl =\n",
              "          document.querySelector('#df-14f479cb-aa4d-4519-b6cf-1b61bd0468e9 button.colab-df-convert');\n",
              "        buttonEl.style.display =\n",
              "          google.colab.kernel.accessAllowed ? 'block' : 'none';\n",
              "\n",
              "        async function convertToInteractive(key) {\n",
              "          const element = document.querySelector('#df-14f479cb-aa4d-4519-b6cf-1b61bd0468e9');\n",
              "          const dataTable =\n",
              "            await google.colab.kernel.invokeFunction('convertToInteractive',\n",
              "                                                     [key], {});\n",
              "          if (!dataTable) return;\n",
              "\n",
              "          const docLinkHtml = 'Like what you see? Visit the ' +\n",
              "            '<a target=\"_blank\" href=https://colab.research.google.com/notebooks/data_table.ipynb>data table notebook</a>'\n",
              "            + ' to learn more about interactive tables.';\n",
              "          element.innerHTML = '';\n",
              "          dataTable['output_type'] = 'display_data';\n",
              "          await google.colab.output.renderOutput(dataTable, element);\n",
              "          const docLink = document.createElement('div');\n",
              "          docLink.innerHTML = docLinkHtml;\n",
              "          element.appendChild(docLink);\n",
              "        }\n",
              "      </script>\n",
              "    </div>\n",
              "  </div>\n",
              "  "
            ]
          },
          "metadata": {},
          "execution_count": 30
        }
      ]
    },
    {
      "cell_type": "markdown",
      "source": [
        "### Bursts\n",
        "\n",
        "It may happen that we need to load the full dataset, but we don’t have enough memory to load it. Thus we can load it in bursts, then we apply some filters and store the results into another (smaller) dataset. Filters may include dropping operations and conversion from bigger to smaller types.\n",
        "\n",
        "Firstly, we define a function called **read_burst()** which reads the i-th burst, performs some filters and then stores the results into another output csv file. \n",
        "\n",
        "In our case we can drop rows where **malaise = False**. We pass the starting row srow, the burst size burst the names of columns columns as parameters of the **read_burst()** function. \n",
        "\n",
        "When the starting row is equal to 1 we must also write the header to the output csv file. Thus we define a variable called **header**, which is set to True if **srow = 1.**\n",
        "\n",
        "\n",
        "\n"
      ],
      "metadata": {
        "id": "6pZSIuayf_T_"
      }
    },
    {
      "cell_type": "code",
      "source": [
        "def read_burst(srow, burst, columns):\n",
        "    header = False\n",
        "    if srow == 1:\n",
        "        header = True\n",
        "    df = pd.read_csv('https://raw.githubusercontent.com/thieu1995/csv-files/main/data/pandas/hepatitis.csv', \n",
        "                     skiprows=srow, nrows=burst, names=columns)\n",
        "    df = df.drop(df[df['malaise'] == False].index)\n",
        "    df.to_csv('hepatitis_small.csv', mode='a',header=header)"
      ],
      "metadata": {
        "id": "wgTtFz_VgTm_"
      },
      "execution_count": null,
      "outputs": []
    },
    {
      "cell_type": "markdown",
      "source": [
        "Now we can loop throughout the dataset. Note that we must know in advance the **number of lines of the csv file**. This can be done by using a command line tick. \n",
        "\n",
        "We can use the **wc** unix shell command. In order to run this command within the jupyther notebook, we must use the ! operator."
      ],
      "metadata": {
        "id": "7AnjMj1cgTLo"
      }
    },
    {
      "cell_type": "code",
      "source": [
        "! wc -l hepatitis.csv"
      ],
      "metadata": {
        "colab": {
          "base_uri": "https://localhost:8080/"
        },
        "id": "O48kptdig2J_",
        "outputId": "3c7a01f5-1d0a-4897-efd2-fff43135276c"
      },
      "execution_count": null,
      "outputs": [
        {
          "output_type": "stream",
          "name": "stdout",
          "text": [
            "wc: hepatitis.csv: No such file or directory\n"
          ]
        }
      ]
    },
    {
      "cell_type": "markdown",
      "source": [
        "Our file contains 156 rows, thus we can set the maximum number of lines to be read to 156, since the first line corresponds to the header. We set **burst = 10**. Thus we read 100 at times. At the end, we run again the read_burst() function to load the last remaining rows.\n"
      ],
      "metadata": {
        "id": "wkYhValgg_Gb"
      }
    },
    {
      "cell_type": "code",
      "source": [
        "burst =10\n",
        "srow = 1\n",
        "nrows = 156\n",
        "columns = ['age','sex','steroid','antivirals','fatigue','malaise','anorexia',\n",
        "           'liver_big','liver_firm','spleen_palpable','spiders','ascites','varices',\n",
        "           'bilirubin','alk_phosphate','sgot','albumin','protime','histology','class']\n",
        "\n",
        "while srow < nrows:\n",
        "    print('srow: ' + str(srow))\n",
        "    read_burst(srow,burst,columns)\n",
        "    srow = srow + burst\n",
        "    \n",
        "read_burst(srow,nrows,columns)"
      ],
      "metadata": {
        "colab": {
          "base_uri": "https://localhost:8080/"
        },
        "id": "4-XaD5YUhGcx",
        "outputId": "865b3a95-f50e-46a8-b1b5-6c857a29ba3c"
      },
      "execution_count": null,
      "outputs": [
        {
          "output_type": "stream",
          "name": "stdout",
          "text": [
            "srow: 1\n",
            "srow: 11\n",
            "srow: 21\n",
            "srow: 31\n",
            "srow: 41\n",
            "srow: 51\n",
            "srow: 61\n",
            "srow: 71\n",
            "srow: 81\n",
            "srow: 91\n",
            "srow: 101\n",
            "srow: 111\n",
            "srow: 121\n",
            "srow: 131\n",
            "srow: 141\n",
            "srow: 151\n"
          ]
        }
      ]
    },
    {
      "cell_type": "markdown",
      "source": [
        "**Now we can load the smaller dataset.** We can drop the Unnamed: 0 column."
      ],
      "metadata": {
        "id": "so1JUGPzhOyo"
      }
    },
    {
      "cell_type": "code",
      "source": [
        "df = pd.read_csv('hepatitis_small.csv')\n",
        "df.head()"
      ],
      "metadata": {
        "colab": {
          "base_uri": "https://localhost:8080/",
          "height": 317
        },
        "id": "uWPk1OvohQOE",
        "outputId": "8d7eb783-efe5-473f-c1d6-3399f8053b90"
      },
      "execution_count": null,
      "outputs": [
        {
          "output_type": "execute_result",
          "data": {
            "text/plain": [
              "   Unnamed: 0  age     sex  steroid  antivirals fatigue malaise anorexia  \\\n",
              "0           5   38  female    False       False    True    True     True   \n",
              "1           1   27  female     True       False    True    True     True   \n",
              "2           5   27  female    False       False    True    True    False   \n",
              "3           6   49  female    False        True    True    True     True   \n",
              "4           9   51  female    False        True    True    True    False   \n",
              "\n",
              "  liver_big liver_firm  ... spiders ascites varices bilirubin  alk_phosphate  \\\n",
              "0      True      False  ...   False    True   False       2.0           72.0   \n",
              "1     False       True  ...    True   False   False       1.2          133.0   \n",
              "2      True      False  ...   False   False   False       0.8           95.0   \n",
              "3      True       True  ...    True   False   False       0.6           85.0   \n",
              "4      True      False  ...   False   False   False       1.0           78.0   \n",
              "\n",
              "   sgot  albumin  protime  histology  class  \n",
              "0  89.0      2.9     46.0      False   live  \n",
              "1  98.0      4.1     39.0      False   live  \n",
              "2  46.0      3.8    100.0      False   live  \n",
              "3  48.0      3.7      NaN      False   live  \n",
              "4  58.0      4.6     52.0      False   live  \n",
              "\n",
              "[5 rows x 21 columns]"
            ],
            "text/html": [
              "\n",
              "  <div id=\"df-c64c27b1-60c6-44b5-9481-61998b89982c\">\n",
              "    <div class=\"colab-df-container\">\n",
              "      <div>\n",
              "<style scoped>\n",
              "    .dataframe tbody tr th:only-of-type {\n",
              "        vertical-align: middle;\n",
              "    }\n",
              "\n",
              "    .dataframe tbody tr th {\n",
              "        vertical-align: top;\n",
              "    }\n",
              "\n",
              "    .dataframe thead th {\n",
              "        text-align: right;\n",
              "    }\n",
              "</style>\n",
              "<table border=\"1\" class=\"dataframe\">\n",
              "  <thead>\n",
              "    <tr style=\"text-align: right;\">\n",
              "      <th></th>\n",
              "      <th>Unnamed: 0</th>\n",
              "      <th>age</th>\n",
              "      <th>sex</th>\n",
              "      <th>steroid</th>\n",
              "      <th>antivirals</th>\n",
              "      <th>fatigue</th>\n",
              "      <th>malaise</th>\n",
              "      <th>anorexia</th>\n",
              "      <th>liver_big</th>\n",
              "      <th>liver_firm</th>\n",
              "      <th>...</th>\n",
              "      <th>spiders</th>\n",
              "      <th>ascites</th>\n",
              "      <th>varices</th>\n",
              "      <th>bilirubin</th>\n",
              "      <th>alk_phosphate</th>\n",
              "      <th>sgot</th>\n",
              "      <th>albumin</th>\n",
              "      <th>protime</th>\n",
              "      <th>histology</th>\n",
              "      <th>class</th>\n",
              "    </tr>\n",
              "  </thead>\n",
              "  <tbody>\n",
              "    <tr>\n",
              "      <th>0</th>\n",
              "      <td>5</td>\n",
              "      <td>38</td>\n",
              "      <td>female</td>\n",
              "      <td>False</td>\n",
              "      <td>False</td>\n",
              "      <td>True</td>\n",
              "      <td>True</td>\n",
              "      <td>True</td>\n",
              "      <td>True</td>\n",
              "      <td>False</td>\n",
              "      <td>...</td>\n",
              "      <td>False</td>\n",
              "      <td>True</td>\n",
              "      <td>False</td>\n",
              "      <td>2.0</td>\n",
              "      <td>72.0</td>\n",
              "      <td>89.0</td>\n",
              "      <td>2.9</td>\n",
              "      <td>46.0</td>\n",
              "      <td>False</td>\n",
              "      <td>live</td>\n",
              "    </tr>\n",
              "    <tr>\n",
              "      <th>1</th>\n",
              "      <td>1</td>\n",
              "      <td>27</td>\n",
              "      <td>female</td>\n",
              "      <td>True</td>\n",
              "      <td>False</td>\n",
              "      <td>True</td>\n",
              "      <td>True</td>\n",
              "      <td>True</td>\n",
              "      <td>False</td>\n",
              "      <td>True</td>\n",
              "      <td>...</td>\n",
              "      <td>True</td>\n",
              "      <td>False</td>\n",
              "      <td>False</td>\n",
              "      <td>1.2</td>\n",
              "      <td>133.0</td>\n",
              "      <td>98.0</td>\n",
              "      <td>4.1</td>\n",
              "      <td>39.0</td>\n",
              "      <td>False</td>\n",
              "      <td>live</td>\n",
              "    </tr>\n",
              "    <tr>\n",
              "      <th>2</th>\n",
              "      <td>5</td>\n",
              "      <td>27</td>\n",
              "      <td>female</td>\n",
              "      <td>False</td>\n",
              "      <td>False</td>\n",
              "      <td>True</td>\n",
              "      <td>True</td>\n",
              "      <td>False</td>\n",
              "      <td>True</td>\n",
              "      <td>False</td>\n",
              "      <td>...</td>\n",
              "      <td>False</td>\n",
              "      <td>False</td>\n",
              "      <td>False</td>\n",
              "      <td>0.8</td>\n",
              "      <td>95.0</td>\n",
              "      <td>46.0</td>\n",
              "      <td>3.8</td>\n",
              "      <td>100.0</td>\n",
              "      <td>False</td>\n",
              "      <td>live</td>\n",
              "    </tr>\n",
              "    <tr>\n",
              "      <th>3</th>\n",
              "      <td>6</td>\n",
              "      <td>49</td>\n",
              "      <td>female</td>\n",
              "      <td>False</td>\n",
              "      <td>True</td>\n",
              "      <td>True</td>\n",
              "      <td>True</td>\n",
              "      <td>True</td>\n",
              "      <td>True</td>\n",
              "      <td>True</td>\n",
              "      <td>...</td>\n",
              "      <td>True</td>\n",
              "      <td>False</td>\n",
              "      <td>False</td>\n",
              "      <td>0.6</td>\n",
              "      <td>85.0</td>\n",
              "      <td>48.0</td>\n",
              "      <td>3.7</td>\n",
              "      <td>NaN</td>\n",
              "      <td>False</td>\n",
              "      <td>live</td>\n",
              "    </tr>\n",
              "    <tr>\n",
              "      <th>4</th>\n",
              "      <td>9</td>\n",
              "      <td>51</td>\n",
              "      <td>female</td>\n",
              "      <td>False</td>\n",
              "      <td>True</td>\n",
              "      <td>True</td>\n",
              "      <td>True</td>\n",
              "      <td>False</td>\n",
              "      <td>True</td>\n",
              "      <td>False</td>\n",
              "      <td>...</td>\n",
              "      <td>False</td>\n",
              "      <td>False</td>\n",
              "      <td>False</td>\n",
              "      <td>1.0</td>\n",
              "      <td>78.0</td>\n",
              "      <td>58.0</td>\n",
              "      <td>4.6</td>\n",
              "      <td>52.0</td>\n",
              "      <td>False</td>\n",
              "      <td>live</td>\n",
              "    </tr>\n",
              "  </tbody>\n",
              "</table>\n",
              "<p>5 rows × 21 columns</p>\n",
              "</div>\n",
              "      <button class=\"colab-df-convert\" onclick=\"convertToInteractive('df-c64c27b1-60c6-44b5-9481-61998b89982c')\"\n",
              "              title=\"Convert this dataframe to an interactive table.\"\n",
              "              style=\"display:none;\">\n",
              "        \n",
              "  <svg xmlns=\"http://www.w3.org/2000/svg\" height=\"24px\"viewBox=\"0 0 24 24\"\n",
              "       width=\"24px\">\n",
              "    <path d=\"M0 0h24v24H0V0z\" fill=\"none\"/>\n",
              "    <path d=\"M18.56 5.44l.94 2.06.94-2.06 2.06-.94-2.06-.94-.94-2.06-.94 2.06-2.06.94zm-11 1L8.5 8.5l.94-2.06 2.06-.94-2.06-.94L8.5 2.5l-.94 2.06-2.06.94zm10 10l.94 2.06.94-2.06 2.06-.94-2.06-.94-.94-2.06-.94 2.06-2.06.94z\"/><path d=\"M17.41 7.96l-1.37-1.37c-.4-.4-.92-.59-1.43-.59-.52 0-1.04.2-1.43.59L10.3 9.45l-7.72 7.72c-.78.78-.78 2.05 0 2.83L4 21.41c.39.39.9.59 1.41.59.51 0 1.02-.2 1.41-.59l7.78-7.78 2.81-2.81c.8-.78.8-2.07 0-2.86zM5.41 20L4 18.59l7.72-7.72 1.47 1.35L5.41 20z\"/>\n",
              "  </svg>\n",
              "      </button>\n",
              "      \n",
              "  <style>\n",
              "    .colab-df-container {\n",
              "      display:flex;\n",
              "      flex-wrap:wrap;\n",
              "      gap: 12px;\n",
              "    }\n",
              "\n",
              "    .colab-df-convert {\n",
              "      background-color: #E8F0FE;\n",
              "      border: none;\n",
              "      border-radius: 50%;\n",
              "      cursor: pointer;\n",
              "      display: none;\n",
              "      fill: #1967D2;\n",
              "      height: 32px;\n",
              "      padding: 0 0 0 0;\n",
              "      width: 32px;\n",
              "    }\n",
              "\n",
              "    .colab-df-convert:hover {\n",
              "      background-color: #E2EBFA;\n",
              "      box-shadow: 0px 1px 2px rgba(60, 64, 67, 0.3), 0px 1px 3px 1px rgba(60, 64, 67, 0.15);\n",
              "      fill: #174EA6;\n",
              "    }\n",
              "\n",
              "    [theme=dark] .colab-df-convert {\n",
              "      background-color: #3B4455;\n",
              "      fill: #D2E3FC;\n",
              "    }\n",
              "\n",
              "    [theme=dark] .colab-df-convert:hover {\n",
              "      background-color: #434B5C;\n",
              "      box-shadow: 0px 1px 3px 1px rgba(0, 0, 0, 0.15);\n",
              "      filter: drop-shadow(0px 1px 2px rgba(0, 0, 0, 0.3));\n",
              "      fill: #FFFFFF;\n",
              "    }\n",
              "  </style>\n",
              "\n",
              "      <script>\n",
              "        const buttonEl =\n",
              "          document.querySelector('#df-c64c27b1-60c6-44b5-9481-61998b89982c button.colab-df-convert');\n",
              "        buttonEl.style.display =\n",
              "          google.colab.kernel.accessAllowed ? 'block' : 'none';\n",
              "\n",
              "        async function convertToInteractive(key) {\n",
              "          const element = document.querySelector('#df-c64c27b1-60c6-44b5-9481-61998b89982c');\n",
              "          const dataTable =\n",
              "            await google.colab.kernel.invokeFunction('convertToInteractive',\n",
              "                                                     [key], {});\n",
              "          if (!dataTable) return;\n",
              "\n",
              "          const docLinkHtml = 'Like what you see? Visit the ' +\n",
              "            '<a target=\"_blank\" href=https://colab.research.google.com/notebooks/data_table.ipynb>data table notebook</a>'\n",
              "            + ' to learn more about interactive tables.';\n",
              "          element.innerHTML = '';\n",
              "          dataTable['output_type'] = 'display_data';\n",
              "          await google.colab.output.renderOutput(dataTable, element);\n",
              "          const docLink = document.createElement('div');\n",
              "          docLink.innerHTML = docLinkHtml;\n",
              "          element.appendChild(docLink);\n",
              "        }\n",
              "      </script>\n",
              "    </div>\n",
              "  </div>\n",
              "  "
            ]
          },
          "metadata": {},
          "execution_count": 38
        }
      ]
    },
    {
      "cell_type": "code",
      "source": [
        "df.drop(columns=['Unnamed: 0'],axis=1, inplace=True)\n",
        "df.head()"
      ],
      "metadata": {
        "colab": {
          "base_uri": "https://localhost:8080/",
          "height": 270
        },
        "id": "Co9H2mt_hVai",
        "outputId": "7b926560-8f69-45cd-bef4-5a8dc5f7c9d6"
      },
      "execution_count": null,
      "outputs": [
        {
          "output_type": "execute_result",
          "data": {
            "text/plain": [
              "   age     sex  steroid  antivirals fatigue malaise anorexia liver_big  \\\n",
              "0   38  female    False       False    True    True     True      True   \n",
              "1   27  female     True       False    True    True     True     False   \n",
              "2   27  female    False       False    True    True    False      True   \n",
              "3   49  female    False        True    True    True     True      True   \n",
              "4   51  female    False        True    True    True    False      True   \n",
              "\n",
              "  liver_firm spleen_palpable spiders ascites varices  bilirubin  \\\n",
              "0      False           False   False    True   False        2.0   \n",
              "1       True            True    True   False   False        1.2   \n",
              "2      False           False   False   False   False        0.8   \n",
              "3       True           False    True   False   False        0.6   \n",
              "4      False           False   False   False   False        1.0   \n",
              "\n",
              "   alk_phosphate  sgot  albumin  protime  histology class  \n",
              "0           72.0  89.0      2.9     46.0      False  live  \n",
              "1          133.0  98.0      4.1     39.0      False  live  \n",
              "2           95.0  46.0      3.8    100.0      False  live  \n",
              "3           85.0  48.0      3.7      NaN      False  live  \n",
              "4           78.0  58.0      4.6     52.0      False  live  "
            ],
            "text/html": [
              "\n",
              "  <div id=\"df-d08689d8-2b5a-4348-8774-91a7ec0320e5\">\n",
              "    <div class=\"colab-df-container\">\n",
              "      <div>\n",
              "<style scoped>\n",
              "    .dataframe tbody tr th:only-of-type {\n",
              "        vertical-align: middle;\n",
              "    }\n",
              "\n",
              "    .dataframe tbody tr th {\n",
              "        vertical-align: top;\n",
              "    }\n",
              "\n",
              "    .dataframe thead th {\n",
              "        text-align: right;\n",
              "    }\n",
              "</style>\n",
              "<table border=\"1\" class=\"dataframe\">\n",
              "  <thead>\n",
              "    <tr style=\"text-align: right;\">\n",
              "      <th></th>\n",
              "      <th>age</th>\n",
              "      <th>sex</th>\n",
              "      <th>steroid</th>\n",
              "      <th>antivirals</th>\n",
              "      <th>fatigue</th>\n",
              "      <th>malaise</th>\n",
              "      <th>anorexia</th>\n",
              "      <th>liver_big</th>\n",
              "      <th>liver_firm</th>\n",
              "      <th>spleen_palpable</th>\n",
              "      <th>spiders</th>\n",
              "      <th>ascites</th>\n",
              "      <th>varices</th>\n",
              "      <th>bilirubin</th>\n",
              "      <th>alk_phosphate</th>\n",
              "      <th>sgot</th>\n",
              "      <th>albumin</th>\n",
              "      <th>protime</th>\n",
              "      <th>histology</th>\n",
              "      <th>class</th>\n",
              "    </tr>\n",
              "  </thead>\n",
              "  <tbody>\n",
              "    <tr>\n",
              "      <th>0</th>\n",
              "      <td>38</td>\n",
              "      <td>female</td>\n",
              "      <td>False</td>\n",
              "      <td>False</td>\n",
              "      <td>True</td>\n",
              "      <td>True</td>\n",
              "      <td>True</td>\n",
              "      <td>True</td>\n",
              "      <td>False</td>\n",
              "      <td>False</td>\n",
              "      <td>False</td>\n",
              "      <td>True</td>\n",
              "      <td>False</td>\n",
              "      <td>2.0</td>\n",
              "      <td>72.0</td>\n",
              "      <td>89.0</td>\n",
              "      <td>2.9</td>\n",
              "      <td>46.0</td>\n",
              "      <td>False</td>\n",
              "      <td>live</td>\n",
              "    </tr>\n",
              "    <tr>\n",
              "      <th>1</th>\n",
              "      <td>27</td>\n",
              "      <td>female</td>\n",
              "      <td>True</td>\n",
              "      <td>False</td>\n",
              "      <td>True</td>\n",
              "      <td>True</td>\n",
              "      <td>True</td>\n",
              "      <td>False</td>\n",
              "      <td>True</td>\n",
              "      <td>True</td>\n",
              "      <td>True</td>\n",
              "      <td>False</td>\n",
              "      <td>False</td>\n",
              "      <td>1.2</td>\n",
              "      <td>133.0</td>\n",
              "      <td>98.0</td>\n",
              "      <td>4.1</td>\n",
              "      <td>39.0</td>\n",
              "      <td>False</td>\n",
              "      <td>live</td>\n",
              "    </tr>\n",
              "    <tr>\n",
              "      <th>2</th>\n",
              "      <td>27</td>\n",
              "      <td>female</td>\n",
              "      <td>False</td>\n",
              "      <td>False</td>\n",
              "      <td>True</td>\n",
              "      <td>True</td>\n",
              "      <td>False</td>\n",
              "      <td>True</td>\n",
              "      <td>False</td>\n",
              "      <td>False</td>\n",
              "      <td>False</td>\n",
              "      <td>False</td>\n",
              "      <td>False</td>\n",
              "      <td>0.8</td>\n",
              "      <td>95.0</td>\n",
              "      <td>46.0</td>\n",
              "      <td>3.8</td>\n",
              "      <td>100.0</td>\n",
              "      <td>False</td>\n",
              "      <td>live</td>\n",
              "    </tr>\n",
              "    <tr>\n",
              "      <th>3</th>\n",
              "      <td>49</td>\n",
              "      <td>female</td>\n",
              "      <td>False</td>\n",
              "      <td>True</td>\n",
              "      <td>True</td>\n",
              "      <td>True</td>\n",
              "      <td>True</td>\n",
              "      <td>True</td>\n",
              "      <td>True</td>\n",
              "      <td>False</td>\n",
              "      <td>True</td>\n",
              "      <td>False</td>\n",
              "      <td>False</td>\n",
              "      <td>0.6</td>\n",
              "      <td>85.0</td>\n",
              "      <td>48.0</td>\n",
              "      <td>3.7</td>\n",
              "      <td>NaN</td>\n",
              "      <td>False</td>\n",
              "      <td>live</td>\n",
              "    </tr>\n",
              "    <tr>\n",
              "      <th>4</th>\n",
              "      <td>51</td>\n",
              "      <td>female</td>\n",
              "      <td>False</td>\n",
              "      <td>True</td>\n",
              "      <td>True</td>\n",
              "      <td>True</td>\n",
              "      <td>False</td>\n",
              "      <td>True</td>\n",
              "      <td>False</td>\n",
              "      <td>False</td>\n",
              "      <td>False</td>\n",
              "      <td>False</td>\n",
              "      <td>False</td>\n",
              "      <td>1.0</td>\n",
              "      <td>78.0</td>\n",
              "      <td>58.0</td>\n",
              "      <td>4.6</td>\n",
              "      <td>52.0</td>\n",
              "      <td>False</td>\n",
              "      <td>live</td>\n",
              "    </tr>\n",
              "  </tbody>\n",
              "</table>\n",
              "</div>\n",
              "      <button class=\"colab-df-convert\" onclick=\"convertToInteractive('df-d08689d8-2b5a-4348-8774-91a7ec0320e5')\"\n",
              "              title=\"Convert this dataframe to an interactive table.\"\n",
              "              style=\"display:none;\">\n",
              "        \n",
              "  <svg xmlns=\"http://www.w3.org/2000/svg\" height=\"24px\"viewBox=\"0 0 24 24\"\n",
              "       width=\"24px\">\n",
              "    <path d=\"M0 0h24v24H0V0z\" fill=\"none\"/>\n",
              "    <path d=\"M18.56 5.44l.94 2.06.94-2.06 2.06-.94-2.06-.94-.94-2.06-.94 2.06-2.06.94zm-11 1L8.5 8.5l.94-2.06 2.06-.94-2.06-.94L8.5 2.5l-.94 2.06-2.06.94zm10 10l.94 2.06.94-2.06 2.06-.94-2.06-.94-.94-2.06-.94 2.06-2.06.94z\"/><path d=\"M17.41 7.96l-1.37-1.37c-.4-.4-.92-.59-1.43-.59-.52 0-1.04.2-1.43.59L10.3 9.45l-7.72 7.72c-.78.78-.78 2.05 0 2.83L4 21.41c.39.39.9.59 1.41.59.51 0 1.02-.2 1.41-.59l7.78-7.78 2.81-2.81c.8-.78.8-2.07 0-2.86zM5.41 20L4 18.59l7.72-7.72 1.47 1.35L5.41 20z\"/>\n",
              "  </svg>\n",
              "      </button>\n",
              "      \n",
              "  <style>\n",
              "    .colab-df-container {\n",
              "      display:flex;\n",
              "      flex-wrap:wrap;\n",
              "      gap: 12px;\n",
              "    }\n",
              "\n",
              "    .colab-df-convert {\n",
              "      background-color: #E8F0FE;\n",
              "      border: none;\n",
              "      border-radius: 50%;\n",
              "      cursor: pointer;\n",
              "      display: none;\n",
              "      fill: #1967D2;\n",
              "      height: 32px;\n",
              "      padding: 0 0 0 0;\n",
              "      width: 32px;\n",
              "    }\n",
              "\n",
              "    .colab-df-convert:hover {\n",
              "      background-color: #E2EBFA;\n",
              "      box-shadow: 0px 1px 2px rgba(60, 64, 67, 0.3), 0px 1px 3px 1px rgba(60, 64, 67, 0.15);\n",
              "      fill: #174EA6;\n",
              "    }\n",
              "\n",
              "    [theme=dark] .colab-df-convert {\n",
              "      background-color: #3B4455;\n",
              "      fill: #D2E3FC;\n",
              "    }\n",
              "\n",
              "    [theme=dark] .colab-df-convert:hover {\n",
              "      background-color: #434B5C;\n",
              "      box-shadow: 0px 1px 3px 1px rgba(0, 0, 0, 0.15);\n",
              "      filter: drop-shadow(0px 1px 2px rgba(0, 0, 0, 0.3));\n",
              "      fill: #FFFFFF;\n",
              "    }\n",
              "  </style>\n",
              "\n",
              "      <script>\n",
              "        const buttonEl =\n",
              "          document.querySelector('#df-d08689d8-2b5a-4348-8774-91a7ec0320e5 button.colab-df-convert');\n",
              "        buttonEl.style.display =\n",
              "          google.colab.kernel.accessAllowed ? 'block' : 'none';\n",
              "\n",
              "        async function convertToInteractive(key) {\n",
              "          const element = document.querySelector('#df-d08689d8-2b5a-4348-8774-91a7ec0320e5');\n",
              "          const dataTable =\n",
              "            await google.colab.kernel.invokeFunction('convertToInteractive',\n",
              "                                                     [key], {});\n",
              "          if (!dataTable) return;\n",
              "\n",
              "          const docLinkHtml = 'Like what you see? Visit the ' +\n",
              "            '<a target=\"_blank\" href=https://colab.research.google.com/notebooks/data_table.ipynb>data table notebook</a>'\n",
              "            + ' to learn more about interactive tables.';\n",
              "          element.innerHTML = '';\n",
              "          dataTable['output_type'] = 'display_data';\n",
              "          await google.colab.output.renderOutput(dataTable, element);\n",
              "          const docLink = document.createElement('div');\n",
              "          docLink.innerHTML = docLinkHtml;\n",
              "          element.appendChild(docLink);\n",
              "        }\n",
              "      </script>\n",
              "    </div>\n",
              "  </div>\n",
              "  "
            ]
          },
          "metadata": {},
          "execution_count": 39
        }
      ]
    },
    {
      "cell_type": "markdown",
      "source": [
        "## Resources\n",
        "\n",
        "1. https://datagy.io/pandas-data-cleaning/\n",
        "2. https://towardsdatascience.com/data-preprocessing-with-python-pandas-part-5-binning-c5bd5fd1b950\n",
        "3. https://datascienceinpractice.github.io/tutorials/07-DataCleaning.html\n",
        "4. https://www.analyseup.com/learn-python-for-data-science/python-pandas-cleaning-data.html\n",
        "5. https://www.analyticsvidhya.com/blog/2021/06/data-cleaning-using-pandas/\n",
        "6. https://datascientyst.com/data-cleaning-steps-python-example/\n",
        "7. https://www.jcchouinard.com/preprocessing-in-scikit-learn/\n",
        "\n",
        "\n"
      ],
      "metadata": {
        "id": "vqojyt3jqc0Q"
      }
    },
    {
      "cell_type": "code",
      "source": [],
      "metadata": {
        "id": "AVlelVcWsG-L"
      },
      "execution_count": null,
      "outputs": []
    },
    {
      "cell_type": "markdown",
      "source": [
        "# B.Preprocessing data with sklearn.preprocessing module \n",
        "\n",
        "![image.png](data:image/png;base64,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)"
      ],
      "metadata": {
        "id": "z2gDZyONSCB8"
      }
    },
    {
      "cell_type": "markdown",
      "source": [
        "* Missing values\n",
        "* Polynomial features\n",
        "* Categorical features\n",
        "* Numerical features\n",
        "* Custom transformations\n",
        "* Feature scaling\n",
        "* Normalization\n"
      ],
      "metadata": {
        "id": "EZ7plDXshquf"
      }
    },
    {
      "cell_type": "markdown",
      "source": [
        "## 1.Imputation of missing values\n",
        "\n",
        "In real world datasets, we often find many missing values. This can be because of various reasons — human error, sensor failure or different data type issue. The basic strategy people prefer is discarding all the rows containing missing values. But this reduces data quality and we may lose important information. Hence we need to find suitable strategies to deal with them and impute the missing values.\n",
        "\n",
        "The **SimpleImputer** class provides basic strategies for imputing missing values. Missing values can be imputed with a provided **constant** value, or using the **statistics** of each column in which the missing values are located. This class also allows for different missing values encodings."
      ],
      "metadata": {
        "id": "ao1zAtyyhrXh"
      }
    },
    {
      "cell_type": "code",
      "source": [
        "import numpy as np\n",
        "from sklearn.impute import SimpleImputer\n",
        "\n",
        "imp = SimpleImputer(missing_values=np.nan, strategy='mean')\n",
        "X = [[np.nan, 2], [6, np.nan], [7, 6]]\n",
        "print(X)\n",
        "\n",
        "X_new = imp.fit_transform(X)\n",
        "print(X_new)"
      ],
      "metadata": {
        "colab": {
          "base_uri": "https://localhost:8080/"
        },
        "id": "nyQ14bJqw_OO",
        "outputId": "7fe874d8-391f-4389-9f2a-8f6c81864be7"
      },
      "execution_count": null,
      "outputs": [
        {
          "output_type": "stream",
          "name": "stdout",
          "text": [
            "[[nan, 2], [6, nan], [7, 6]]\n",
            "[[6.5 2. ]\n",
            " [6.  4. ]\n",
            " [7.  6. ]]\n"
          ]
        }
      ]
    },
    {
      "cell_type": "markdown",
      "source": [
        "**The SimpleImputer also supports ‘most_frequent’ strategy which replaces the missing value by the most occuring value of the column**"
      ],
      "metadata": {
        "id": "1GYNBil0xd8g"
      }
    },
    {
      "cell_type": "code",
      "source": [
        "import pandas as pd \n",
        "\n",
        "df = pd.DataFrame([[\"a\", \"x\"],\n",
        "                   [np.nan, \"y\"],\n",
        "                   [\"a\", np.nan],\n",
        "                   [\"b\", \"y\"]], dtype=\"category\")\n",
        "\n",
        "imp = SimpleImputer(strategy=\"most_frequent\")\n",
        "imp.fit_transform(df)"
      ],
      "metadata": {
        "colab": {
          "base_uri": "https://localhost:8080/"
        },
        "id": "wphJYRTnxdP9",
        "outputId": "394e5a24-dd75-47a6-f35b-5c188af2e231"
      },
      "execution_count": null,
      "outputs": [
        {
          "output_type": "execute_result",
          "data": {
            "text/plain": [
              "array([['a', 'x'],\n",
              "       ['a', 'y'],\n",
              "       ['a', 'y'],\n",
              "       ['b', 'y']], dtype=object)"
            ]
          },
          "metadata": {},
          "execution_count": 4
        }
      ]
    },
    {
      "cell_type": "markdown",
      "source": [
        "## 2.Generating polynomial features\n",
        "\n",
        "Most of the times while preprocessing, it is better to add complexity in our data. This can be achieved by generating polynomial features using **PolynomialFeatures** function\n",
        "\n"
      ],
      "metadata": {
        "id": "Z11OOfTVxk9u"
      }
    },
    {
      "cell_type": "code",
      "source": [
        "import numpy as np\n",
        "from sklearn.preprocessing import PolynomialFeatures\n",
        "\n",
        "X = np.arange(6).reshape(3, 2)\n",
        "X"
      ],
      "metadata": {
        "colab": {
          "base_uri": "https://localhost:8080/"
        },
        "id": "JC4lmAaRxsrg",
        "outputId": "e0221755-72b8-441d-93ad-5603c564601a"
      },
      "execution_count": null,
      "outputs": [
        {
          "output_type": "execute_result",
          "data": {
            "text/plain": [
              "array([[0, 1],\n",
              "       [2, 3],\n",
              "       [4, 5]])"
            ]
          },
          "metadata": {},
          "execution_count": 8
        }
      ]
    },
    {
      "cell_type": "code",
      "source": [
        "poly = PolynomialFeatures(degree=2)\n",
        "poly.fit_transform(X)"
      ],
      "metadata": {
        "colab": {
          "base_uri": "https://localhost:8080/"
        },
        "id": "6dVjT2M8xvy5",
        "outputId": "e26576d8-507c-4e07-ad4b-26f16b811061"
      },
      "execution_count": null,
      "outputs": [
        {
          "output_type": "execute_result",
          "data": {
            "text/plain": [
              "array([[ 1.,  0.,  1.,  0.,  0.,  1.],\n",
              "       [ 1.,  2.,  3.,  4.,  6.,  9.],\n",
              "       [ 1.,  4.,  5., 16., 20., 25.]])"
            ]
          },
          "metadata": {},
          "execution_count": 9
        }
      ]
    },
    {
      "cell_type": "code",
      "source": [
        "X1 = np.arange(12).reshape(3, 4)\n",
        "X1"
      ],
      "metadata": {
        "colab": {
          "base_uri": "https://localhost:8080/"
        },
        "id": "gtmk46Cl8-D4",
        "outputId": "ec71688a-e95d-49ef-e633-64f97bfbce80"
      },
      "execution_count": null,
      "outputs": [
        {
          "output_type": "execute_result",
          "data": {
            "text/plain": [
              "array([[ 0,  1,  2,  3],\n",
              "       [ 4,  5,  6,  7],\n",
              "       [ 8,  9, 10, 11]])"
            ]
          },
          "metadata": {},
          "execution_count": 10
        }
      ]
    },
    {
      "cell_type": "code",
      "source": [
        "poly.fit_transform(X1)"
      ],
      "metadata": {
        "colab": {
          "base_uri": "https://localhost:8080/"
        },
        "id": "Sk_0gb5O9DqU",
        "outputId": "90e0834a-2b31-49ba-de30-2b53af6cd561"
      },
      "execution_count": null,
      "outputs": [
        {
          "output_type": "execute_result",
          "data": {
            "text/plain": [
              "array([[  1.,   0.,   1.,   2.,   3.,   0.,   0.,   0.,   0.,   1.,   2.,\n",
              "          3.,   4.,   6.,   9.],\n",
              "       [  1.,   4.,   5.,   6.,   7.,  16.,  20.,  24.,  28.,  25.,  30.,\n",
              "         35.,  36.,  42.,  49.],\n",
              "       [  1.,   8.,   9.,  10.,  11.,  64.,  72.,  80.,  88.,  81.,  90.,\n",
              "         99., 100., 110., 121.]])"
            ]
          },
          "metadata": {},
          "execution_count": 11
        }
      ]
    },
    {
      "cell_type": "markdown",
      "source": [
        "* The features of X have been transformed from (X1, X2) to **( 1, X1, X2, X1², X1X2, X2²)**\n",
        "\n",
        "So First column → [1, 1, 1]\n",
        "\n",
        "Second column → X1 → [0, 2, 4]\n",
        "\n",
        "Third column → X2 → [1, 3, 5]\n",
        "\n",
        "Fourth column → X1² → [0, 4, 16]\n",
        "\n",
        "Fifth column → X1X2 → [0, 6, 20]\n",
        "\n",
        "Sixth column → X2² → [1, 9, 25]\n"
      ],
      "metadata": {
        "id": "eelx7XMAx4mC"
      }
    },
    {
      "cell_type": "markdown",
      "source": [
        "## 3.Encoding categorical features\n",
        "\n",
        "For example : the categorical features such as the Country from which a person belongs [ India, USA ], Gender [ Male, Female ]. Such features can be encoded as integers for machines to process them.\n",
        "\n",
        "**OneHotEncoder** helps us in converting categorical variables to numerical features. \n",
        "It transforms each categorical feature with n_categories possible values into n_categories binary features, with one of them 1, and all others 0.\n",
        "\n"
      ],
      "metadata": {
        "id": "m19QeQN2LERX"
      }
    },
    {
      "cell_type": "code",
      "source": [
        "x = [['Basketball','Male','USA'],['Football','Female','UK']]\n",
        "x"
      ],
      "metadata": {
        "colab": {
          "base_uri": "https://localhost:8080/"
        },
        "id": "J2ssPaBWymER",
        "outputId": "8c1ff142-d130-430b-cbf3-1e9cefd151c0"
      },
      "execution_count": null,
      "outputs": [
        {
          "output_type": "execute_result",
          "data": {
            "text/plain": [
              "[['Basketball', 'Male', 'USA'], ['Football', 'Female', 'UK']]"
            ]
          },
          "metadata": {},
          "execution_count": 13
        }
      ]
    },
    {
      "cell_type": "code",
      "source": [
        "from sklearn.preprocessing import OneHotEncoder\n",
        "\n",
        "enc = OneHotEncoder()\n",
        "enc.fit_transform(x).toarray()"
      ],
      "metadata": {
        "colab": {
          "base_uri": "https://localhost:8080/"
        },
        "id": "lU3q17jWx_1m",
        "outputId": "756756c8-a1a0-4e3e-90ed-c788cfef6798"
      },
      "execution_count": null,
      "outputs": [
        {
          "output_type": "execute_result",
          "data": {
            "text/plain": [
              "array([[1., 0., 0., 1., 0., 1.],\n",
              "       [0., 1., 1., 0., 1., 0.]])"
            ]
          },
          "metadata": {},
          "execution_count": 15
        }
      ]
    },
    {
      "cell_type": "code",
      "source": [
        "enc.categories_"
      ],
      "metadata": {
        "colab": {
          "base_uri": "https://localhost:8080/"
        },
        "id": "azL-gQ7ByxPK",
        "outputId": "f11f1439-6370-4eb2-a80e-f10587405d80"
      },
      "execution_count": null,
      "outputs": [
        {
          "output_type": "execute_result",
          "data": {
            "text/plain": [
              "[array(['Basketball', 'Football'], dtype=object),\n",
              " array(['Female', 'Male'], dtype=object),\n",
              " array(['UK', 'USA'], dtype=object)]"
            ]
          },
          "metadata": {},
          "execution_count": 53
        }
      ]
    },
    {
      "cell_type": "code",
      "source": [
        "enc.inverse_transform([[1, 0, 1, 0, 1, 0]])"
      ],
      "metadata": {
        "colab": {
          "base_uri": "https://localhost:8080/"
        },
        "id": "egL76yCBzoRk",
        "outputId": "cf9d7a40-cc53-47fa-afa6-ac42eba58a2a"
      },
      "execution_count": null,
      "outputs": [
        {
          "output_type": "execute_result",
          "data": {
            "text/plain": [
              "array([['Basketball', 'Female', 'UK']], dtype=object)"
            ]
          },
          "metadata": {},
          "execution_count": 56
        }
      ]
    },
    {
      "cell_type": "markdown",
      "source": [
        "## 4.Numerical features\n",
        "\n",
        "Just like categorical data can be encoded, numerical features can be ‘decoded’ into categorical features. The two most common ways to do this are **discretization** and **binarization**.\n"
      ],
      "metadata": {
        "id": "-rsCmw4Qzxoa"
      }
    },
    {
      "cell_type": "markdown",
      "source": [
        "### Discretization\n",
        "\n",
        "Discretization, also known as quantization or binning, **divides a continuous feature into a pre-specified number of categories (bins)** and thus makes the data discrete.\n",
        "\n",
        "\n",
        "**Discretization** is similar to constructing histograms for continuous data. **KBinsDiscretizer** implements different binning strategies, which can be selected with the strategy parameter.\n",
        "\n",
        "By default the output is **one-hot encoded** into a sparse matrix and this can be configured with the **encode** parameter.\n"
      ],
      "metadata": {
        "id": "miLJZf5Q07zi"
      }
    },
    {
      "cell_type": "code",
      "source": [
        "from sklearn.preprocessing import KBinsDiscretizer\n",
        "\n",
        "X = np.array([[ -3., 5., 15 ],\n",
        "              [  0., 6., 14 ],\n",
        "              [  6., 3., 11 ]])\n",
        "\n",
        "est = KBinsDiscretizer(n_bins=[3, 2, 2], encode='ordinal')\n",
        "est.fit_transform(X)"
      ],
      "metadata": {
        "colab": {
          "base_uri": "https://localhost:8080/"
        },
        "id": "794PI-eJ07KX",
        "outputId": "24cd56d2-cd60-4016-ed8b-8b26a6092ec8"
      },
      "execution_count": null,
      "outputs": [
        {
          "output_type": "execute_result",
          "data": {
            "text/plain": [
              "array([[0., 1., 1.],\n",
              "       [1., 1., 1.],\n",
              "       [2., 0., 0.]])"
            ]
          },
          "metadata": {},
          "execution_count": 16
        }
      ]
    },
    {
      "cell_type": "markdown",
      "source": [
        "## 5.Standardization\n",
        "\n"
      ],
      "metadata": {
        "id": "Rf4zHAo75JLO"
      }
    },
    {
      "cell_type": "code",
      "source": [
        "from sklearn import preprocessing\n",
        "import numpy as np\n",
        "\n",
        "# Height array in meters : [ 1, 1.5, 1.2 ]\n",
        "# Weight array in Kgs : [ 72., 81., 75. ]\n",
        "\n",
        "x = np.array([[ 1., 72.],\n",
        "            [ 1.5,  81.],\n",
        "             [1.2, 75.]])\n",
        "x_scaled = preprocessing.scale(x)\n",
        "x_scaled"
      ],
      "metadata": {
        "colab": {
          "base_uri": "https://localhost:8080/"
        },
        "id": "2DzPIbta5Nk4",
        "outputId": "0664065d-1fd6-401a-d332-648bcd825294"
      },
      "execution_count": null,
      "outputs": [
        {
          "output_type": "execute_result",
          "data": {
            "text/plain": [
              "array([[-1.13554995, -1.06904497],\n",
              "       [ 1.29777137,  1.33630621],\n",
              "       [-0.16222142, -0.26726124]])"
            ]
          },
          "metadata": {},
          "execution_count": 18
        }
      ]
    },
    {
      "cell_type": "markdown",
      "source": [
        "* The preprocessing module further provides a utility class **StandardScalar** that implements the Transformer API to compute the mean and standard deviation on a training set so as to be able to later reapply the same transformation on the testing set.\n"
      ],
      "metadata": {
        "id": "Xufff5Bf5ZGi"
      }
    },
    {
      "cell_type": "code",
      "source": [
        "from sklearn.preprocessing import StandardScaler\n",
        "sc = StandardScaler()\n",
        "\n",
        "x_sc = sc.fit_transform(x)\n",
        "x_sc"
      ],
      "metadata": {
        "colab": {
          "base_uri": "https://localhost:8080/"
        },
        "id": "mk5t2jq95YZD",
        "outputId": "979510a6-d619-4023-c1b1-3bdd8fe8fa1c"
      },
      "execution_count": null,
      "outputs": [
        {
          "output_type": "execute_result",
          "data": {
            "text/plain": [
              "array([[-1.13554995, -1.06904497],\n",
              "       [ 1.29777137,  1.33630621],\n",
              "       [-0.16222142, -0.26726124]])"
            ]
          },
          "metadata": {},
          "execution_count": 19
        }
      ]
    },
    {
      "cell_type": "markdown",
      "source": [
        "* We get the same standardize output. Now if we need to get out original array back, we use the inverse_transform function on the same"
      ],
      "metadata": {
        "id": "qI5u_W7e5ndE"
      }
    },
    {
      "cell_type": "code",
      "source": [
        "sc.inverse_transform(x_sc)"
      ],
      "metadata": {
        "colab": {
          "base_uri": "https://localhost:8080/"
        },
        "id": "EBjiQiD15pCq",
        "outputId": "ee46c9a5-6a84-44f5-85c6-67cdaa1cee52"
      },
      "execution_count": null,
      "outputs": [
        {
          "output_type": "execute_result",
          "data": {
            "text/plain": [
              "array([[ 1. , 72. ],\n",
              "       [ 1.5, 81. ],\n",
              "       [ 1.2, 75. ]])"
            ]
          },
          "metadata": {},
          "execution_count": 20
        }
      ]
    },
    {
      "cell_type": "markdown",
      "source": [
        "* An alternative standardization is scaling features to lie between a given minimum and maximum value, often between zero and one, or so that the maximum absolute value of each feature is scaled to unit size. This can be achieved using **MinMaxScaler**."
      ],
      "metadata": {
        "id": "lIMA7Y0E5xcu"
      }
    },
    {
      "cell_type": "markdown",
      "source": [
        "* feature_range parameter inside MinMaxScaler function provides the minimum and maximum value for our scaling feature."
      ],
      "metadata": {
        "id": "5dPLBiyx55Ws"
      }
    },
    {
      "cell_type": "code",
      "source": [
        "from sklearn.preprocessing import MinMaxScaler\n",
        "\n",
        "msc = MinMaxScaler()\n",
        "x_sc = msc.fit_transform(x)\n",
        "x_sc"
      ],
      "metadata": {
        "colab": {
          "base_uri": "https://localhost:8080/"
        },
        "id": "Z_igQuZh5zZI",
        "outputId": "cf10083d-c2e6-4aaa-d425-99045a7620c2"
      },
      "execution_count": null,
      "outputs": [
        {
          "output_type": "execute_result",
          "data": {
            "text/plain": [
              "array([[0.        , 0.        ],\n",
              "       [1.        , 1.        ],\n",
              "       [0.4       , 0.33333333]])"
            ]
          },
          "metadata": {},
          "execution_count": 23
        }
      ]
    },
    {
      "cell_type": "markdown",
      "source": [
        "## 6.Normalization\n",
        "\n",
        "The function **normalize** provides a quick and easy way to perform this operation on a single array-like dataset, either using the **L1** or **L2** norms:"
      ],
      "metadata": {
        "id": "12WFVWi0587a"
      }
    },
    {
      "cell_type": "code",
      "source": [
        "from sklearn.preprocessing import Normalizer\n",
        "\n",
        "nm = Normalizer()\n",
        "x_sc = nm.fit_transform(x)\n",
        "x_sc"
      ],
      "metadata": {
        "colab": {
          "base_uri": "https://localhost:8080/"
        },
        "id": "_Sn4L7bm6Fe2",
        "outputId": "f0f58726-a6d7-4577-ca33-61210d66c91a"
      },
      "execution_count": null,
      "outputs": [
        {
          "output_type": "execute_result",
          "data": {
            "text/plain": [
              "array([[0.01388755, 0.99990356],\n",
              "       [0.01851534, 0.99982858],\n",
              "       [0.01599795, 0.99987202]])"
            ]
          },
          "metadata": {},
          "execution_count": 21
        }
      ]
    },
    {
      "cell_type": "markdown",
      "source": [
        "## Resources\n",
        "\n",
        "The full article: https://towardsdatascience.com/preprocessing-with-sklearn-a-complete-and-comprehensive-guide-670cb98fcfb9\n",
        "\n",
        "\n",
        "1. https://medium.datadriveninvestor.com/the-complete-guide-to-preprocessing-in-scikit-learn-with-code-1bceed4befb6\n",
        "\n",
        "2. https://scikit-learn.org/stable/modules/preprocessing.html\n",
        "\n"
      ],
      "metadata": {
        "id": "GfalJls-3mjr"
      }
    }
  ]
}